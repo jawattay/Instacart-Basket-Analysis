{
 "cells": [
  {
   "cell_type": "markdown",
   "id": "80ded79b-855f-4fe6-8a9b-5dd3c9e53542",
   "metadata": {},
   "source": [
    "# This notebook was created to bypass the memory error occuring in 4.10 Part 1 Step 10."
   ]
  },
  {
   "cell_type": "code",
   "execution_count": 1,
   "id": "ad9cf142-94fb-4fc7-8f18-b078455b617d",
   "metadata": {},
   "outputs": [],
   "source": [
    "# Import Libraries\n",
    "\n",
    "import os\n",
    "import pandas as pd\n",
    "import numpy as np\n",
    "import matplotlib.pyplot as plt\n",
    "import seaborn as sns\n",
    "import scipy\n",
    "import matplotlib.colors as mcolors\n",
    "from matplotlib.patches import Rectangle"
   ]
  },
  {
   "cell_type": "code",
   "execution_count": 2,
   "id": "1ba48bf8-1fec-4ef0-b598-3dcf60197ee1",
   "metadata": {},
   "outputs": [],
   "source": [
    "# Set Path\n",
    "\n",
    "path = r'C:\\Users\\Josh Wattay\\anaconda3\\Instacart Basket Analysis'"
   ]
  },
  {
   "cell_type": "code",
   "execution_count": 3,
   "id": "5e98b116-99dd-4ad0-8c15-ebfc8dbecf27",
   "metadata": {},
   "outputs": [],
   "source": [
    "# Import Data\n",
    "\n",
    "small = pd.read_pickle(os.path.join(path, '02 Data', 'Prepared Data', 'random_sample_with_profiles.pkl'))"
   ]
  },
  {
   "cell_type": "code",
   "execution_count": 4,
   "id": "067578a7-41d3-4700-93da-088376146c6e",
   "metadata": {},
   "outputs": [],
   "source": [
    "# Define Departments with a dictionary\n",
    "\n",
    "department_dictionary = {\n",
    "                            1: 'frozen',\n",
    "                            2: 'other',\n",
    "                            3: 'bakery',\n",
    "                            4: 'produce',\n",
    "                            5: 'alcohol',\n",
    "                            6: 'international',\n",
    "                            7: 'beverages',\n",
    "                            8: 'pets',\n",
    "                            9: 'dry goods pasta',\n",
    "                            10: 'bulk',\n",
    "                            11: 'personal care',\n",
    "                            12: 'meat seafood',\n",
    "                            13: 'pantry',\n",
    "                            14: 'breakfast',\n",
    "                            15: 'canned goods',\n",
    "                            16: 'dairy eggs',\n",
    "                            17: 'household',\n",
    "                            18: 'babies',\n",
    "                            19: 'snacks',\n",
    "                            20: 'deli',\n",
    "                                                    }"
   ]
  },
  {
   "cell_type": "code",
   "execution_count": 5,
   "id": "162f5b8d-3a84-4409-af6d-2eed21c257e4",
   "metadata": {},
   "outputs": [],
   "source": [
    "# Form the department name column and be sure to account for any missing values\n",
    "\n",
    "small['department_name'] = small['department_id'].map(department_dictionary).fillna(\"missing\")"
   ]
  },
  {
   "cell_type": "code",
   "execution_count": null,
   "id": "f2740cd3-fa07-445d-b462-d98057dc2826",
   "metadata": {},
   "outputs": [],
   "source": [
    "# Export final data set\n",
    "\n",
    "small.to_pickle(os.path.join(path, '02 Data', 'Prepared Data', 'final_sample_data_set.pkl'))"
   ]
  },
  {
   "cell_type": "code",
   "execution_count": null,
   "id": "0d539b2e-a6c7-4663-b030-8d16850bbb7d",
   "metadata": {},
   "outputs": [],
   "source": []
  }
 ],
 "metadata": {
  "kernelspec": {
   "display_name": "Python 3 (ipykernel)",
   "language": "python",
   "name": "python3"
  },
  "language_info": {
   "codemirror_mode": {
    "name": "ipython",
    "version": 3
   },
   "file_extension": ".py",
   "mimetype": "text/x-python",
   "name": "python",
   "nbconvert_exporter": "python",
   "pygments_lexer": "ipython3",
   "version": "3.11.5"
  }
 },
 "nbformat": 4,
 "nbformat_minor": 5
}
