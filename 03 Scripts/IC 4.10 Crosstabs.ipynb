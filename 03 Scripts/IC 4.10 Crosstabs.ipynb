{
 "cells": [
  {
   "cell_type": "markdown",
   "id": "65e091b1-722d-444a-8329-7b8eb17886d9",
   "metadata": {},
   "source": [
    "# IC 4.10 Crosstabs Testing"
   ]
  },
  {
   "cell_type": "markdown",
   "id": "567eac30-b7ea-45dd-954d-ac65527a1d96",
   "metadata": {},
   "source": [
    "## This Script contains the following\n",
    "\n",
    "### 1. Creating a Crosstab\n",
    "### 2. Using Excel to Edit Python Text"
   ]
  },
  {
   "cell_type": "code",
   "execution_count": 1,
   "id": "02fc8c9b-8f5c-418a-9c5a-bb18f9aaa97d",
   "metadata": {},
   "outputs": [],
   "source": [
    "# Import Libraries\n",
    "\n",
    "import os\n",
    "import pandas as pd\n",
    "import numpy as np\n",
    "import matplotlib.pyplot as plt\n",
    "import seaborn as sns\n",
    "import scipy"
   ]
  },
  {
   "cell_type": "code",
   "execution_count": 2,
   "id": "4eea6c30-a84d-4b16-9215-101fcac2d861",
   "metadata": {},
   "outputs": [],
   "source": [
    "# Set Path\n",
    "\n",
    "path = r'C:\\Users\\Josh Wattay\\anaconda3\\Instacart Basket Analysis'"
   ]
  },
  {
   "cell_type": "code",
   "execution_count": 3,
   "id": "770ea484-4260-4851-9be5-77ff188f215b",
   "metadata": {},
   "outputs": [],
   "source": [
    "# Import Data\n",
    "\n",
    "insta_merge = pd.read_pickle(os.path.join(path, '02 Data', 'Prepared Data', 'insta_merge.pkl'))"
   ]
  },
  {
   "cell_type": "code",
   "execution_count": 4,
   "id": "d23d9be8-c1b4-47a8-9740-ee115519bd70",
   "metadata": {},
   "outputs": [
    {
     "data": {
      "text/html": [
       "<div>\n",
       "<style scoped>\n",
       "    .dataframe tbody tr th:only-of-type {\n",
       "        vertical-align: middle;\n",
       "    }\n",
       "\n",
       "    .dataframe tbody tr th {\n",
       "        vertical-align: top;\n",
       "    }\n",
       "\n",
       "    .dataframe thead th {\n",
       "        text-align: right;\n",
       "    }\n",
       "</style>\n",
       "<table border=\"1\" class=\"dataframe\">\n",
       "  <thead>\n",
       "    <tr style=\"text-align: right;\">\n",
       "      <th></th>\n",
       "      <th>order_id</th>\n",
       "      <th>user_id</th>\n",
       "      <th>order_number</th>\n",
       "      <th>orders_day_of_week</th>\n",
       "      <th>orders_time_of_day</th>\n",
       "      <th>days_since_prior_order</th>\n",
       "      <th>product_id</th>\n",
       "      <th>add_to_cart_order</th>\n",
       "      <th>reordered</th>\n",
       "      <th>product_name</th>\n",
       "      <th>...</th>\n",
       "      <th>median_days_btwn_orders</th>\n",
       "      <th>order_frequency_flag</th>\n",
       "      <th>Gender</th>\n",
       "      <th>State</th>\n",
       "      <th>Age</th>\n",
       "      <th>date_joined</th>\n",
       "      <th>n_dependants</th>\n",
       "      <th>marital_status</th>\n",
       "      <th>income</th>\n",
       "      <th>merge_ind</th>\n",
       "    </tr>\n",
       "  </thead>\n",
       "  <tbody>\n",
       "    <tr>\n",
       "      <th>0</th>\n",
       "      <td>2539329</td>\n",
       "      <td>1</td>\n",
       "      <td>1</td>\n",
       "      <td>2</td>\n",
       "      <td>8</td>\n",
       "      <td>NaN</td>\n",
       "      <td>196</td>\n",
       "      <td>1</td>\n",
       "      <td>0</td>\n",
       "      <td>Soda</td>\n",
       "      <td>...</td>\n",
       "      <td>20.5</td>\n",
       "      <td>Non-frequent customer</td>\n",
       "      <td>Female</td>\n",
       "      <td>Alabama</td>\n",
       "      <td>31</td>\n",
       "      <td>2/17/2019</td>\n",
       "      <td>3</td>\n",
       "      <td>married</td>\n",
       "      <td>40423</td>\n",
       "      <td>both</td>\n",
       "    </tr>\n",
       "    <tr>\n",
       "      <th>1</th>\n",
       "      <td>2398795</td>\n",
       "      <td>1</td>\n",
       "      <td>2</td>\n",
       "      <td>3</td>\n",
       "      <td>7</td>\n",
       "      <td>15.0</td>\n",
       "      <td>196</td>\n",
       "      <td>1</td>\n",
       "      <td>1</td>\n",
       "      <td>Soda</td>\n",
       "      <td>...</td>\n",
       "      <td>20.5</td>\n",
       "      <td>Non-frequent customer</td>\n",
       "      <td>Female</td>\n",
       "      <td>Alabama</td>\n",
       "      <td>31</td>\n",
       "      <td>2/17/2019</td>\n",
       "      <td>3</td>\n",
       "      <td>married</td>\n",
       "      <td>40423</td>\n",
       "      <td>both</td>\n",
       "    </tr>\n",
       "    <tr>\n",
       "      <th>2</th>\n",
       "      <td>473747</td>\n",
       "      <td>1</td>\n",
       "      <td>3</td>\n",
       "      <td>3</td>\n",
       "      <td>12</td>\n",
       "      <td>21.0</td>\n",
       "      <td>196</td>\n",
       "      <td>1</td>\n",
       "      <td>1</td>\n",
       "      <td>Soda</td>\n",
       "      <td>...</td>\n",
       "      <td>20.5</td>\n",
       "      <td>Non-frequent customer</td>\n",
       "      <td>Female</td>\n",
       "      <td>Alabama</td>\n",
       "      <td>31</td>\n",
       "      <td>2/17/2019</td>\n",
       "      <td>3</td>\n",
       "      <td>married</td>\n",
       "      <td>40423</td>\n",
       "      <td>both</td>\n",
       "    </tr>\n",
       "    <tr>\n",
       "      <th>3</th>\n",
       "      <td>2254736</td>\n",
       "      <td>1</td>\n",
       "      <td>4</td>\n",
       "      <td>4</td>\n",
       "      <td>7</td>\n",
       "      <td>29.0</td>\n",
       "      <td>196</td>\n",
       "      <td>1</td>\n",
       "      <td>1</td>\n",
       "      <td>Soda</td>\n",
       "      <td>...</td>\n",
       "      <td>20.5</td>\n",
       "      <td>Non-frequent customer</td>\n",
       "      <td>Female</td>\n",
       "      <td>Alabama</td>\n",
       "      <td>31</td>\n",
       "      <td>2/17/2019</td>\n",
       "      <td>3</td>\n",
       "      <td>married</td>\n",
       "      <td>40423</td>\n",
       "      <td>both</td>\n",
       "    </tr>\n",
       "    <tr>\n",
       "      <th>4</th>\n",
       "      <td>431534</td>\n",
       "      <td>1</td>\n",
       "      <td>5</td>\n",
       "      <td>4</td>\n",
       "      <td>15</td>\n",
       "      <td>28.0</td>\n",
       "      <td>196</td>\n",
       "      <td>1</td>\n",
       "      <td>1</td>\n",
       "      <td>Soda</td>\n",
       "      <td>...</td>\n",
       "      <td>20.5</td>\n",
       "      <td>Non-frequent customer</td>\n",
       "      <td>Female</td>\n",
       "      <td>Alabama</td>\n",
       "      <td>31</td>\n",
       "      <td>2/17/2019</td>\n",
       "      <td>3</td>\n",
       "      <td>married</td>\n",
       "      <td>40423</td>\n",
       "      <td>both</td>\n",
       "    </tr>\n",
       "  </tbody>\n",
       "</table>\n",
       "<p>5 rows × 31 columns</p>\n",
       "</div>"
      ],
      "text/plain": [
       "   order_id  user_id  order_number  orders_day_of_week  orders_time_of_day  \\\n",
       "0   2539329        1             1                   2                   8   \n",
       "1   2398795        1             2                   3                   7   \n",
       "2    473747        1             3                   3                  12   \n",
       "3   2254736        1             4                   4                   7   \n",
       "4    431534        1             5                   4                  15   \n",
       "\n",
       "   days_since_prior_order  product_id  add_to_cart_order  reordered  \\\n",
       "0                     NaN         196                  1          0   \n",
       "1                    15.0         196                  1          1   \n",
       "2                    21.0         196                  1          1   \n",
       "3                    29.0         196                  1          1   \n",
       "4                    28.0         196                  1          1   \n",
       "\n",
       "  product_name  ...  median_days_btwn_orders   order_frequency_flag  Gender  \\\n",
       "0         Soda  ...                     20.5  Non-frequent customer  Female   \n",
       "1         Soda  ...                     20.5  Non-frequent customer  Female   \n",
       "2         Soda  ...                     20.5  Non-frequent customer  Female   \n",
       "3         Soda  ...                     20.5  Non-frequent customer  Female   \n",
       "4         Soda  ...                     20.5  Non-frequent customer  Female   \n",
       "\n",
       "     State Age date_joined n_dependants  marital_status income  merge_ind  \n",
       "0  Alabama  31   2/17/2019            3         married  40423       both  \n",
       "1  Alabama  31   2/17/2019            3         married  40423       both  \n",
       "2  Alabama  31   2/17/2019            3         married  40423       both  \n",
       "3  Alabama  31   2/17/2019            3         married  40423       both  \n",
       "4  Alabama  31   2/17/2019            3         married  40423       both  \n",
       "\n",
       "[5 rows x 31 columns]"
      ]
     },
     "execution_count": 4,
     "metadata": {},
     "output_type": "execute_result"
    }
   ],
   "source": [
    "# Check output\n",
    "\n",
    "insta_merge.head()"
   ]
  },
  {
   "cell_type": "markdown",
   "id": "8d379026-651d-41c6-b468-ebb1abf261eb",
   "metadata": {},
   "source": [
    "### 1. Creating a Crosstab"
   ]
  },
  {
   "cell_type": "code",
   "execution_count": 9,
   "id": "9bda3876-ae68-4458-9914-69da94d503d7",
   "metadata": {},
   "outputs": [],
   "source": [
    "# Change Days Since Prior Order column datatype to Int16Dtype to ensure its compatible with crosstab function\n",
    "\n",
    "insta_merge['days_since_prior_order'] = insta_merge['days_since_prior_order'].astype(pd.Int16Dtype())"
   ]
  },
  {
   "cell_type": "code",
   "execution_count": 10,
   "id": "25510ec7-24ab-4c3d-8200-cc400cff8af4",
   "metadata": {},
   "outputs": [
    {
     "name": "stdout",
     "output_type": "stream",
     "text": [
      "RangeIndex(start=0, stop=32404859, step=1)\n"
     ]
    }
   ],
   "source": [
    "print(insta_merge.index)"
   ]
  },
  {
   "cell_type": "code",
   "execution_count": 11,
   "id": "41920455-7e16-4dd8-b520-d398aa7012f9",
   "metadata": {},
   "outputs": [],
   "source": [
    "insta_merge.reset_index(inplace=True)"
   ]
  },
  {
   "cell_type": "code",
   "execution_count": 12,
   "id": "2bf36484-0b0d-44b0-ab92-cdd9183f3ee4",
   "metadata": {},
   "outputs": [],
   "source": [
    "# Create a Crosstab to Inspect Days since prior order and Order number - this will let us see whether or not all order numbers are 1 for NaN values in days since prior order\n",
    "\n",
    "crosstab = pd.crosstab(insta_merge['days_since_prior_order'], insta_merge['order_number'], dropna = False)"
   ]
  },
  {
   "cell_type": "code",
   "execution_count": 13,
   "id": "39cc8325-3921-4ba7-a0d5-951d9db3379b",
   "metadata": {},
   "outputs": [],
   "source": [
    "# Copy crosstab to clipboard for pasting into excel\n",
    "\n",
    "crosstab.to_clipboard()"
   ]
  },
  {
   "cell_type": "markdown",
   "id": "69a30945-9c1a-41c1-b456-5645445cd878",
   "metadata": {},
   "source": [
    "### 2. Using Excel to Edit Python Text"
   ]
  },
  {
   "cell_type": "code",
   "execution_count": 16,
   "id": "c4dfd12e-47e2-48fe-9242-c18bf34c4a6a",
   "metadata": {},
   "outputs": [
    {
     "data": {
      "text/plain": [
       "Index(['index', 'order_id', 'user_id', 'order_number', 'orders_day_of_week',\n",
       "       'orders_time_of_day', 'days_since_prior_order', 'product_id',\n",
       "       'add_to_cart_order', 'reordered', 'product_name', 'aisle_id',\n",
       "       'department_id', 'prices', '_merge', 'price_range_loc', 'busiest_days',\n",
       "       'busiest_period_of_day', 'max_order', 'loyalty_flag',\n",
       "       'average_purchase_cost', 'spending_flag', 'median_days_btwn_orders',\n",
       "       'order_frequency_flag', 'Gender', 'State', 'Age', 'date_joined',\n",
       "       'n_dependants', 'marital_status', 'income', 'merge_ind'],\n",
       "      dtype='object')"
      ]
     },
     "execution_count": 16,
     "metadata": {},
     "output_type": "execute_result"
    }
   ],
   "source": [
    "insta_merge.columns"
   ]
  },
  {
   "cell_type": "code",
   "execution_count": null,
   "id": "e3b892ed-f014-4056-8d20-7c3f8f234d8f",
   "metadata": {},
   "outputs": [],
   "source": []
  }
 ],
 "metadata": {
  "kernelspec": {
   "display_name": "Python 3 (ipykernel)",
   "language": "python",
   "name": "python3"
  },
  "language_info": {
   "codemirror_mode": {
    "name": "ipython",
    "version": 3
   },
   "file_extension": ".py",
   "mimetype": "text/x-python",
   "name": "python",
   "nbconvert_exporter": "python",
   "pygments_lexer": "ipython3",
   "version": "3.11.5"
  }
 },
 "nbformat": 4,
 "nbformat_minor": 5
}
