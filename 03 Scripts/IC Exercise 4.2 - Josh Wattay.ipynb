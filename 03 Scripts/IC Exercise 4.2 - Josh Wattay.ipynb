{
 "cells": [
  {
   "cell_type": "code",
   "execution_count": 20,
   "id": "c6087df1",
   "metadata": {},
   "outputs": [],
   "source": [
    "# Section 1: Importing Libraries"
   ]
  },
  {
   "cell_type": "code",
   "execution_count": 1,
   "id": "4505d0e2",
   "metadata": {},
   "outputs": [],
   "source": [
    "# Import libraries\n",
    "import pandas as pd\n",
    "import numpy as np\n",
    "import os\n",
    "# this will import the pandas and numpy libraries while also importing operating system software"
   ]
  },
  {
   "cell_type": "code",
   "execution_count": 21,
   "id": "8b9c9ea7",
   "metadata": {},
   "outputs": [],
   "source": [
    "# Section 2: Working with Python Data Types"
   ]
  },
  {
   "cell_type": "code",
   "execution_count": 2,
   "id": "64423abc",
   "metadata": {},
   "outputs": [],
   "source": [
    "# Integers\n",
    "x = 2"
   ]
  },
  {
   "cell_type": "code",
   "execution_count": 3,
   "id": "37bf0c16",
   "metadata": {},
   "outputs": [
    {
     "data": {
      "text/plain": [
       "2"
      ]
     },
     "execution_count": 3,
     "metadata": {},
     "output_type": "execute_result"
    }
   ],
   "source": [
    "x"
   ]
  },
  {
   "cell_type": "code",
   "execution_count": 4,
   "id": "255f7912",
   "metadata": {},
   "outputs": [
    {
     "name": "stdout",
     "output_type": "stream",
     "text": [
      "2\n"
     ]
    }
   ],
   "source": [
    "print(x)"
   ]
  },
  {
   "cell_type": "code",
   "execution_count": 5,
   "id": "44eb1188",
   "metadata": {},
   "outputs": [
    {
     "data": {
      "text/plain": [
       "int"
      ]
     },
     "execution_count": 5,
     "metadata": {},
     "output_type": "execute_result"
    }
   ],
   "source": [
    "type(x)"
   ]
  },
  {
   "cell_type": "code",
   "execution_count": 23,
   "id": "239a59e6",
   "metadata": {},
   "outputs": [],
   "source": [
    "# Floating-Point Number"
   ]
  },
  {
   "cell_type": "code",
   "execution_count": 6,
   "id": "9069c6ed",
   "metadata": {},
   "outputs": [],
   "source": [
    "y=5.678"
   ]
  },
  {
   "cell_type": "code",
   "execution_count": 7,
   "id": "0dfafd5d",
   "metadata": {},
   "outputs": [
    {
     "data": {
      "text/plain": [
       "float"
      ]
     },
     "execution_count": 7,
     "metadata": {},
     "output_type": "execute_result"
    }
   ],
   "source": [
    "type(y)"
   ]
  },
  {
   "cell_type": "code",
   "execution_count": 22,
   "id": "c325439c",
   "metadata": {},
   "outputs": [],
   "source": [
    "# String"
   ]
  },
  {
   "cell_type": "code",
   "execution_count": 8,
   "id": "f5e3531f",
   "metadata": {},
   "outputs": [],
   "source": [
    "z = 'Brazil'"
   ]
  },
  {
   "cell_type": "code",
   "execution_count": 9,
   "id": "211380ab",
   "metadata": {},
   "outputs": [
    {
     "data": {
      "text/plain": [
       "str"
      ]
     },
     "execution_count": 9,
     "metadata": {},
     "output_type": "execute_result"
    }
   ],
   "source": [
    "type(z)"
   ]
  },
  {
   "cell_type": "code",
   "execution_count": 24,
   "id": "500d35a8",
   "metadata": {},
   "outputs": [],
   "source": [
    "# Boolean"
   ]
  },
  {
   "cell_type": "code",
   "execution_count": 11,
   "id": "2a8f18e2",
   "metadata": {},
   "outputs": [
    {
     "data": {
      "text/plain": [
       "bool"
      ]
     },
     "execution_count": 11,
     "metadata": {},
     "output_type": "execute_result"
    }
   ],
   "source": [
    "type(True)"
   ]
  },
  {
   "cell_type": "code",
   "execution_count": 12,
   "id": "05558f52",
   "metadata": {},
   "outputs": [
    {
     "data": {
      "text/plain": [
       "bool"
      ]
     },
     "execution_count": 12,
     "metadata": {},
     "output_type": "execute_result"
    }
   ],
   "source": [
    "type(False)"
   ]
  },
  {
   "cell_type": "code",
   "execution_count": 25,
   "id": "2526ff62",
   "metadata": {},
   "outputs": [],
   "source": [
    "# Section 3: Exercise 4.2 Questions 7, 8, 9, 10"
   ]
  },
  {
   "cell_type": "code",
   "execution_count": 26,
   "id": "a781c0bb",
   "metadata": {},
   "outputs": [
    {
     "data": {
      "text/plain": [
       "100"
      ]
     },
     "execution_count": 26,
     "metadata": {},
     "output_type": "execute_result"
    }
   ],
   "source": [
    "# Question 7\n",
    "33 + 33 + 34"
   ]
  },
  {
   "cell_type": "code",
   "execution_count": 27,
   "id": "26aec44c",
   "metadata": {},
   "outputs": [
    {
     "data": {
      "text/plain": [
       "100"
      ]
     },
     "execution_count": 27,
     "metadata": {},
     "output_type": "execute_result"
    }
   ],
   "source": [
    "150 - 75 + 25"
   ]
  },
  {
   "cell_type": "code",
   "execution_count": 28,
   "id": "3865538b",
   "metadata": {},
   "outputs": [
    {
     "data": {
      "text/plain": [
       "100"
      ]
     },
     "execution_count": 28,
     "metadata": {},
     "output_type": "execute_result"
    }
   ],
   "source": [
    "10 * 5 + 50"
   ]
  },
  {
   "cell_type": "code",
   "execution_count": 29,
   "id": "9f4547cd",
   "metadata": {},
   "outputs": [],
   "source": [
    "# Question 8\n",
    "x = 5.268\n",
    "y = 3.521"
   ]
  },
  {
   "cell_type": "code",
   "execution_count": 30,
   "id": "16a5d781",
   "metadata": {},
   "outputs": [
    {
     "data": {
      "text/plain": [
       "1.496165861971031"
      ]
     },
     "execution_count": 30,
     "metadata": {},
     "output_type": "execute_result"
    }
   ],
   "source": [
    "x / y"
   ]
  },
  {
   "cell_type": "code",
   "execution_count": 31,
   "id": "16895b75",
   "metadata": {},
   "outputs": [
    {
     "data": {
      "text/plain": [
       "'Football'"
      ]
     },
     "execution_count": 31,
     "metadata": {},
     "output_type": "execute_result"
    }
   ],
   "source": [
    "# Question 9\n",
    "a = 'Foot'\n",
    "b = 'ball'\n",
    "a + b"
   ]
  },
  {
   "cell_type": "code",
   "execution_count": 35,
   "id": "7cef31bb",
   "metadata": {},
   "outputs": [
    {
     "data": {
      "text/plain": [
       "'Their favorite game is chess.'"
      ]
     },
     "execution_count": 35,
     "metadata": {},
     "output_type": "execute_result"
    }
   ],
   "source": [
    "# Question 10\n",
    "c = 'Their '\n",
    "d = 'favorite '\n",
    "e = 'game '\n",
    "f = 'is '\n",
    "g = 'chess.'\n",
    "c + d + e + f + g"
   ]
  },
  {
   "cell_type": "code",
   "execution_count": 36,
   "id": "949e5048",
   "metadata": {},
   "outputs": [
    {
     "data": {
      "text/plain": [
       "'We had so much fun!'"
      ]
     },
     "execution_count": 36,
     "metadata": {},
     "output_type": "execute_result"
    }
   ],
   "source": [
    "aa = 'We '\n",
    "bb = 'had '\n",
    "cc = 'so '\n",
    "dd = 'much '\n",
    "ee = 'fun!'\n",
    "aa + bb + cc + dd + ee"
   ]
  },
  {
   "cell_type": "code",
   "execution_count": 37,
   "id": "b11f2b63",
   "metadata": {},
   "outputs": [
    {
     "data": {
      "text/plain": [
       "'We had so much fun!We had so much fun!We had so much fun!We had so much fun!We had so much fun!We had so much fun!We had so much fun!We had so much fun!We had so much fun!We had so much fun!We had so much fun!We had so much fun!We had so much fun!We had so much fun!We had so much fun!We had so much fun!We had so much fun!We had so much fun!We had so much fun!We had so much fun!We had so much fun!We had so much fun!We had so much fun!We had so much fun!We had so much fun!We had so much fun!We had so much fun!We had so much fun!We had so much fun!We had so much fun!We had so much fun!We had so much fun!We had so much fun!We had so much fun!We had so much fun!We had so much fun!We had so much fun!We had so much fun!We had so much fun!We had so much fun!We had so much fun!We had so much fun!We had so much fun!We had so much fun!We had so much fun!We had so much fun!We had so much fun!We had so much fun!We had so much fun!We had so much fun!We had so much fun!We had so much fun!We had so much fun!We had so much fun!We had so much fun!We had so much fun!We had so much fun!We had so much fun!We had so much fun!We had so much fun!We had so much fun!We had so much fun!We had so much fun!We had so much fun!We had so much fun!We had so much fun!We had so much fun!We had so much fun!We had so much fun!We had so much fun!We had so much fun!We had so much fun!We had so much fun!We had so much fun!We had so much fun!We had so much fun!We had so much fun!We had so much fun!We had so much fun!We had so much fun!We had so much fun!We had so much fun!We had so much fun!We had so much fun!We had so much fun!We had so much fun!We had so much fun!We had so much fun!We had so much fun!We had so much fun!We had so much fun!We had so much fun!We had so much fun!We had so much fun!We had so much fun!We had so much fun!We had so much fun!We had so much fun!We had so much fun!We had so much fun!'"
      ]
     },
     "execution_count": 37,
     "metadata": {},
     "output_type": "execute_result"
    }
   ],
   "source": [
    "# Bonus Task\n",
    "(aa+bb+cc+dd+ee)*100"
   ]
  },
  {
   "cell_type": "code",
   "execution_count": null,
   "id": "b0f3769c",
   "metadata": {},
   "outputs": [],
   "source": []
  }
 ],
 "metadata": {
  "kernelspec": {
   "display_name": "Python 3 (ipykernel)",
   "language": "python",
   "name": "python3"
  },
  "language_info": {
   "codemirror_mode": {
    "name": "ipython",
    "version": 3
   },
   "file_extension": ".py",
   "mimetype": "text/x-python",
   "name": "python",
   "nbconvert_exporter": "python",
   "pygments_lexer": "ipython3",
   "version": "3.11.5"
  }
 },
 "nbformat": 4,
 "nbformat_minor": 5
}
