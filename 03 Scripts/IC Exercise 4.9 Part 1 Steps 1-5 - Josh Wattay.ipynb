{
 "cells": [
  {
   "cell_type": "markdown",
   "id": "03c035ca-7695-465d-9916-b5c7fc0bd615",
   "metadata": {},
   "source": [
    "# Exercise 4.9 Part 1 Steps 1-5"
   ]
  },
  {
   "cell_type": "markdown",
   "id": "64779080-6e1a-4644-91c6-a4a63e1f562b",
   "metadata": {},
   "source": [
    "## This script will contain the following:\n",
    "\n",
    "### Step 1 - Download customer data set and add to original data folder\n",
    "### Step 2 - Create New Notebook in scripts folder for part 1 of this task\n",
    "### Step 3 - Import Analysis Libraries and Customer data set as dataframe\n",
    "### Step 4 - Wrangle the Data so that it follows consistent logic\n",
    "### Step 5 - Complete fundamental data quality and consistency checks"
   ]
  },
  {
   "cell_type": "code",
   "execution_count": 1,
   "id": "1305ff65-7009-40bc-a6e6-3d7149bbced8",
   "metadata": {},
   "outputs": [],
   "source": [
    "# Some of these steps are completed outside of this script, these will be addressed in markdown kernels."
   ]
  },
  {
   "cell_type": "markdown",
   "id": "d3ea75cf-a861-4818-bed7-009f20e0e8b8",
   "metadata": {},
   "source": [
    "#### Step 1 - Download customer data set and add to original data folder"
   ]
  },
  {
   "cell_type": "markdown",
   "id": "1c53b806-06bf-4b1c-b648-f03cc104324b",
   "metadata": {},
   "source": [
    "The customer data set was downloaded and added to the original data folder in the Instacart analysis folder."
   ]
  },
  {
   "cell_type": "markdown",
   "id": "0b0818e9-a5fe-47b5-bd21-9086dc108ce4",
   "metadata": {},
   "source": [
    "#### Step 2 - Create New Notebook in Scripts folder for part 1 of this task"
   ]
  },
  {
   "cell_type": "markdown",
   "id": "da4b870b-dcc6-4b58-be4c-d66b6dac7314",
   "metadata": {},
   "source": [
    "This notebook was created for the purposes of Step 2."
   ]
  },
  {
   "cell_type": "markdown",
   "id": "56d55a4c-80b1-4a92-8d60-5f05d12c090e",
   "metadata": {},
   "source": [
    "#### Step 3 - Import Analysis Libraries and customer data set as dataframe"
   ]
  },
  {
   "cell_type": "code",
   "execution_count": 2,
   "id": "7236966e-9b44-465e-b651-b0739a001356",
   "metadata": {},
   "outputs": [],
   "source": [
    "# Import libraries\n",
    "\n",
    "import os\n",
    "import pandas as pd\n",
    "import numpy as np\n",
    "import matplotlib.pyplot as plt\n",
    "import seaborn as sns\n",
    "import scipy"
   ]
  },
  {
   "cell_type": "code",
   "execution_count": 3,
   "id": "264b71b0-2865-4ca4-95da-3bc689f5fffe",
   "metadata": {},
   "outputs": [],
   "source": [
    "# Set Path\n",
    "\n",
    "path = r'C:\\Users\\Josh Wattay\\anaconda3\\Instacart Basket Analysis'"
   ]
  },
  {
   "cell_type": "code",
   "execution_count": 4,
   "id": "1ecd0308-5cd6-4f82-a598-39a7844aca1f",
   "metadata": {},
   "outputs": [],
   "source": [
    "# Import customer data set as dataframe\n",
    "\n",
    "customers = pd.read_csv(os.path.join(path, '02 Data', 'Original Data', 'customers.csv'))"
   ]
  },
  {
   "cell_type": "code",
   "execution_count": 5,
   "id": "e39e0137-0ccd-47f6-9e3a-3ec48de2697f",
   "metadata": {},
   "outputs": [
    {
     "data": {
      "text/html": [
       "<div>\n",
       "<style scoped>\n",
       "    .dataframe tbody tr th:only-of-type {\n",
       "        vertical-align: middle;\n",
       "    }\n",
       "\n",
       "    .dataframe tbody tr th {\n",
       "        vertical-align: top;\n",
       "    }\n",
       "\n",
       "    .dataframe thead th {\n",
       "        text-align: right;\n",
       "    }\n",
       "</style>\n",
       "<table border=\"1\" class=\"dataframe\">\n",
       "  <thead>\n",
       "    <tr style=\"text-align: right;\">\n",
       "      <th></th>\n",
       "      <th>user_id</th>\n",
       "      <th>First Name</th>\n",
       "      <th>Surnam</th>\n",
       "      <th>Gender</th>\n",
       "      <th>STATE</th>\n",
       "      <th>Age</th>\n",
       "      <th>date_joined</th>\n",
       "      <th>n_dependants</th>\n",
       "      <th>fam_status</th>\n",
       "      <th>income</th>\n",
       "    </tr>\n",
       "  </thead>\n",
       "  <tbody>\n",
       "    <tr>\n",
       "      <th>0</th>\n",
       "      <td>26711</td>\n",
       "      <td>Deborah</td>\n",
       "      <td>Esquivel</td>\n",
       "      <td>Female</td>\n",
       "      <td>Missouri</td>\n",
       "      <td>48</td>\n",
       "      <td>1/1/2017</td>\n",
       "      <td>3</td>\n",
       "      <td>married</td>\n",
       "      <td>165665</td>\n",
       "    </tr>\n",
       "    <tr>\n",
       "      <th>1</th>\n",
       "      <td>33890</td>\n",
       "      <td>Patricia</td>\n",
       "      <td>Hart</td>\n",
       "      <td>Female</td>\n",
       "      <td>New Mexico</td>\n",
       "      <td>36</td>\n",
       "      <td>1/1/2017</td>\n",
       "      <td>0</td>\n",
       "      <td>single</td>\n",
       "      <td>59285</td>\n",
       "    </tr>\n",
       "    <tr>\n",
       "      <th>2</th>\n",
       "      <td>65803</td>\n",
       "      <td>Kenneth</td>\n",
       "      <td>Farley</td>\n",
       "      <td>Male</td>\n",
       "      <td>Idaho</td>\n",
       "      <td>35</td>\n",
       "      <td>1/1/2017</td>\n",
       "      <td>2</td>\n",
       "      <td>married</td>\n",
       "      <td>99568</td>\n",
       "    </tr>\n",
       "    <tr>\n",
       "      <th>3</th>\n",
       "      <td>125935</td>\n",
       "      <td>Michelle</td>\n",
       "      <td>Hicks</td>\n",
       "      <td>Female</td>\n",
       "      <td>Iowa</td>\n",
       "      <td>40</td>\n",
       "      <td>1/1/2017</td>\n",
       "      <td>0</td>\n",
       "      <td>single</td>\n",
       "      <td>42049</td>\n",
       "    </tr>\n",
       "    <tr>\n",
       "      <th>4</th>\n",
       "      <td>130797</td>\n",
       "      <td>Ann</td>\n",
       "      <td>Gilmore</td>\n",
       "      <td>Female</td>\n",
       "      <td>Maryland</td>\n",
       "      <td>26</td>\n",
       "      <td>1/1/2017</td>\n",
       "      <td>1</td>\n",
       "      <td>married</td>\n",
       "      <td>40374</td>\n",
       "    </tr>\n",
       "  </tbody>\n",
       "</table>\n",
       "</div>"
      ],
      "text/plain": [
       "   user_id First Name    Surnam  Gender       STATE  Age date_joined  \\\n",
       "0    26711    Deborah  Esquivel  Female    Missouri   48    1/1/2017   \n",
       "1    33890   Patricia      Hart  Female  New Mexico   36    1/1/2017   \n",
       "2    65803    Kenneth    Farley    Male       Idaho   35    1/1/2017   \n",
       "3   125935   Michelle     Hicks  Female        Iowa   40    1/1/2017   \n",
       "4   130797        Ann   Gilmore  Female    Maryland   26    1/1/2017   \n",
       "\n",
       "   n_dependants fam_status  income  \n",
       "0             3    married  165665  \n",
       "1             0     single   59285  \n",
       "2             2    married   99568  \n",
       "3             0     single   42049  \n",
       "4             1    married   40374  "
      ]
     },
     "execution_count": 5,
     "metadata": {},
     "output_type": "execute_result"
    }
   ],
   "source": [
    "# Check output and shape\n",
    "\n",
    "customers.head()"
   ]
  },
  {
   "cell_type": "code",
   "execution_count": 6,
   "id": "6421beb2-5675-44eb-ae75-7ff51573dff2",
   "metadata": {},
   "outputs": [
    {
     "data": {
      "text/plain": [
       "(206209, 10)"
      ]
     },
     "execution_count": 6,
     "metadata": {},
     "output_type": "execute_result"
    }
   ],
   "source": [
    "customers.shape"
   ]
  },
  {
   "cell_type": "code",
   "execution_count": 9,
   "id": "2b05471b-8397-4c22-90ed-396c53be211b",
   "metadata": {},
   "outputs": [
    {
     "name": "stdout",
     "output_type": "stream",
     "text": [
      "<class 'pandas.core.frame.DataFrame'>\n",
      "RangeIndex: 206209 entries, 0 to 206208\n",
      "Data columns (total 10 columns):\n",
      " #   Column        Non-Null Count   Dtype \n",
      "---  ------        --------------   ----- \n",
      " 0   user_id       206209 non-null  int64 \n",
      " 1   First Name    194950 non-null  object\n",
      " 2   Surnam        206209 non-null  object\n",
      " 3   Gender        206209 non-null  object\n",
      " 4   STATE         206209 non-null  object\n",
      " 5   Age           206209 non-null  int64 \n",
      " 6   date_joined   206209 non-null  object\n",
      " 7   n_dependants  206209 non-null  int64 \n",
      " 8   fam_status    206209 non-null  object\n",
      " 9   income        206209 non-null  int64 \n",
      "dtypes: int64(4), object(6)\n",
      "memory usage: 15.7+ MB\n"
     ]
    }
   ],
   "source": [
    "customers.info()"
   ]
  },
  {
   "cell_type": "markdown",
   "id": "6873966f-daa6-40f3-af37-8d01ae00279d",
   "metadata": {},
   "source": [
    "At first glance, there appear to be several thousand first name entries missing. Fortunately, there are no mixed datatypes."
   ]
  },
  {
   "cell_type": "markdown",
   "id": "d17d70e1-ad8c-48a2-b868-03f5ea90966d",
   "metadata": {},
   "source": [
    "#### Step 4 - Wrangle the Data so that it follows consistent logic"
   ]
  },
  {
   "cell_type": "markdown",
   "id": "c6c1ed64-f3db-46ca-b5e3-218348bf95ee",
   "metadata": {},
   "source": [
    "The surname column is mispelled and I would like to rename fam_status to marital_status to be more specific."
   ]
  },
  {
   "cell_type": "code",
   "execution_count": 14,
   "id": "9b2b5fbb-463c-4298-8e05-c3e9b0c7e5cb",
   "metadata": {},
   "outputs": [
    {
     "data": {
      "text/plain": [
       "'1/1/2017'"
      ]
     },
     "execution_count": 14,
     "metadata": {},
     "output_type": "execute_result"
    }
   ],
   "source": [
    "# I want to see the metrics of the date joined column to inspect whether or not it will be relevant to analyze\n",
    "\n",
    "customers['date_joined'].min()"
   ]
  },
  {
   "cell_type": "code",
   "execution_count": 15,
   "id": "99576e6f-5c26-4107-ae3e-c413b009640b",
   "metadata": {},
   "outputs": [
    {
     "data": {
      "text/plain": [
       "'9/9/2019'"
      ]
     },
     "execution_count": 15,
     "metadata": {},
     "output_type": "execute_result"
    }
   ],
   "source": [
    "customers['date_joined'].max()"
   ]
  },
  {
   "cell_type": "code",
   "execution_count": 16,
   "id": "5b482ec3-2b10-43bb-9902-0a6c3fe3f3dd",
   "metadata": {},
   "outputs": [],
   "source": [
    "# I will keep this column as the date joined will be useful to analyze spending patterns of customers over time"
   ]
  },
  {
   "cell_type": "code",
   "execution_count": 17,
   "id": "e7dcf65c-7027-496b-b5b6-1ad21d980dcd",
   "metadata": {},
   "outputs": [
    {
     "data": {
      "text/html": [
       "<div>\n",
       "<style scoped>\n",
       "    .dataframe tbody tr th:only-of-type {\n",
       "        vertical-align: middle;\n",
       "    }\n",
       "\n",
       "    .dataframe tbody tr th {\n",
       "        vertical-align: top;\n",
       "    }\n",
       "\n",
       "    .dataframe thead th {\n",
       "        text-align: right;\n",
       "    }\n",
       "</style>\n",
       "<table border=\"1\" class=\"dataframe\">\n",
       "  <thead>\n",
       "    <tr style=\"text-align: right;\">\n",
       "      <th></th>\n",
       "      <th>user_id</th>\n",
       "      <th>Age</th>\n",
       "      <th>n_dependants</th>\n",
       "      <th>income</th>\n",
       "    </tr>\n",
       "  </thead>\n",
       "  <tbody>\n",
       "    <tr>\n",
       "      <th>count</th>\n",
       "      <td>206209.000000</td>\n",
       "      <td>206209.000000</td>\n",
       "      <td>206209.000000</td>\n",
       "      <td>206209.000000</td>\n",
       "    </tr>\n",
       "    <tr>\n",
       "      <th>mean</th>\n",
       "      <td>103105.000000</td>\n",
       "      <td>49.501646</td>\n",
       "      <td>1.499823</td>\n",
       "      <td>94632.852548</td>\n",
       "    </tr>\n",
       "    <tr>\n",
       "      <th>std</th>\n",
       "      <td>59527.555167</td>\n",
       "      <td>18.480962</td>\n",
       "      <td>1.118433</td>\n",
       "      <td>42473.786988</td>\n",
       "    </tr>\n",
       "    <tr>\n",
       "      <th>min</th>\n",
       "      <td>1.000000</td>\n",
       "      <td>18.000000</td>\n",
       "      <td>0.000000</td>\n",
       "      <td>25903.000000</td>\n",
       "    </tr>\n",
       "    <tr>\n",
       "      <th>25%</th>\n",
       "      <td>51553.000000</td>\n",
       "      <td>33.000000</td>\n",
       "      <td>0.000000</td>\n",
       "      <td>59874.000000</td>\n",
       "    </tr>\n",
       "    <tr>\n",
       "      <th>50%</th>\n",
       "      <td>103105.000000</td>\n",
       "      <td>49.000000</td>\n",
       "      <td>1.000000</td>\n",
       "      <td>93547.000000</td>\n",
       "    </tr>\n",
       "    <tr>\n",
       "      <th>75%</th>\n",
       "      <td>154657.000000</td>\n",
       "      <td>66.000000</td>\n",
       "      <td>3.000000</td>\n",
       "      <td>124244.000000</td>\n",
       "    </tr>\n",
       "    <tr>\n",
       "      <th>max</th>\n",
       "      <td>206209.000000</td>\n",
       "      <td>81.000000</td>\n",
       "      <td>3.000000</td>\n",
       "      <td>593901.000000</td>\n",
       "    </tr>\n",
       "  </tbody>\n",
       "</table>\n",
       "</div>"
      ],
      "text/plain": [
       "             user_id            Age   n_dependants         income\n",
       "count  206209.000000  206209.000000  206209.000000  206209.000000\n",
       "mean   103105.000000      49.501646       1.499823   94632.852548\n",
       "std     59527.555167      18.480962       1.118433   42473.786988\n",
       "min         1.000000      18.000000       0.000000   25903.000000\n",
       "25%     51553.000000      33.000000       0.000000   59874.000000\n",
       "50%    103105.000000      49.000000       1.000000   93547.000000\n",
       "75%    154657.000000      66.000000       3.000000  124244.000000\n",
       "max    206209.000000      81.000000       3.000000  593901.000000"
      ]
     },
     "execution_count": 17,
     "metadata": {},
     "output_type": "execute_result"
    }
   ],
   "source": [
    "# Descriptive stats check\n",
    "\n",
    "customers.describe()"
   ]
  },
  {
   "cell_type": "markdown",
   "id": "234caff3-0d10-46f4-85a4-ac3ac19fdaea",
   "metadata": {},
   "source": [
    "There may be a few outliers in the income column but the rest of the columns descriptive statistics look fine."
   ]
  },
  {
   "cell_type": "code",
   "execution_count": 19,
   "id": "bc77bb96-7136-4a96-955c-6ccc1d859009",
   "metadata": {},
   "outputs": [
    {
     "data": {
      "text/plain": [
       "51"
      ]
     },
     "execution_count": 19,
     "metadata": {},
     "output_type": "execute_result"
    }
   ],
   "source": [
    "# I now want to make sure all of the states are accounted for in the STATE column\n",
    "\n",
    "customers['STATE'].nunique()"
   ]
  },
  {
   "cell_type": "markdown",
   "id": "bc5689ab-85d1-4d5c-8833-1b56824161af",
   "metadata": {},
   "source": [
    "There are 51 states, perhaps this includes Washington D.C."
   ]
  },
  {
   "cell_type": "code",
   "execution_count": 20,
   "id": "89b43b36-8a52-4d60-915d-eae9dd664704",
   "metadata": {},
   "outputs": [],
   "source": [
    "# Use str.contains to search for rows containing \"DC\"\n",
    "\n",
    "dc_rows = customers[customers['STATE'].str.contains('DC', case=False, na=False)]"
   ]
  },
  {
   "cell_type": "code",
   "execution_count": 21,
   "id": "5dc746fd-8b93-4a3e-b7a7-3e4f80a3e8ff",
   "metadata": {},
   "outputs": [
    {
     "data": {
      "text/html": [
       "<div>\n",
       "<style scoped>\n",
       "    .dataframe tbody tr th:only-of-type {\n",
       "        vertical-align: middle;\n",
       "    }\n",
       "\n",
       "    .dataframe tbody tr th {\n",
       "        vertical-align: top;\n",
       "    }\n",
       "\n",
       "    .dataframe thead th {\n",
       "        text-align: right;\n",
       "    }\n",
       "</style>\n",
       "<table border=\"1\" class=\"dataframe\">\n",
       "  <thead>\n",
       "    <tr style=\"text-align: right;\">\n",
       "      <th></th>\n",
       "      <th>user_id</th>\n",
       "      <th>First Name</th>\n",
       "      <th>Surnam</th>\n",
       "      <th>Gender</th>\n",
       "      <th>STATE</th>\n",
       "      <th>Age</th>\n",
       "      <th>date_joined</th>\n",
       "      <th>n_dependants</th>\n",
       "      <th>fam_status</th>\n",
       "      <th>income</th>\n",
       "    </tr>\n",
       "  </thead>\n",
       "  <tbody>\n",
       "  </tbody>\n",
       "</table>\n",
       "</div>"
      ],
      "text/plain": [
       "Empty DataFrame\n",
       "Columns: [user_id, First Name, Surnam, Gender, STATE, Age, date_joined, n_dependants, fam_status, income]\n",
       "Index: []"
      ]
     },
     "execution_count": 21,
     "metadata": {},
     "output_type": "execute_result"
    }
   ],
   "source": [
    "# Check output\n",
    "\n",
    "dc_rows"
   ]
  },
  {
   "cell_type": "code",
   "execution_count": 22,
   "id": "8cac84a5-dc72-4099-b360-e75de82bce3f",
   "metadata": {},
   "outputs": [],
   "source": [
    "# Rerun str.contains with \"D.C.\"\n",
    "\n",
    "dc_rows = customers[customers['STATE'].str.contains('D.C.', case=False, na=False)]"
   ]
  },
  {
   "cell_type": "code",
   "execution_count": 23,
   "id": "1215c3d8-1ffa-486c-894b-77d5cd7c310e",
   "metadata": {},
   "outputs": [
    {
     "data": {
      "text/html": [
       "<div>\n",
       "<style scoped>\n",
       "    .dataframe tbody tr th:only-of-type {\n",
       "        vertical-align: middle;\n",
       "    }\n",
       "\n",
       "    .dataframe tbody tr th {\n",
       "        vertical-align: top;\n",
       "    }\n",
       "\n",
       "    .dataframe thead th {\n",
       "        text-align: right;\n",
       "    }\n",
       "</style>\n",
       "<table border=\"1\" class=\"dataframe\">\n",
       "  <thead>\n",
       "    <tr style=\"text-align: right;\">\n",
       "      <th></th>\n",
       "      <th>user_id</th>\n",
       "      <th>First Name</th>\n",
       "      <th>Surnam</th>\n",
       "      <th>Gender</th>\n",
       "      <th>STATE</th>\n",
       "      <th>Age</th>\n",
       "      <th>date_joined</th>\n",
       "      <th>n_dependants</th>\n",
       "      <th>fam_status</th>\n",
       "      <th>income</th>\n",
       "    </tr>\n",
       "  </thead>\n",
       "  <tbody>\n",
       "  </tbody>\n",
       "</table>\n",
       "</div>"
      ],
      "text/plain": [
       "Empty DataFrame\n",
       "Columns: [user_id, First Name, Surnam, Gender, STATE, Age, date_joined, n_dependants, fam_status, income]\n",
       "Index: []"
      ]
     },
     "execution_count": 23,
     "metadata": {},
     "output_type": "execute_result"
    }
   ],
   "source": [
    "# Check output\n",
    "\n",
    "dc_rows"
   ]
  },
  {
   "cell_type": "code",
   "execution_count": 24,
   "id": "ad23812e-60bf-4fee-99d9-12bb849d59d8",
   "metadata": {},
   "outputs": [],
   "source": [
    "# Rerun str.contains with \"District\"\n",
    "\n",
    "dc_rows = customers[customers['STATE'].str.contains('District', case=False, na=False)]"
   ]
  },
  {
   "cell_type": "code",
   "execution_count": 25,
   "id": "f8425778-3b43-4131-939b-3bc0679af265",
   "metadata": {},
   "outputs": [
    {
     "data": {
      "text/html": [
       "<div>\n",
       "<style scoped>\n",
       "    .dataframe tbody tr th:only-of-type {\n",
       "        vertical-align: middle;\n",
       "    }\n",
       "\n",
       "    .dataframe tbody tr th {\n",
       "        vertical-align: top;\n",
       "    }\n",
       "\n",
       "    .dataframe thead th {\n",
       "        text-align: right;\n",
       "    }\n",
       "</style>\n",
       "<table border=\"1\" class=\"dataframe\">\n",
       "  <thead>\n",
       "    <tr style=\"text-align: right;\">\n",
       "      <th></th>\n",
       "      <th>user_id</th>\n",
       "      <th>First Name</th>\n",
       "      <th>Surnam</th>\n",
       "      <th>Gender</th>\n",
       "      <th>STATE</th>\n",
       "      <th>Age</th>\n",
       "      <th>date_joined</th>\n",
       "      <th>n_dependants</th>\n",
       "      <th>fam_status</th>\n",
       "      <th>income</th>\n",
       "    </tr>\n",
       "  </thead>\n",
       "  <tbody>\n",
       "    <tr>\n",
       "      <th>91</th>\n",
       "      <td>202887</td>\n",
       "      <td>John</td>\n",
       "      <td>Harris</td>\n",
       "      <td>Male</td>\n",
       "      <td>District of Columbia</td>\n",
       "      <td>20</td>\n",
       "      <td>1/1/2017</td>\n",
       "      <td>3</td>\n",
       "      <td>living with parents and siblings</td>\n",
       "      <td>84380</td>\n",
       "    </tr>\n",
       "    <tr>\n",
       "      <th>122</th>\n",
       "      <td>155355</td>\n",
       "      <td>Bonnie</td>\n",
       "      <td>Richardson</td>\n",
       "      <td>Female</td>\n",
       "      <td>District of Columbia</td>\n",
       "      <td>60</td>\n",
       "      <td>1/1/2017</td>\n",
       "      <td>1</td>\n",
       "      <td>married</td>\n",
       "      <td>115744</td>\n",
       "    </tr>\n",
       "    <tr>\n",
       "      <th>225</th>\n",
       "      <td>25305</td>\n",
       "      <td>Aaron</td>\n",
       "      <td>Beck</td>\n",
       "      <td>Male</td>\n",
       "      <td>District of Columbia</td>\n",
       "      <td>43</td>\n",
       "      <td>1/2/2017</td>\n",
       "      <td>3</td>\n",
       "      <td>married</td>\n",
       "      <td>40127</td>\n",
       "    </tr>\n",
       "    <tr>\n",
       "      <th>342</th>\n",
       "      <td>98745</td>\n",
       "      <td>Karen</td>\n",
       "      <td>Parker</td>\n",
       "      <td>Female</td>\n",
       "      <td>District of Columbia</td>\n",
       "      <td>50</td>\n",
       "      <td>1/3/2017</td>\n",
       "      <td>2</td>\n",
       "      <td>married</td>\n",
       "      <td>146183</td>\n",
       "    </tr>\n",
       "    <tr>\n",
       "      <th>551</th>\n",
       "      <td>163821</td>\n",
       "      <td>Sandra</td>\n",
       "      <td>Blankenship</td>\n",
       "      <td>Female</td>\n",
       "      <td>District of Columbia</td>\n",
       "      <td>31</td>\n",
       "      <td>1/4/2017</td>\n",
       "      <td>2</td>\n",
       "      <td>married</td>\n",
       "      <td>81922</td>\n",
       "    </tr>\n",
       "    <tr>\n",
       "      <th>...</th>\n",
       "      <td>...</td>\n",
       "      <td>...</td>\n",
       "      <td>...</td>\n",
       "      <td>...</td>\n",
       "      <td>...</td>\n",
       "      <td>...</td>\n",
       "      <td>...</td>\n",
       "      <td>...</td>\n",
       "      <td>...</td>\n",
       "      <td>...</td>\n",
       "    </tr>\n",
       "    <tr>\n",
       "      <th>205821</th>\n",
       "      <td>192177</td>\n",
       "      <td>Robin</td>\n",
       "      <td>Ward</td>\n",
       "      <td>Female</td>\n",
       "      <td>District of Columbia</td>\n",
       "      <td>63</td>\n",
       "      <td>3/30/2020</td>\n",
       "      <td>2</td>\n",
       "      <td>married</td>\n",
       "      <td>144042</td>\n",
       "    </tr>\n",
       "    <tr>\n",
       "      <th>205863</th>\n",
       "      <td>126591</td>\n",
       "      <td>Shirley</td>\n",
       "      <td>Ellis</td>\n",
       "      <td>Female</td>\n",
       "      <td>District of Columbia</td>\n",
       "      <td>20</td>\n",
       "      <td>3/30/2020</td>\n",
       "      <td>1</td>\n",
       "      <td>living with parents and siblings</td>\n",
       "      <td>56023</td>\n",
       "    </tr>\n",
       "    <tr>\n",
       "      <th>206078</th>\n",
       "      <td>134292</td>\n",
       "      <td>Sarah</td>\n",
       "      <td>Rich</td>\n",
       "      <td>Female</td>\n",
       "      <td>District of Columbia</td>\n",
       "      <td>28</td>\n",
       "      <td>4/1/2020</td>\n",
       "      <td>0</td>\n",
       "      <td>single</td>\n",
       "      <td>36946</td>\n",
       "    </tr>\n",
       "    <tr>\n",
       "      <th>206104</th>\n",
       "      <td>723</td>\n",
       "      <td>Alice</td>\n",
       "      <td>Mayo</td>\n",
       "      <td>Female</td>\n",
       "      <td>District of Columbia</td>\n",
       "      <td>48</td>\n",
       "      <td>4/1/2020</td>\n",
       "      <td>2</td>\n",
       "      <td>married</td>\n",
       "      <td>123120</td>\n",
       "    </tr>\n",
       "    <tr>\n",
       "      <th>206117</th>\n",
       "      <td>89106</td>\n",
       "      <td>Kathy</td>\n",
       "      <td>Avila</td>\n",
       "      <td>Female</td>\n",
       "      <td>District of Columbia</td>\n",
       "      <td>44</td>\n",
       "      <td>4/1/2020</td>\n",
       "      <td>2</td>\n",
       "      <td>married</td>\n",
       "      <td>72948</td>\n",
       "    </tr>\n",
       "  </tbody>\n",
       "</table>\n",
       "<p>4044 rows × 10 columns</p>\n",
       "</div>"
      ],
      "text/plain": [
       "        user_id First Name       Surnam  Gender                 STATE  Age  \\\n",
       "91       202887       John       Harris    Male  District of Columbia   20   \n",
       "122      155355     Bonnie   Richardson  Female  District of Columbia   60   \n",
       "225       25305      Aaron         Beck    Male  District of Columbia   43   \n",
       "342       98745      Karen       Parker  Female  District of Columbia   50   \n",
       "551      163821     Sandra  Blankenship  Female  District of Columbia   31   \n",
       "...         ...        ...          ...     ...                   ...  ...   \n",
       "205821   192177      Robin         Ward  Female  District of Columbia   63   \n",
       "205863   126591    Shirley        Ellis  Female  District of Columbia   20   \n",
       "206078   134292      Sarah         Rich  Female  District of Columbia   28   \n",
       "206104      723      Alice         Mayo  Female  District of Columbia   48   \n",
       "206117    89106      Kathy        Avila  Female  District of Columbia   44   \n",
       "\n",
       "       date_joined  n_dependants                        fam_status  income  \n",
       "91        1/1/2017             3  living with parents and siblings   84380  \n",
       "122       1/1/2017             1                           married  115744  \n",
       "225       1/2/2017             3                           married   40127  \n",
       "342       1/3/2017             2                           married  146183  \n",
       "551       1/4/2017             2                           married   81922  \n",
       "...            ...           ...                               ...     ...  \n",
       "205821   3/30/2020             2                           married  144042  \n",
       "205863   3/30/2020             1  living with parents and siblings   56023  \n",
       "206078    4/1/2020             0                            single   36946  \n",
       "206104    4/1/2020             2                           married  123120  \n",
       "206117    4/1/2020             2                           married   72948  \n",
       "\n",
       "[4044 rows x 10 columns]"
      ]
     },
     "execution_count": 25,
     "metadata": {},
     "output_type": "execute_result"
    }
   ],
   "source": [
    "# Check output\n",
    "\n",
    "dc_rows"
   ]
  },
  {
   "cell_type": "markdown",
   "id": "f136f370-e914-498c-8c31-c1de125b4041",
   "metadata": {},
   "source": [
    "Now we know the District of Columbia is the reason there are 51 unique values in the STATE column."
   ]
  },
  {
   "cell_type": "markdown",
   "id": "cb915d37-f72a-4784-9c9d-2448204768e0",
   "metadata": {},
   "source": [
    "I will now change the datatypes of the int64 columns to reduce memory usage."
   ]
  },
  {
   "cell_type": "code",
   "execution_count": 26,
   "id": "90827e82-5e42-4f75-9444-3bd2d8393a9f",
   "metadata": {},
   "outputs": [],
   "source": [
    "# Use .astype to change datatypes to int32\n",
    "\n",
    "customers[['user_id', 'Age', 'n_dependants', 'income']] = customers[['user_id', 'Age', 'n_dependants', 'income']].astype('int32')"
   ]
  },
  {
   "cell_type": "code",
   "execution_count": 27,
   "id": "b8f8d800-f757-434b-9bf2-accae8225695",
   "metadata": {},
   "outputs": [
    {
     "data": {
      "text/plain": [
       "user_id         int32\n",
       "Age             int32\n",
       "n_dependants    int32\n",
       "income          int32\n",
       "dtype: object"
      ]
     },
     "execution_count": 27,
     "metadata": {},
     "output_type": "execute_result"
    }
   ],
   "source": [
    "# Check datatypes\n",
    "\n",
    "customers[['user_id', 'Age', 'n_dependants', 'income']].dtypes"
   ]
  },
  {
   "cell_type": "markdown",
   "id": "d83d1b9a-959e-477e-aba6-2ebcda89442e",
   "metadata": {},
   "source": [
    "#### Renaming the Surname column to fix typo"
   ]
  },
  {
   "cell_type": "code",
   "execution_count": 30,
   "id": "2a342a7d-58dc-434f-9351-4fbb333eebce",
   "metadata": {},
   "outputs": [],
   "source": [
    "customers.rename(columns = {'Surnam' : 'Surname'}, inplace = True)"
   ]
  },
  {
   "cell_type": "code",
   "execution_count": 31,
   "id": "cffd571b-3121-4b4e-a32e-080b5ab71465",
   "metadata": {},
   "outputs": [
    {
     "data": {
      "text/html": [
       "<div>\n",
       "<style scoped>\n",
       "    .dataframe tbody tr th:only-of-type {\n",
       "        vertical-align: middle;\n",
       "    }\n",
       "\n",
       "    .dataframe tbody tr th {\n",
       "        vertical-align: top;\n",
       "    }\n",
       "\n",
       "    .dataframe thead th {\n",
       "        text-align: right;\n",
       "    }\n",
       "</style>\n",
       "<table border=\"1\" class=\"dataframe\">\n",
       "  <thead>\n",
       "    <tr style=\"text-align: right;\">\n",
       "      <th></th>\n",
       "      <th>user_id</th>\n",
       "      <th>First Name</th>\n",
       "      <th>Surname</th>\n",
       "      <th>Gender</th>\n",
       "      <th>STATE</th>\n",
       "      <th>Age</th>\n",
       "      <th>date_joined</th>\n",
       "      <th>n_dependants</th>\n",
       "      <th>fam_status</th>\n",
       "      <th>income</th>\n",
       "    </tr>\n",
       "  </thead>\n",
       "  <tbody>\n",
       "    <tr>\n",
       "      <th>0</th>\n",
       "      <td>26711</td>\n",
       "      <td>Deborah</td>\n",
       "      <td>Esquivel</td>\n",
       "      <td>Female</td>\n",
       "      <td>Missouri</td>\n",
       "      <td>48</td>\n",
       "      <td>1/1/2017</td>\n",
       "      <td>3</td>\n",
       "      <td>married</td>\n",
       "      <td>165665</td>\n",
       "    </tr>\n",
       "    <tr>\n",
       "      <th>1</th>\n",
       "      <td>33890</td>\n",
       "      <td>Patricia</td>\n",
       "      <td>Hart</td>\n",
       "      <td>Female</td>\n",
       "      <td>New Mexico</td>\n",
       "      <td>36</td>\n",
       "      <td>1/1/2017</td>\n",
       "      <td>0</td>\n",
       "      <td>single</td>\n",
       "      <td>59285</td>\n",
       "    </tr>\n",
       "    <tr>\n",
       "      <th>2</th>\n",
       "      <td>65803</td>\n",
       "      <td>Kenneth</td>\n",
       "      <td>Farley</td>\n",
       "      <td>Male</td>\n",
       "      <td>Idaho</td>\n",
       "      <td>35</td>\n",
       "      <td>1/1/2017</td>\n",
       "      <td>2</td>\n",
       "      <td>married</td>\n",
       "      <td>99568</td>\n",
       "    </tr>\n",
       "    <tr>\n",
       "      <th>3</th>\n",
       "      <td>125935</td>\n",
       "      <td>Michelle</td>\n",
       "      <td>Hicks</td>\n",
       "      <td>Female</td>\n",
       "      <td>Iowa</td>\n",
       "      <td>40</td>\n",
       "      <td>1/1/2017</td>\n",
       "      <td>0</td>\n",
       "      <td>single</td>\n",
       "      <td>42049</td>\n",
       "    </tr>\n",
       "    <tr>\n",
       "      <th>4</th>\n",
       "      <td>130797</td>\n",
       "      <td>Ann</td>\n",
       "      <td>Gilmore</td>\n",
       "      <td>Female</td>\n",
       "      <td>Maryland</td>\n",
       "      <td>26</td>\n",
       "      <td>1/1/2017</td>\n",
       "      <td>1</td>\n",
       "      <td>married</td>\n",
       "      <td>40374</td>\n",
       "    </tr>\n",
       "  </tbody>\n",
       "</table>\n",
       "</div>"
      ],
      "text/plain": [
       "   user_id First Name   Surname  Gender       STATE  Age date_joined  \\\n",
       "0    26711    Deborah  Esquivel  Female    Missouri   48    1/1/2017   \n",
       "1    33890   Patricia      Hart  Female  New Mexico   36    1/1/2017   \n",
       "2    65803    Kenneth    Farley    Male       Idaho   35    1/1/2017   \n",
       "3   125935   Michelle     Hicks  Female        Iowa   40    1/1/2017   \n",
       "4   130797        Ann   Gilmore  Female    Maryland   26    1/1/2017   \n",
       "\n",
       "   n_dependants fam_status  income  \n",
       "0             3    married  165665  \n",
       "1             0     single   59285  \n",
       "2             2    married   99568  \n",
       "3             0     single   42049  \n",
       "4             1    married   40374  "
      ]
     },
     "execution_count": 31,
     "metadata": {},
     "output_type": "execute_result"
    }
   ],
   "source": [
    "# Check output\n",
    "\n",
    "customers.head()"
   ]
  },
  {
   "cell_type": "markdown",
   "id": "03ef1527-fef3-4fee-83ac-b0ff7497efe5",
   "metadata": {},
   "source": [
    "#### Renaming State so its not in all CAPS"
   ]
  },
  {
   "cell_type": "code",
   "execution_count": 32,
   "id": "8b07defd-0604-441b-ad0e-a98074a0fd02",
   "metadata": {},
   "outputs": [],
   "source": [
    "customers.rename(columns = {'STATE' : 'State'}, inplace = True)"
   ]
  },
  {
   "cell_type": "code",
   "execution_count": 33,
   "id": "e9e6de56-3ffb-4f24-bd08-c5615b576e4d",
   "metadata": {},
   "outputs": [
    {
     "data": {
      "text/html": [
       "<div>\n",
       "<style scoped>\n",
       "    .dataframe tbody tr th:only-of-type {\n",
       "        vertical-align: middle;\n",
       "    }\n",
       "\n",
       "    .dataframe tbody tr th {\n",
       "        vertical-align: top;\n",
       "    }\n",
       "\n",
       "    .dataframe thead th {\n",
       "        text-align: right;\n",
       "    }\n",
       "</style>\n",
       "<table border=\"1\" class=\"dataframe\">\n",
       "  <thead>\n",
       "    <tr style=\"text-align: right;\">\n",
       "      <th></th>\n",
       "      <th>user_id</th>\n",
       "      <th>First Name</th>\n",
       "      <th>Surname</th>\n",
       "      <th>Gender</th>\n",
       "      <th>State</th>\n",
       "      <th>Age</th>\n",
       "      <th>date_joined</th>\n",
       "      <th>n_dependants</th>\n",
       "      <th>fam_status</th>\n",
       "      <th>income</th>\n",
       "    </tr>\n",
       "  </thead>\n",
       "  <tbody>\n",
       "    <tr>\n",
       "      <th>0</th>\n",
       "      <td>26711</td>\n",
       "      <td>Deborah</td>\n",
       "      <td>Esquivel</td>\n",
       "      <td>Female</td>\n",
       "      <td>Missouri</td>\n",
       "      <td>48</td>\n",
       "      <td>1/1/2017</td>\n",
       "      <td>3</td>\n",
       "      <td>married</td>\n",
       "      <td>165665</td>\n",
       "    </tr>\n",
       "    <tr>\n",
       "      <th>1</th>\n",
       "      <td>33890</td>\n",
       "      <td>Patricia</td>\n",
       "      <td>Hart</td>\n",
       "      <td>Female</td>\n",
       "      <td>New Mexico</td>\n",
       "      <td>36</td>\n",
       "      <td>1/1/2017</td>\n",
       "      <td>0</td>\n",
       "      <td>single</td>\n",
       "      <td>59285</td>\n",
       "    </tr>\n",
       "    <tr>\n",
       "      <th>2</th>\n",
       "      <td>65803</td>\n",
       "      <td>Kenneth</td>\n",
       "      <td>Farley</td>\n",
       "      <td>Male</td>\n",
       "      <td>Idaho</td>\n",
       "      <td>35</td>\n",
       "      <td>1/1/2017</td>\n",
       "      <td>2</td>\n",
       "      <td>married</td>\n",
       "      <td>99568</td>\n",
       "    </tr>\n",
       "    <tr>\n",
       "      <th>3</th>\n",
       "      <td>125935</td>\n",
       "      <td>Michelle</td>\n",
       "      <td>Hicks</td>\n",
       "      <td>Female</td>\n",
       "      <td>Iowa</td>\n",
       "      <td>40</td>\n",
       "      <td>1/1/2017</td>\n",
       "      <td>0</td>\n",
       "      <td>single</td>\n",
       "      <td>42049</td>\n",
       "    </tr>\n",
       "    <tr>\n",
       "      <th>4</th>\n",
       "      <td>130797</td>\n",
       "      <td>Ann</td>\n",
       "      <td>Gilmore</td>\n",
       "      <td>Female</td>\n",
       "      <td>Maryland</td>\n",
       "      <td>26</td>\n",
       "      <td>1/1/2017</td>\n",
       "      <td>1</td>\n",
       "      <td>married</td>\n",
       "      <td>40374</td>\n",
       "    </tr>\n",
       "  </tbody>\n",
       "</table>\n",
       "</div>"
      ],
      "text/plain": [
       "   user_id First Name   Surname  Gender       State  Age date_joined  \\\n",
       "0    26711    Deborah  Esquivel  Female    Missouri   48    1/1/2017   \n",
       "1    33890   Patricia      Hart  Female  New Mexico   36    1/1/2017   \n",
       "2    65803    Kenneth    Farley    Male       Idaho   35    1/1/2017   \n",
       "3   125935   Michelle     Hicks  Female        Iowa   40    1/1/2017   \n",
       "4   130797        Ann   Gilmore  Female    Maryland   26    1/1/2017   \n",
       "\n",
       "   n_dependants fam_status  income  \n",
       "0             3    married  165665  \n",
       "1             0     single   59285  \n",
       "2             2    married   99568  \n",
       "3             0     single   42049  \n",
       "4             1    married   40374  "
      ]
     },
     "execution_count": 33,
     "metadata": {},
     "output_type": "execute_result"
    }
   ],
   "source": [
    "# Check output\n",
    "\n",
    "customers.head()"
   ]
  },
  {
   "cell_type": "markdown",
   "id": "26941b71-2977-4243-9502-ec09e0f86710",
   "metadata": {},
   "source": []
  },
  {
   "cell_type": "markdown",
   "id": "cbf98b1a-4aa9-43c0-be5d-65311cfcfee4",
   "metadata": {},
   "source": [
    "#### Renaming fam_status to marital_status to be more specific"
   ]
  },
  {
   "cell_type": "code",
   "execution_count": 35,
   "id": "80dc28b0-e7c4-4527-8fe1-2ef9e4e262b3",
   "metadata": {},
   "outputs": [],
   "source": [
    "customers.rename(columns = {'fam_status' : 'marital_status'}, inplace = True)"
   ]
  },
  {
   "cell_type": "code",
   "execution_count": 36,
   "id": "05d1ad25-1e74-43f5-aab6-362643a8042f",
   "metadata": {},
   "outputs": [
    {
     "data": {
      "text/html": [
       "<div>\n",
       "<style scoped>\n",
       "    .dataframe tbody tr th:only-of-type {\n",
       "        vertical-align: middle;\n",
       "    }\n",
       "\n",
       "    .dataframe tbody tr th {\n",
       "        vertical-align: top;\n",
       "    }\n",
       "\n",
       "    .dataframe thead th {\n",
       "        text-align: right;\n",
       "    }\n",
       "</style>\n",
       "<table border=\"1\" class=\"dataframe\">\n",
       "  <thead>\n",
       "    <tr style=\"text-align: right;\">\n",
       "      <th></th>\n",
       "      <th>user_id</th>\n",
       "      <th>First Name</th>\n",
       "      <th>Surname</th>\n",
       "      <th>Gender</th>\n",
       "      <th>State</th>\n",
       "      <th>Age</th>\n",
       "      <th>date_joined</th>\n",
       "      <th>n_dependants</th>\n",
       "      <th>marital_status</th>\n",
       "      <th>income</th>\n",
       "    </tr>\n",
       "  </thead>\n",
       "  <tbody>\n",
       "    <tr>\n",
       "      <th>0</th>\n",
       "      <td>26711</td>\n",
       "      <td>Deborah</td>\n",
       "      <td>Esquivel</td>\n",
       "      <td>Female</td>\n",
       "      <td>Missouri</td>\n",
       "      <td>48</td>\n",
       "      <td>1/1/2017</td>\n",
       "      <td>3</td>\n",
       "      <td>married</td>\n",
       "      <td>165665</td>\n",
       "    </tr>\n",
       "    <tr>\n",
       "      <th>1</th>\n",
       "      <td>33890</td>\n",
       "      <td>Patricia</td>\n",
       "      <td>Hart</td>\n",
       "      <td>Female</td>\n",
       "      <td>New Mexico</td>\n",
       "      <td>36</td>\n",
       "      <td>1/1/2017</td>\n",
       "      <td>0</td>\n",
       "      <td>single</td>\n",
       "      <td>59285</td>\n",
       "    </tr>\n",
       "    <tr>\n",
       "      <th>2</th>\n",
       "      <td>65803</td>\n",
       "      <td>Kenneth</td>\n",
       "      <td>Farley</td>\n",
       "      <td>Male</td>\n",
       "      <td>Idaho</td>\n",
       "      <td>35</td>\n",
       "      <td>1/1/2017</td>\n",
       "      <td>2</td>\n",
       "      <td>married</td>\n",
       "      <td>99568</td>\n",
       "    </tr>\n",
       "    <tr>\n",
       "      <th>3</th>\n",
       "      <td>125935</td>\n",
       "      <td>Michelle</td>\n",
       "      <td>Hicks</td>\n",
       "      <td>Female</td>\n",
       "      <td>Iowa</td>\n",
       "      <td>40</td>\n",
       "      <td>1/1/2017</td>\n",
       "      <td>0</td>\n",
       "      <td>single</td>\n",
       "      <td>42049</td>\n",
       "    </tr>\n",
       "    <tr>\n",
       "      <th>4</th>\n",
       "      <td>130797</td>\n",
       "      <td>Ann</td>\n",
       "      <td>Gilmore</td>\n",
       "      <td>Female</td>\n",
       "      <td>Maryland</td>\n",
       "      <td>26</td>\n",
       "      <td>1/1/2017</td>\n",
       "      <td>1</td>\n",
       "      <td>married</td>\n",
       "      <td>40374</td>\n",
       "    </tr>\n",
       "  </tbody>\n",
       "</table>\n",
       "</div>"
      ],
      "text/plain": [
       "   user_id First Name   Surname  Gender       State  Age date_joined  \\\n",
       "0    26711    Deborah  Esquivel  Female    Missouri   48    1/1/2017   \n",
       "1    33890   Patricia      Hart  Female  New Mexico   36    1/1/2017   \n",
       "2    65803    Kenneth    Farley    Male       Idaho   35    1/1/2017   \n",
       "3   125935   Michelle     Hicks  Female        Iowa   40    1/1/2017   \n",
       "4   130797        Ann   Gilmore  Female    Maryland   26    1/1/2017   \n",
       "\n",
       "   n_dependants marital_status  income  \n",
       "0             3        married  165665  \n",
       "1             0         single   59285  \n",
       "2             2        married   99568  \n",
       "3             0         single   42049  \n",
       "4             1        married   40374  "
      ]
     },
     "execution_count": 36,
     "metadata": {},
     "output_type": "execute_result"
    }
   ],
   "source": [
    "# Check output\n",
    "\n",
    "customers.head()"
   ]
  },
  {
   "cell_type": "markdown",
   "id": "5cc5a4ae-12c6-426c-97cf-3db8a0aca086",
   "metadata": {},
   "source": [
    "After review, I will be dropping the First Name and Surname columns. These wont do anything for this analysis, as the exact identity of customers is not a key question or criteria for this analysis. \n",
    "\n",
    "We can glean answers to our key questions from the remaining rows of data in this dataframe.\n",
    "\n",
    "Therefore, I will be creating a cust_checked dataframe as to not overwrite the customers dataframe, but also create a wrangled dataframe for this project."
   ]
  },
  {
   "cell_type": "code",
   "execution_count": 39,
   "id": "553aa012-5615-468c-9a0d-616d5e5b9e30",
   "metadata": {},
   "outputs": [],
   "source": [
    "# Create wrangled dataframe that drops teh First Name and Surname columns\n",
    "\n",
    "cust_checked = customers.drop(columns = {'First Name', 'Surname'})"
   ]
  },
  {
   "cell_type": "code",
   "execution_count": 40,
   "id": "6bc6c3ab-827a-466f-b57d-2c990e8f137d",
   "metadata": {},
   "outputs": [
    {
     "data": {
      "text/html": [
       "<div>\n",
       "<style scoped>\n",
       "    .dataframe tbody tr th:only-of-type {\n",
       "        vertical-align: middle;\n",
       "    }\n",
       "\n",
       "    .dataframe tbody tr th {\n",
       "        vertical-align: top;\n",
       "    }\n",
       "\n",
       "    .dataframe thead th {\n",
       "        text-align: right;\n",
       "    }\n",
       "</style>\n",
       "<table border=\"1\" class=\"dataframe\">\n",
       "  <thead>\n",
       "    <tr style=\"text-align: right;\">\n",
       "      <th></th>\n",
       "      <th>user_id</th>\n",
       "      <th>Gender</th>\n",
       "      <th>State</th>\n",
       "      <th>Age</th>\n",
       "      <th>date_joined</th>\n",
       "      <th>n_dependants</th>\n",
       "      <th>marital_status</th>\n",
       "      <th>income</th>\n",
       "    </tr>\n",
       "  </thead>\n",
       "  <tbody>\n",
       "    <tr>\n",
       "      <th>0</th>\n",
       "      <td>26711</td>\n",
       "      <td>Female</td>\n",
       "      <td>Missouri</td>\n",
       "      <td>48</td>\n",
       "      <td>1/1/2017</td>\n",
       "      <td>3</td>\n",
       "      <td>married</td>\n",
       "      <td>165665</td>\n",
       "    </tr>\n",
       "    <tr>\n",
       "      <th>1</th>\n",
       "      <td>33890</td>\n",
       "      <td>Female</td>\n",
       "      <td>New Mexico</td>\n",
       "      <td>36</td>\n",
       "      <td>1/1/2017</td>\n",
       "      <td>0</td>\n",
       "      <td>single</td>\n",
       "      <td>59285</td>\n",
       "    </tr>\n",
       "    <tr>\n",
       "      <th>2</th>\n",
       "      <td>65803</td>\n",
       "      <td>Male</td>\n",
       "      <td>Idaho</td>\n",
       "      <td>35</td>\n",
       "      <td>1/1/2017</td>\n",
       "      <td>2</td>\n",
       "      <td>married</td>\n",
       "      <td>99568</td>\n",
       "    </tr>\n",
       "    <tr>\n",
       "      <th>3</th>\n",
       "      <td>125935</td>\n",
       "      <td>Female</td>\n",
       "      <td>Iowa</td>\n",
       "      <td>40</td>\n",
       "      <td>1/1/2017</td>\n",
       "      <td>0</td>\n",
       "      <td>single</td>\n",
       "      <td>42049</td>\n",
       "    </tr>\n",
       "    <tr>\n",
       "      <th>4</th>\n",
       "      <td>130797</td>\n",
       "      <td>Female</td>\n",
       "      <td>Maryland</td>\n",
       "      <td>26</td>\n",
       "      <td>1/1/2017</td>\n",
       "      <td>1</td>\n",
       "      <td>married</td>\n",
       "      <td>40374</td>\n",
       "    </tr>\n",
       "  </tbody>\n",
       "</table>\n",
       "</div>"
      ],
      "text/plain": [
       "   user_id  Gender       State  Age date_joined  n_dependants marital_status  \\\n",
       "0    26711  Female    Missouri   48    1/1/2017             3        married   \n",
       "1    33890  Female  New Mexico   36    1/1/2017             0         single   \n",
       "2    65803    Male       Idaho   35    1/1/2017             2        married   \n",
       "3   125935  Female        Iowa   40    1/1/2017             0         single   \n",
       "4   130797  Female    Maryland   26    1/1/2017             1        married   \n",
       "\n",
       "   income  \n",
       "0  165665  \n",
       "1   59285  \n",
       "2   99568  \n",
       "3   42049  \n",
       "4   40374  "
      ]
     },
     "execution_count": 40,
     "metadata": {},
     "output_type": "execute_result"
    }
   ],
   "source": [
    "# Check output\n",
    "\n",
    "cust_checked.head()"
   ]
  },
  {
   "cell_type": "markdown",
   "id": "f90a5132-f4a7-40a1-aed1-69c575b94034",
   "metadata": {},
   "source": [
    "This wrangled dataframe accomplishes three things:\n",
    "1. It removes names of customers which is irrelevant to this analysis.\n",
    "2. In doing so, it increases the privacy of the customers.\n",
    "3. Eliminates the need to worry about the missing values in the First Name column, as they are now removed and were irrelevant to our analysis."
   ]
  },
  {
   "cell_type": "markdown",
   "id": "642fdd67-1354-425f-9b71-25e7246dc3b2",
   "metadata": {},
   "source": [
    "#### Step 5 - Complete fundamental data quality and consistency checks"
   ]
  },
  {
   "cell_type": "code",
   "execution_count": 43,
   "id": "4acb585e-dc6a-40dd-a340-6f6710c4b328",
   "metadata": {},
   "outputs": [],
   "source": [
    "# Check for duplicates\n",
    "\n",
    "df_dups = cust_checked[cust_checked.duplicated()]"
   ]
  },
  {
   "cell_type": "code",
   "execution_count": 44,
   "id": "855807a5-0630-4d9c-bfb7-ed650e11cba4",
   "metadata": {},
   "outputs": [
    {
     "data": {
      "text/html": [
       "<div>\n",
       "<style scoped>\n",
       "    .dataframe tbody tr th:only-of-type {\n",
       "        vertical-align: middle;\n",
       "    }\n",
       "\n",
       "    .dataframe tbody tr th {\n",
       "        vertical-align: top;\n",
       "    }\n",
       "\n",
       "    .dataframe thead th {\n",
       "        text-align: right;\n",
       "    }\n",
       "</style>\n",
       "<table border=\"1\" class=\"dataframe\">\n",
       "  <thead>\n",
       "    <tr style=\"text-align: right;\">\n",
       "      <th></th>\n",
       "      <th>user_id</th>\n",
       "      <th>Gender</th>\n",
       "      <th>State</th>\n",
       "      <th>Age</th>\n",
       "      <th>date_joined</th>\n",
       "      <th>n_dependants</th>\n",
       "      <th>marital_status</th>\n",
       "      <th>income</th>\n",
       "    </tr>\n",
       "  </thead>\n",
       "  <tbody>\n",
       "  </tbody>\n",
       "</table>\n",
       "</div>"
      ],
      "text/plain": [
       "Empty DataFrame\n",
       "Columns: [user_id, Gender, State, Age, date_joined, n_dependants, marital_status, income]\n",
       "Index: []"
      ]
     },
     "execution_count": 44,
     "metadata": {},
     "output_type": "execute_result"
    }
   ],
   "source": [
    "# Check output for duplicates\n",
    "\n",
    "df_dups"
   ]
  },
  {
   "cell_type": "markdown",
   "id": "5b2e2ad6-3122-4de1-ace4-4be7fa507a01",
   "metadata": {},
   "source": [
    "No duplicates were discovered within our wrangled data."
   ]
  },
  {
   "cell_type": "code",
   "execution_count": 45,
   "id": "26c09043-b4fa-4d6a-8c91-d9ec1b974d1c",
   "metadata": {},
   "outputs": [
    {
     "data": {
      "text/plain": [
       "user_id           0\n",
       "Gender            0\n",
       "State             0\n",
       "Age               0\n",
       "date_joined       0\n",
       "n_dependants      0\n",
       "marital_status    0\n",
       "income            0\n",
       "dtype: int64"
      ]
     },
     "execution_count": 45,
     "metadata": {},
     "output_type": "execute_result"
    }
   ],
   "source": [
    "# Check for missing values\n",
    "\n",
    "cust_checked.isnull().sum()"
   ]
  },
  {
   "cell_type": "markdown",
   "id": "541ead35-effb-418e-ba42-71ce359741e4",
   "metadata": {},
   "source": [
    "No missing values were discovered within our wrangled data."
   ]
  },
  {
   "cell_type": "code",
   "execution_count": 46,
   "id": "d70c47b9-7775-4465-9644-9311344f7b47",
   "metadata": {},
   "outputs": [],
   "source": [
    "# Check for mixed-type data columns\n",
    "\n",
    "for col in cust_checked.columns.tolist():\n",
    "    weird = (cust_checked[[col]].map(type) != cust_checked\n",
    "             [[col]].iloc[0].apply(type)).any(axis = 1)\n",
    "    if len (cust_checked[weird]) > 0:\n",
    "        print (col)"
   ]
  },
  {
   "cell_type": "code",
   "execution_count": 49,
   "id": "5a107e1f-10a1-45b4-add7-16985b1fb0f3",
   "metadata": {},
   "outputs": [],
   "source": [
    "# Check output to verify no mixed-type data columns"
   ]
  },
  {
   "cell_type": "code",
   "execution_count": 48,
   "id": "b5db11e3-b5c4-4acf-b005-94838e4f4c41",
   "metadata": {},
   "outputs": [
    {
     "data": {
      "text/plain": [
       "False    206209\n",
       "Name: count, dtype: int64"
      ]
     },
     "execution_count": 48,
     "metadata": {},
     "output_type": "execute_result"
    }
   ],
   "source": [
    "weird.value_counts()"
   ]
  },
  {
   "cell_type": "markdown",
   "id": "54e254ec-2981-40ce-8ccf-dbb996838d2a",
   "metadata": {},
   "source": [
    "No mixed-type data columns were discovered within our wrangled data."
   ]
  },
  {
   "cell_type": "markdown",
   "id": "4e6ec9bf-28d6-4a8d-9a74-7cc96e06ffad",
   "metadata": {},
   "source": [
    "#### Step 6 - Combine Customer Data with prepared InstaCart data"
   ]
  },
  {
   "cell_type": "code",
   "execution_count": 50,
   "id": "13de9d85-48c1-44e1-bcb3-0d0ef904dda4",
   "metadata": {},
   "outputs": [],
   "source": [
    "# Import ords_prods_merge data\n",
    "\n",
    "ords_prods_merge = pd.read_pickle(os.path.join(path, '02 Data', 'Prepared Data', 'ords_prods_merge_4.8.pkl'))"
   ]
  },
  {
   "cell_type": "code",
   "execution_count": 52,
   "id": "ce74b121-7d0e-40ff-a26e-49dc81df0042",
   "metadata": {},
   "outputs": [
    {
     "data": {
      "text/plain": [
       "dtype('int32')"
      ]
     },
     "execution_count": 52,
     "metadata": {},
     "output_type": "execute_result"
    }
   ],
   "source": [
    "# Make sure data types are the same for the user_id column\n",
    "\n",
    "ords_prods_merge['user_id'].dtype"
   ]
  },
  {
   "cell_type": "code",
   "execution_count": 53,
   "id": "b2819324-6978-4578-bc38-ebabc452d5c1",
   "metadata": {},
   "outputs": [
    {
     "data": {
      "text/plain": [
       "dtype('int32')"
      ]
     },
     "execution_count": 53,
     "metadata": {},
     "output_type": "execute_result"
    }
   ],
   "source": [
    "cust_checked['user_id'].dtype"
   ]
  },
  {
   "cell_type": "code",
   "execution_count": 55,
   "id": "112d3cf3-9ab6-409f-a916-1e8d7043f1dc",
   "metadata": {},
   "outputs": [
    {
     "data": {
      "text/html": [
       "<div>\n",
       "<style scoped>\n",
       "    .dataframe tbody tr th:only-of-type {\n",
       "        vertical-align: middle;\n",
       "    }\n",
       "\n",
       "    .dataframe tbody tr th {\n",
       "        vertical-align: top;\n",
       "    }\n",
       "\n",
       "    .dataframe thead th {\n",
       "        text-align: right;\n",
       "    }\n",
       "</style>\n",
       "<table border=\"1\" class=\"dataframe\">\n",
       "  <thead>\n",
       "    <tr style=\"text-align: right;\">\n",
       "      <th></th>\n",
       "      <th>order_id</th>\n",
       "      <th>user_id</th>\n",
       "      <th>order_number</th>\n",
       "      <th>orders_day_of_week</th>\n",
       "      <th>orders_time_of_day</th>\n",
       "      <th>days_since_prior_order</th>\n",
       "      <th>product_id</th>\n",
       "      <th>add_to_cart_order</th>\n",
       "      <th>reordered</th>\n",
       "      <th>product_name</th>\n",
       "      <th>...</th>\n",
       "      <th>_merge</th>\n",
       "      <th>price_range_loc</th>\n",
       "      <th>busiest_days</th>\n",
       "      <th>busiest_period_of_day</th>\n",
       "      <th>max_order</th>\n",
       "      <th>loyalty_flag</th>\n",
       "      <th>average_purchase_cost</th>\n",
       "      <th>spending_flag</th>\n",
       "      <th>median_days_btwn_orders</th>\n",
       "      <th>order_frequency_flag</th>\n",
       "    </tr>\n",
       "  </thead>\n",
       "  <tbody>\n",
       "    <tr>\n",
       "      <th>0</th>\n",
       "      <td>2539329</td>\n",
       "      <td>1</td>\n",
       "      <td>1</td>\n",
       "      <td>2</td>\n",
       "      <td>8</td>\n",
       "      <td>NaN</td>\n",
       "      <td>196</td>\n",
       "      <td>1</td>\n",
       "      <td>0</td>\n",
       "      <td>Soda</td>\n",
       "      <td>...</td>\n",
       "      <td>both</td>\n",
       "      <td>Mid-range product</td>\n",
       "      <td>Regularly busy</td>\n",
       "      <td>Average Orders</td>\n",
       "      <td>10</td>\n",
       "      <td>New customer</td>\n",
       "      <td>6.367535</td>\n",
       "      <td>Low spender</td>\n",
       "      <td>20.5</td>\n",
       "      <td>Non-frequent customer</td>\n",
       "    </tr>\n",
       "    <tr>\n",
       "      <th>1</th>\n",
       "      <td>2398795</td>\n",
       "      <td>1</td>\n",
       "      <td>2</td>\n",
       "      <td>3</td>\n",
       "      <td>7</td>\n",
       "      <td>15.0</td>\n",
       "      <td>196</td>\n",
       "      <td>1</td>\n",
       "      <td>1</td>\n",
       "      <td>Soda</td>\n",
       "      <td>...</td>\n",
       "      <td>both</td>\n",
       "      <td>Mid-range product</td>\n",
       "      <td>Slowest days</td>\n",
       "      <td>Average Orders</td>\n",
       "      <td>10</td>\n",
       "      <td>New customer</td>\n",
       "      <td>6.367535</td>\n",
       "      <td>Low spender</td>\n",
       "      <td>20.5</td>\n",
       "      <td>Non-frequent customer</td>\n",
       "    </tr>\n",
       "    <tr>\n",
       "      <th>2</th>\n",
       "      <td>473747</td>\n",
       "      <td>1</td>\n",
       "      <td>3</td>\n",
       "      <td>3</td>\n",
       "      <td>12</td>\n",
       "      <td>21.0</td>\n",
       "      <td>196</td>\n",
       "      <td>1</td>\n",
       "      <td>1</td>\n",
       "      <td>Soda</td>\n",
       "      <td>...</td>\n",
       "      <td>both</td>\n",
       "      <td>Mid-range product</td>\n",
       "      <td>Slowest days</td>\n",
       "      <td>Most Orders</td>\n",
       "      <td>10</td>\n",
       "      <td>New customer</td>\n",
       "      <td>6.367535</td>\n",
       "      <td>Low spender</td>\n",
       "      <td>20.5</td>\n",
       "      <td>Non-frequent customer</td>\n",
       "    </tr>\n",
       "    <tr>\n",
       "      <th>3</th>\n",
       "      <td>2254736</td>\n",
       "      <td>1</td>\n",
       "      <td>4</td>\n",
       "      <td>4</td>\n",
       "      <td>7</td>\n",
       "      <td>29.0</td>\n",
       "      <td>196</td>\n",
       "      <td>1</td>\n",
       "      <td>1</td>\n",
       "      <td>Soda</td>\n",
       "      <td>...</td>\n",
       "      <td>both</td>\n",
       "      <td>Mid-range product</td>\n",
       "      <td>Slowest days</td>\n",
       "      <td>Average Orders</td>\n",
       "      <td>10</td>\n",
       "      <td>New customer</td>\n",
       "      <td>6.367535</td>\n",
       "      <td>Low spender</td>\n",
       "      <td>20.5</td>\n",
       "      <td>Non-frequent customer</td>\n",
       "    </tr>\n",
       "    <tr>\n",
       "      <th>4</th>\n",
       "      <td>431534</td>\n",
       "      <td>1</td>\n",
       "      <td>5</td>\n",
       "      <td>4</td>\n",
       "      <td>15</td>\n",
       "      <td>28.0</td>\n",
       "      <td>196</td>\n",
       "      <td>1</td>\n",
       "      <td>1</td>\n",
       "      <td>Soda</td>\n",
       "      <td>...</td>\n",
       "      <td>both</td>\n",
       "      <td>Mid-range product</td>\n",
       "      <td>Slowest days</td>\n",
       "      <td>Most Orders</td>\n",
       "      <td>10</td>\n",
       "      <td>New customer</td>\n",
       "      <td>6.367535</td>\n",
       "      <td>Low spender</td>\n",
       "      <td>20.5</td>\n",
       "      <td>Non-frequent customer</td>\n",
       "    </tr>\n",
       "  </tbody>\n",
       "</table>\n",
       "<p>5 rows × 23 columns</p>\n",
       "</div>"
      ],
      "text/plain": [
       "   order_id  user_id  order_number  orders_day_of_week  orders_time_of_day  \\\n",
       "0   2539329        1             1                   2                   8   \n",
       "1   2398795        1             2                   3                   7   \n",
       "2    473747        1             3                   3                  12   \n",
       "3   2254736        1             4                   4                   7   \n",
       "4    431534        1             5                   4                  15   \n",
       "\n",
       "   days_since_prior_order  product_id  add_to_cart_order  reordered  \\\n",
       "0                     NaN         196                  1          0   \n",
       "1                    15.0         196                  1          1   \n",
       "2                    21.0         196                  1          1   \n",
       "3                    29.0         196                  1          1   \n",
       "4                    28.0         196                  1          1   \n",
       "\n",
       "  product_name  ...  _merge    price_range_loc    busiest_days  \\\n",
       "0         Soda  ...    both  Mid-range product  Regularly busy   \n",
       "1         Soda  ...    both  Mid-range product    Slowest days   \n",
       "2         Soda  ...    both  Mid-range product    Slowest days   \n",
       "3         Soda  ...    both  Mid-range product    Slowest days   \n",
       "4         Soda  ...    both  Mid-range product    Slowest days   \n",
       "\n",
       "  busiest_period_of_day max_order  loyalty_flag average_purchase_cost  \\\n",
       "0        Average Orders        10  New customer              6.367535   \n",
       "1        Average Orders        10  New customer              6.367535   \n",
       "2           Most Orders        10  New customer              6.367535   \n",
       "3        Average Orders        10  New customer              6.367535   \n",
       "4           Most Orders        10  New customer              6.367535   \n",
       "\n",
       "   spending_flag median_days_btwn_orders   order_frequency_flag  \n",
       "0    Low spender                    20.5  Non-frequent customer  \n",
       "1    Low spender                    20.5  Non-frequent customer  \n",
       "2    Low spender                    20.5  Non-frequent customer  \n",
       "3    Low spender                    20.5  Non-frequent customer  \n",
       "4    Low spender                    20.5  Non-frequent customer  \n",
       "\n",
       "[5 rows x 23 columns]"
      ]
     },
     "execution_count": 55,
     "metadata": {},
     "output_type": "execute_result"
    }
   ],
   "source": [
    "ords_prods_merge.head()"
   ]
  },
  {
   "cell_type": "markdown",
   "id": "c1bce89d-bac9-4283-a468-c9b5cb038813",
   "metadata": {},
   "source": [
    "## Export wrangled Data"
   ]
  },
  {
   "cell_type": "markdown",
   "id": "578106fb-0d8e-49fc-afed-f85f0adc12cd",
   "metadata": {},
   "source": [
    "Exporting Data, will upload and combine in separate notebook."
   ]
  },
  {
   "cell_type": "code",
   "execution_count": 58,
   "id": "27a5bfaf-9f1e-42e0-aea6-2293e9f01035",
   "metadata": {},
   "outputs": [],
   "source": [
    "cust_checked.to_pickle(os.path.join(path, '02 Data','Prepared Data', 'cust_checked.pkl'))"
   ]
  },
  {
   "cell_type": "code",
   "execution_count": null,
   "id": "5c033c25-65f7-40b1-9aa3-3f2f9d7887b8",
   "metadata": {},
   "outputs": [],
   "source": []
  }
 ],
 "metadata": {
  "kernelspec": {
   "display_name": "Python 3 (ipykernel)",
   "language": "python",
   "name": "python3"
  },
  "language_info": {
   "codemirror_mode": {
    "name": "ipython",
    "version": 3
   },
   "file_extension": ".py",
   "mimetype": "text/x-python",
   "name": "python",
   "nbconvert_exporter": "python",
   "pygments_lexer": "ipython3",
   "version": "3.11.5"
  }
 },
 "nbformat": 4,
 "nbformat_minor": 5
}
