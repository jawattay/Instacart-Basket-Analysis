{
 "cells": [
  {
   "cell_type": "markdown",
   "id": "7966660e-29a0-4271-aa04-713742c88bfc",
   "metadata": {},
   "source": [
    "# IC 4.10 Task Part 1 Steps 1 through 4"
   ]
  },
  {
   "cell_type": "markdown",
   "id": "554a58c5-4964-44d4-ac90-4090725f9dac",
   "metadata": {},
   "source": [
    "## This Script contains the following contents:\n",
    "\n",
    "### Step 1 - Import Latest InstaCart Merged Data\n",
    "### Step 2 - Consider Any Security Implications for this Data\n",
    "### Step 3(A) - Create Regional Segmentation of the Data\n",
    "### Step 3(B) - Determine Spending Habits by Region\n",
    "### Step 4 - Excluding Customers with < 5 orders"
   ]
  },
  {
   "cell_type": "code",
   "execution_count": 1,
   "id": "57a73ef0-e540-4a7c-990f-208f46c042ea",
   "metadata": {},
   "outputs": [],
   "source": [
    "# Import Libraries\n",
    "\n",
    "import os\n",
    "import pandas as pd\n",
    "import numpy as np\n",
    "import matplotlib.pyplot as plt\n",
    "import seaborn as sns\n",
    "import scipy\n",
    "import matplotlib.colors as mcolors\n",
    "from matplotlib.patches import Rectangle"
   ]
  },
  {
   "cell_type": "code",
   "execution_count": 2,
   "id": "6b7dcfdd-0047-4a26-90ee-c6899bfae0c4",
   "metadata": {},
   "outputs": [],
   "source": [
    "# Set Path\n",
    "\n",
    "path = r'C:\\Users\\Josh Wattay\\anaconda3\\Instacart Basket Analysis'"
   ]
  },
  {
   "cell_type": "markdown",
   "id": "4c2710f5-c288-4204-9360-87fbb92bb37b",
   "metadata": {},
   "source": [
    "### Step 1 - Import Latest InstaCart Merged Data"
   ]
  },
  {
   "cell_type": "code",
   "execution_count": 3,
   "id": "3102ae1a-27ad-46d5-b082-c456ac6193e3",
   "metadata": {},
   "outputs": [],
   "source": [
    "# Import Data\n",
    "\n",
    "insta_merge = pd.read_pickle(os.path.join(path, '02 Data', 'Prepared Data', 'insta_merge.pkl'))"
   ]
  },
  {
   "cell_type": "code",
   "execution_count": 4,
   "id": "0db0d393-170a-4704-9fc9-7d9865ec2b43",
   "metadata": {},
   "outputs": [
    {
     "data": {
      "text/html": [
       "<div>\n",
       "<style scoped>\n",
       "    .dataframe tbody tr th:only-of-type {\n",
       "        vertical-align: middle;\n",
       "    }\n",
       "\n",
       "    .dataframe tbody tr th {\n",
       "        vertical-align: top;\n",
       "    }\n",
       "\n",
       "    .dataframe thead th {\n",
       "        text-align: right;\n",
       "    }\n",
       "</style>\n",
       "<table border=\"1\" class=\"dataframe\">\n",
       "  <thead>\n",
       "    <tr style=\"text-align: right;\">\n",
       "      <th></th>\n",
       "      <th>order_id</th>\n",
       "      <th>user_id</th>\n",
       "      <th>order_number</th>\n",
       "      <th>orders_day_of_week</th>\n",
       "      <th>orders_time_of_day</th>\n",
       "      <th>days_since_prior_order</th>\n",
       "      <th>product_id</th>\n",
       "      <th>add_to_cart_order</th>\n",
       "      <th>reordered</th>\n",
       "      <th>product_name</th>\n",
       "      <th>...</th>\n",
       "      <th>median_days_btwn_orders</th>\n",
       "      <th>order_frequency_flag</th>\n",
       "      <th>Gender</th>\n",
       "      <th>State</th>\n",
       "      <th>Age</th>\n",
       "      <th>date_joined</th>\n",
       "      <th>n_dependants</th>\n",
       "      <th>marital_status</th>\n",
       "      <th>income</th>\n",
       "      <th>merge_ind</th>\n",
       "    </tr>\n",
       "  </thead>\n",
       "  <tbody>\n",
       "    <tr>\n",
       "      <th>0</th>\n",
       "      <td>2539329</td>\n",
       "      <td>1</td>\n",
       "      <td>1</td>\n",
       "      <td>2</td>\n",
       "      <td>8</td>\n",
       "      <td>NaN</td>\n",
       "      <td>196</td>\n",
       "      <td>1</td>\n",
       "      <td>0</td>\n",
       "      <td>Soda</td>\n",
       "      <td>...</td>\n",
       "      <td>20.5</td>\n",
       "      <td>Non-frequent customer</td>\n",
       "      <td>Female</td>\n",
       "      <td>Alabama</td>\n",
       "      <td>31</td>\n",
       "      <td>2/17/2019</td>\n",
       "      <td>3</td>\n",
       "      <td>married</td>\n",
       "      <td>40423</td>\n",
       "      <td>both</td>\n",
       "    </tr>\n",
       "    <tr>\n",
       "      <th>1</th>\n",
       "      <td>2398795</td>\n",
       "      <td>1</td>\n",
       "      <td>2</td>\n",
       "      <td>3</td>\n",
       "      <td>7</td>\n",
       "      <td>15.0</td>\n",
       "      <td>196</td>\n",
       "      <td>1</td>\n",
       "      <td>1</td>\n",
       "      <td>Soda</td>\n",
       "      <td>...</td>\n",
       "      <td>20.5</td>\n",
       "      <td>Non-frequent customer</td>\n",
       "      <td>Female</td>\n",
       "      <td>Alabama</td>\n",
       "      <td>31</td>\n",
       "      <td>2/17/2019</td>\n",
       "      <td>3</td>\n",
       "      <td>married</td>\n",
       "      <td>40423</td>\n",
       "      <td>both</td>\n",
       "    </tr>\n",
       "    <tr>\n",
       "      <th>2</th>\n",
       "      <td>473747</td>\n",
       "      <td>1</td>\n",
       "      <td>3</td>\n",
       "      <td>3</td>\n",
       "      <td>12</td>\n",
       "      <td>21.0</td>\n",
       "      <td>196</td>\n",
       "      <td>1</td>\n",
       "      <td>1</td>\n",
       "      <td>Soda</td>\n",
       "      <td>...</td>\n",
       "      <td>20.5</td>\n",
       "      <td>Non-frequent customer</td>\n",
       "      <td>Female</td>\n",
       "      <td>Alabama</td>\n",
       "      <td>31</td>\n",
       "      <td>2/17/2019</td>\n",
       "      <td>3</td>\n",
       "      <td>married</td>\n",
       "      <td>40423</td>\n",
       "      <td>both</td>\n",
       "    </tr>\n",
       "    <tr>\n",
       "      <th>3</th>\n",
       "      <td>2254736</td>\n",
       "      <td>1</td>\n",
       "      <td>4</td>\n",
       "      <td>4</td>\n",
       "      <td>7</td>\n",
       "      <td>29.0</td>\n",
       "      <td>196</td>\n",
       "      <td>1</td>\n",
       "      <td>1</td>\n",
       "      <td>Soda</td>\n",
       "      <td>...</td>\n",
       "      <td>20.5</td>\n",
       "      <td>Non-frequent customer</td>\n",
       "      <td>Female</td>\n",
       "      <td>Alabama</td>\n",
       "      <td>31</td>\n",
       "      <td>2/17/2019</td>\n",
       "      <td>3</td>\n",
       "      <td>married</td>\n",
       "      <td>40423</td>\n",
       "      <td>both</td>\n",
       "    </tr>\n",
       "    <tr>\n",
       "      <th>4</th>\n",
       "      <td>431534</td>\n",
       "      <td>1</td>\n",
       "      <td>5</td>\n",
       "      <td>4</td>\n",
       "      <td>15</td>\n",
       "      <td>28.0</td>\n",
       "      <td>196</td>\n",
       "      <td>1</td>\n",
       "      <td>1</td>\n",
       "      <td>Soda</td>\n",
       "      <td>...</td>\n",
       "      <td>20.5</td>\n",
       "      <td>Non-frequent customer</td>\n",
       "      <td>Female</td>\n",
       "      <td>Alabama</td>\n",
       "      <td>31</td>\n",
       "      <td>2/17/2019</td>\n",
       "      <td>3</td>\n",
       "      <td>married</td>\n",
       "      <td>40423</td>\n",
       "      <td>both</td>\n",
       "    </tr>\n",
       "  </tbody>\n",
       "</table>\n",
       "<p>5 rows × 31 columns</p>\n",
       "</div>"
      ],
      "text/plain": [
       "   order_id  user_id  order_number  orders_day_of_week  orders_time_of_day  \\\n",
       "0   2539329        1             1                   2                   8   \n",
       "1   2398795        1             2                   3                   7   \n",
       "2    473747        1             3                   3                  12   \n",
       "3   2254736        1             4                   4                   7   \n",
       "4    431534        1             5                   4                  15   \n",
       "\n",
       "   days_since_prior_order  product_id  add_to_cart_order  reordered  \\\n",
       "0                     NaN         196                  1          0   \n",
       "1                    15.0         196                  1          1   \n",
       "2                    21.0         196                  1          1   \n",
       "3                    29.0         196                  1          1   \n",
       "4                    28.0         196                  1          1   \n",
       "\n",
       "  product_name  ...  median_days_btwn_orders   order_frequency_flag  Gender  \\\n",
       "0         Soda  ...                     20.5  Non-frequent customer  Female   \n",
       "1         Soda  ...                     20.5  Non-frequent customer  Female   \n",
       "2         Soda  ...                     20.5  Non-frequent customer  Female   \n",
       "3         Soda  ...                     20.5  Non-frequent customer  Female   \n",
       "4         Soda  ...                     20.5  Non-frequent customer  Female   \n",
       "\n",
       "     State Age date_joined n_dependants  marital_status income  merge_ind  \n",
       "0  Alabama  31   2/17/2019            3         married  40423       both  \n",
       "1  Alabama  31   2/17/2019            3         married  40423       both  \n",
       "2  Alabama  31   2/17/2019            3         married  40423       both  \n",
       "3  Alabama  31   2/17/2019            3         married  40423       both  \n",
       "4  Alabama  31   2/17/2019            3         married  40423       both  \n",
       "\n",
       "[5 rows x 31 columns]"
      ]
     },
     "execution_count": 4,
     "metadata": {},
     "output_type": "execute_result"
    }
   ],
   "source": [
    "# Check Output and Shape\n",
    "\n",
    "insta_merge.head()"
   ]
  },
  {
   "cell_type": "code",
   "execution_count": 5,
   "id": "144ef91e-d070-4592-8baf-52886320c7f8",
   "metadata": {},
   "outputs": [
    {
     "data": {
      "text/plain": [
       "Index(['order_id', 'user_id', 'order_number', 'orders_day_of_week',\n",
       "       'orders_time_of_day', 'days_since_prior_order', 'product_id',\n",
       "       'add_to_cart_order', 'reordered', 'product_name', 'aisle_id',\n",
       "       'department_id', 'prices', '_merge', 'price_range_loc', 'busiest_days',\n",
       "       'busiest_period_of_day', 'max_order', 'loyalty_flag',\n",
       "       'average_purchase_cost', 'spending_flag', 'median_days_btwn_orders',\n",
       "       'order_frequency_flag', 'Gender', 'State', 'Age', 'date_joined',\n",
       "       'n_dependants', 'marital_status', 'income', 'merge_ind'],\n",
       "      dtype='object')"
      ]
     },
     "execution_count": 5,
     "metadata": {},
     "output_type": "execute_result"
    }
   ],
   "source": [
    "insta_merge.columns"
   ]
  },
  {
   "cell_type": "code",
   "execution_count": 6,
   "id": "f235b677-60a9-405c-a2e4-03638b8276ba",
   "metadata": {},
   "outputs": [
    {
     "data": {
      "text/plain": [
       "(32404859, 31)"
      ]
     },
     "execution_count": 6,
     "metadata": {},
     "output_type": "execute_result"
    }
   ],
   "source": [
    "insta_merge.shape"
   ]
  },
  {
   "cell_type": "markdown",
   "id": "8cfbfd26-5225-41c7-a2fe-9771486040ae",
   "metadata": {},
   "source": [
    "### Step 2 - Consider any Security Implications for this Data"
   ]
  },
  {
   "cell_type": "markdown",
   "id": "7f1d88a2-a6b2-4cbb-b662-5314565eaf42",
   "metadata": {},
   "source": [
    "There is quite a bit of personal data in this data set. Namely, income, marital status, state of residence, and user id. Previously, this data contained first and last names of each customer. A decision was made to create a dataframe without these columns, in order to protect the idenity of the customers. The names of the customers was not relevant to this particular analysis, and we can always use the user id within our internal records to properly identify customers for any follow-up analysis. Given the amount of personally identifiable information contained in this data set, it is imperative that we take every precaution when handling and sending this data to others to ensure encryption and password protection. "
   ]
  },
  {
   "cell_type": "markdown",
   "id": "5dddad9c-8690-4cb0-9366-90933f5e6817",
   "metadata": {},
   "source": [
    "### Step 3(A) - Create Regional Segmentation of the Data"
   ]
  },
  {
   "cell_type": "code",
   "execution_count": 7,
   "id": "df0ee5f5-e97d-48c0-83c0-cc68c823dc14",
   "metadata": {},
   "outputs": [],
   "source": [
    "# Start by defining a state_to_region_map\n",
    "\n",
    "state_to_region_map = {\n",
    "    'Maine' : 'Northeast',\n",
    "    'New Hampshire' : 'Northeast',\n",
    "    'Vermont' : 'Northeast',\n",
    "    'Massachusetts' : 'Northeast',\n",
    "    'Rhode Island' : 'Northeast',\n",
    "    'Connecticut' : 'Northeast',\n",
    "    'New York' : 'Northeast',\n",
    "    'Pennsylvania' : 'Northeast',\n",
    "    'New Jersey' : 'Northeast',\n",
    "        'Wisconsin' : 'Midwest',\n",
    "        'Michigan' : 'Midwest',\n",
    "        'Illinois' : 'Midwest',\n",
    "        'Indiana' : 'Midwest',\n",
    "        'Ohio' : 'Midwest',\n",
    "        'North Dakota' : 'Midwest',\n",
    "        'South Dakota' : 'Midwest',\n",
    "        'Nebraska' : 'Midwest',\n",
    "        'Kansas' : 'Midwest', \n",
    "        'Minnesota' : 'Midwest', \n",
    "        'Iowa' : 'Midwest',\n",
    "        'Missouri' : 'Midwest',\n",
    "            'Delaware' : 'South',\n",
    "            'Maryland' : 'South',\n",
    "            'District of Columbia' : 'South',\n",
    "            'Virginia' : 'South',\n",
    "            'West Virginia' : 'South',\n",
    "            'North Carolina' : 'South',\n",
    "            'South Carolina' : 'South',\n",
    "            'Georgia' : 'South',\n",
    "            'Florida' : 'South',\n",
    "            'Kentucky' : 'South',\n",
    "            'Tennessee' : 'South',\n",
    "            'Mississippi' : 'South',\n",
    "            'Alabama' : 'South',\n",
    "            'Oklahoma' : 'South',\n",
    "            'Texas' : 'South',\n",
    "            'Arkansas' : 'South',\n",
    "            'Louisiana' : 'South',\n",
    "                'Idaho' : 'West',\n",
    "                'Montana' : 'West',\n",
    "                'Wyoming' : 'West',\n",
    "                'Nevada' : 'West',\n",
    "                'Utah' : 'West',\n",
    "                'Colorado' : 'West',\n",
    "                'Arizona' : 'West',\n",
    "                'New Mexico' : 'West',\n",
    "                'Alaska' : 'West',\n",
    "                'Washington' : 'West',\n",
    "                'Oregon' : 'West',\n",
    "                'California' : 'West',\n",
    "                'Hawaii' : 'West'\n",
    "}   "
   ]
  },
  {
   "cell_type": "code",
   "execution_count": 8,
   "id": "045839ff-c18a-4712-9c8c-c09f6cec5442",
   "metadata": {},
   "outputs": [
    {
     "name": "stdout",
     "output_type": "stream",
     "text": [
      "{'Maine': 'Northeast', 'New Hampshire': 'Northeast', 'Vermont': 'Northeast', 'Massachusetts': 'Northeast', 'Rhode Island': 'Northeast', 'Connecticut': 'Northeast', 'New York': 'Northeast', 'Pennsylvania': 'Northeast', 'New Jersey': 'Northeast', 'Wisconsin': 'Midwest', 'Michigan': 'Midwest', 'Illinois': 'Midwest', 'Indiana': 'Midwest', 'Ohio': 'Midwest', 'North Dakota': 'Midwest', 'South Dakota': 'Midwest', 'Nebraska': 'Midwest', 'Kansas': 'Midwest', 'Minnesota': 'Midwest', 'Iowa': 'Midwest', 'Missouri': 'Midwest', 'Delaware': 'South', 'Maryland': 'South', 'District of Columbia': 'South', 'Virginia': 'South', 'West Virginia': 'South', 'North Carolina': 'South', 'South Carolina': 'South', 'Georgia': 'South', 'Florida': 'South', 'Kentucky': 'South', 'Tennessee': 'South', 'Mississippi': 'South', 'Alabama': 'South', 'Oklahoma': 'South', 'Texas': 'South', 'Arkansas': 'South', 'Louisiana': 'South', 'Idaho': 'West', 'Montana': 'West', 'Wyoming': 'West', 'Nevada': 'West', 'Utah': 'West', 'Colorado': 'West', 'Arizona': 'West', 'New Mexico': 'West', 'Alaska': 'West', 'Washington': 'West', 'Oregon': 'West', 'California': 'West', 'Hawaii': 'West'}\n"
     ]
    }
   ],
   "source": [
    "# Check output\n",
    "\n",
    "print(state_to_region_map)"
   ]
  },
  {
   "cell_type": "code",
   "execution_count": 9,
   "id": "d1ed8ab8-1d38-48ae-a671-c47477f1157d",
   "metadata": {},
   "outputs": [],
   "source": [
    "# Now use loc function to create a Region column\n",
    "\n",
    "insta_merge.loc[:, 'Region'] = insta_merge['State'].map(state_to_region_map)"
   ]
  },
  {
   "cell_type": "code",
   "execution_count": 10,
   "id": "54e041c0-55fc-46ce-aed6-2c9ed9d2538a",
   "metadata": {},
   "outputs": [],
   "source": [
    "# For Quality Check - make states not listed in map appear as \"Other\"\n",
    "\n",
    "insta_merge['Region'].fillna('Other', inplace=True)"
   ]
  },
  {
   "cell_type": "code",
   "execution_count": 11,
   "id": "969e4b69-24d2-4b5a-b977-a360fad50b1e",
   "metadata": {},
   "outputs": [
    {
     "data": {
      "text/plain": [
       "0    South\n",
       "1    South\n",
       "2    South\n",
       "3    South\n",
       "4    South\n",
       "Name: Region, dtype: object"
      ]
     },
     "execution_count": 11,
     "metadata": {},
     "output_type": "execute_result"
    }
   ],
   "source": [
    "# Check Output\n",
    "\n",
    "insta_merge['Region'].head()"
   ]
  },
  {
   "cell_type": "code",
   "execution_count": 12,
   "id": "773abdb7-8ad9-4527-bb60-af847df2729b",
   "metadata": {},
   "outputs": [
    {
     "name": "stdout",
     "output_type": "stream",
     "text": [
      "<class 'pandas.core.series.Series'>\n",
      "RangeIndex: 32404859 entries, 0 to 32404858\n",
      "Series name: Region\n",
      "Non-Null Count     Dtype \n",
      "--------------     ----- \n",
      "32404859 non-null  object\n",
      "dtypes: object(1)\n",
      "memory usage: 247.2+ MB\n"
     ]
    }
   ],
   "source": [
    "insta_merge['Region'].info()"
   ]
  },
  {
   "cell_type": "code",
   "execution_count": 13,
   "id": "d9152c9b-2174-4e23-93d4-0a6f9d111aac",
   "metadata": {},
   "outputs": [
    {
     "data": {
      "text/plain": [
       "Region\n",
       "South        10791885\n",
       "West          8292913\n",
       "Midwest       7597325\n",
       "Northeast     5722736\n",
       "Name: count, dtype: int64"
      ]
     },
     "execution_count": 13,
     "metadata": {},
     "output_type": "execute_result"
    }
   ],
   "source": [
    "insta_merge['Region'].value_counts()"
   ]
  },
  {
   "cell_type": "markdown",
   "id": "400b575f-6ec5-43eb-b289-c1d260b46608",
   "metadata": {},
   "source": [
    "As we can see, the vast majority of InstaCart customers are in the South region. This may be due to the fact that the South region has 17 states in it. That is more than the West (13), Midwest (12), and Northeast (9). \n",
    "\n",
    "We can also observe there are no \"Other\" values counted, indicating that all records have been assigned proper region. "
   ]
  },
  {
   "cell_type": "markdown",
   "id": "39b83a77-bb10-4e82-ba30-1e371fb030da",
   "metadata": {},
   "source": [
    "### Step 3(B) - Determine Spending Habits by Region"
   ]
  },
  {
   "cell_type": "code",
   "execution_count": 14,
   "id": "fddc01e9-1a65-4881-8e1e-9d255cac3343",
   "metadata": {},
   "outputs": [],
   "source": [
    "# Create Subset Sample \n",
    "\n",
    "# This sample will be 10% of the total amount of records in our insta_merge dataframe\n",
    "\n",
    "region_sample = insta_merge[: 3240485]"
   ]
  },
  {
   "cell_type": "code",
   "execution_count": 15,
   "id": "4fb3a2d7-d6f6-4127-8cc4-c9b9963fb913",
   "metadata": {},
   "outputs": [
    {
     "data": {
      "text/html": [
       "<div>\n",
       "<style scoped>\n",
       "    .dataframe tbody tr th:only-of-type {\n",
       "        vertical-align: middle;\n",
       "    }\n",
       "\n",
       "    .dataframe tbody tr th {\n",
       "        vertical-align: top;\n",
       "    }\n",
       "\n",
       "    .dataframe thead th {\n",
       "        text-align: right;\n",
       "    }\n",
       "</style>\n",
       "<table border=\"1\" class=\"dataframe\">\n",
       "  <thead>\n",
       "    <tr style=\"text-align: right;\">\n",
       "      <th></th>\n",
       "      <th>order_id</th>\n",
       "      <th>user_id</th>\n",
       "      <th>order_number</th>\n",
       "      <th>orders_day_of_week</th>\n",
       "      <th>orders_time_of_day</th>\n",
       "      <th>days_since_prior_order</th>\n",
       "      <th>product_id</th>\n",
       "      <th>add_to_cart_order</th>\n",
       "      <th>reordered</th>\n",
       "      <th>product_name</th>\n",
       "      <th>...</th>\n",
       "      <th>order_frequency_flag</th>\n",
       "      <th>Gender</th>\n",
       "      <th>State</th>\n",
       "      <th>Age</th>\n",
       "      <th>date_joined</th>\n",
       "      <th>n_dependants</th>\n",
       "      <th>marital_status</th>\n",
       "      <th>income</th>\n",
       "      <th>merge_ind</th>\n",
       "      <th>Region</th>\n",
       "    </tr>\n",
       "  </thead>\n",
       "  <tbody>\n",
       "    <tr>\n",
       "      <th>0</th>\n",
       "      <td>2539329</td>\n",
       "      <td>1</td>\n",
       "      <td>1</td>\n",
       "      <td>2</td>\n",
       "      <td>8</td>\n",
       "      <td>NaN</td>\n",
       "      <td>196</td>\n",
       "      <td>1</td>\n",
       "      <td>0</td>\n",
       "      <td>Soda</td>\n",
       "      <td>...</td>\n",
       "      <td>Non-frequent customer</td>\n",
       "      <td>Female</td>\n",
       "      <td>Alabama</td>\n",
       "      <td>31</td>\n",
       "      <td>2/17/2019</td>\n",
       "      <td>3</td>\n",
       "      <td>married</td>\n",
       "      <td>40423</td>\n",
       "      <td>both</td>\n",
       "      <td>South</td>\n",
       "    </tr>\n",
       "    <tr>\n",
       "      <th>1</th>\n",
       "      <td>2398795</td>\n",
       "      <td>1</td>\n",
       "      <td>2</td>\n",
       "      <td>3</td>\n",
       "      <td>7</td>\n",
       "      <td>15.0</td>\n",
       "      <td>196</td>\n",
       "      <td>1</td>\n",
       "      <td>1</td>\n",
       "      <td>Soda</td>\n",
       "      <td>...</td>\n",
       "      <td>Non-frequent customer</td>\n",
       "      <td>Female</td>\n",
       "      <td>Alabama</td>\n",
       "      <td>31</td>\n",
       "      <td>2/17/2019</td>\n",
       "      <td>3</td>\n",
       "      <td>married</td>\n",
       "      <td>40423</td>\n",
       "      <td>both</td>\n",
       "      <td>South</td>\n",
       "    </tr>\n",
       "    <tr>\n",
       "      <th>2</th>\n",
       "      <td>473747</td>\n",
       "      <td>1</td>\n",
       "      <td>3</td>\n",
       "      <td>3</td>\n",
       "      <td>12</td>\n",
       "      <td>21.0</td>\n",
       "      <td>196</td>\n",
       "      <td>1</td>\n",
       "      <td>1</td>\n",
       "      <td>Soda</td>\n",
       "      <td>...</td>\n",
       "      <td>Non-frequent customer</td>\n",
       "      <td>Female</td>\n",
       "      <td>Alabama</td>\n",
       "      <td>31</td>\n",
       "      <td>2/17/2019</td>\n",
       "      <td>3</td>\n",
       "      <td>married</td>\n",
       "      <td>40423</td>\n",
       "      <td>both</td>\n",
       "      <td>South</td>\n",
       "    </tr>\n",
       "    <tr>\n",
       "      <th>3</th>\n",
       "      <td>2254736</td>\n",
       "      <td>1</td>\n",
       "      <td>4</td>\n",
       "      <td>4</td>\n",
       "      <td>7</td>\n",
       "      <td>29.0</td>\n",
       "      <td>196</td>\n",
       "      <td>1</td>\n",
       "      <td>1</td>\n",
       "      <td>Soda</td>\n",
       "      <td>...</td>\n",
       "      <td>Non-frequent customer</td>\n",
       "      <td>Female</td>\n",
       "      <td>Alabama</td>\n",
       "      <td>31</td>\n",
       "      <td>2/17/2019</td>\n",
       "      <td>3</td>\n",
       "      <td>married</td>\n",
       "      <td>40423</td>\n",
       "      <td>both</td>\n",
       "      <td>South</td>\n",
       "    </tr>\n",
       "    <tr>\n",
       "      <th>4</th>\n",
       "      <td>431534</td>\n",
       "      <td>1</td>\n",
       "      <td>5</td>\n",
       "      <td>4</td>\n",
       "      <td>15</td>\n",
       "      <td>28.0</td>\n",
       "      <td>196</td>\n",
       "      <td>1</td>\n",
       "      <td>1</td>\n",
       "      <td>Soda</td>\n",
       "      <td>...</td>\n",
       "      <td>Non-frequent customer</td>\n",
       "      <td>Female</td>\n",
       "      <td>Alabama</td>\n",
       "      <td>31</td>\n",
       "      <td>2/17/2019</td>\n",
       "      <td>3</td>\n",
       "      <td>married</td>\n",
       "      <td>40423</td>\n",
       "      <td>both</td>\n",
       "      <td>South</td>\n",
       "    </tr>\n",
       "  </tbody>\n",
       "</table>\n",
       "<p>5 rows × 32 columns</p>\n",
       "</div>"
      ],
      "text/plain": [
       "   order_id  user_id  order_number  orders_day_of_week  orders_time_of_day  \\\n",
       "0   2539329        1             1                   2                   8   \n",
       "1   2398795        1             2                   3                   7   \n",
       "2    473747        1             3                   3                  12   \n",
       "3   2254736        1             4                   4                   7   \n",
       "4    431534        1             5                   4                  15   \n",
       "\n",
       "   days_since_prior_order  product_id  add_to_cart_order  reordered  \\\n",
       "0                     NaN         196                  1          0   \n",
       "1                    15.0         196                  1          1   \n",
       "2                    21.0         196                  1          1   \n",
       "3                    29.0         196                  1          1   \n",
       "4                    28.0         196                  1          1   \n",
       "\n",
       "  product_name  ...   order_frequency_flag  Gender    State Age date_joined  \\\n",
       "0         Soda  ...  Non-frequent customer  Female  Alabama  31   2/17/2019   \n",
       "1         Soda  ...  Non-frequent customer  Female  Alabama  31   2/17/2019   \n",
       "2         Soda  ...  Non-frequent customer  Female  Alabama  31   2/17/2019   \n",
       "3         Soda  ...  Non-frequent customer  Female  Alabama  31   2/17/2019   \n",
       "4         Soda  ...  Non-frequent customer  Female  Alabama  31   2/17/2019   \n",
       "\n",
       "  n_dependants marital_status  income merge_ind  Region  \n",
       "0            3        married   40423      both   South  \n",
       "1            3        married   40423      both   South  \n",
       "2            3        married   40423      both   South  \n",
       "3            3        married   40423      both   South  \n",
       "4            3        married   40423      both   South  \n",
       "\n",
       "[5 rows x 32 columns]"
      ]
     },
     "execution_count": 15,
     "metadata": {},
     "output_type": "execute_result"
    }
   ],
   "source": [
    "# Check Output and Shape\n",
    "\n",
    "region_sample.head()"
   ]
  },
  {
   "cell_type": "code",
   "execution_count": 16,
   "id": "8b2c2997-5ae6-4cc6-aa78-24cb9c796d8e",
   "metadata": {},
   "outputs": [
    {
     "data": {
      "text/plain": [
       "(3240485, 32)"
      ]
     },
     "execution_count": 16,
     "metadata": {},
     "output_type": "execute_result"
    }
   ],
   "source": [
    "region_sample.shape"
   ]
  },
  {
   "cell_type": "code",
   "execution_count": 17,
   "id": "34c43564-ce3c-4727-ae21-59823c9cb52b",
   "metadata": {},
   "outputs": [
    {
     "data": {
      "text/plain": [
       "0    Low spender\n",
       "1    Low spender\n",
       "2    Low spender\n",
       "3    Low spender\n",
       "4    Low spender\n",
       "Name: spending_flag, dtype: object"
      ]
     },
     "execution_count": 17,
     "metadata": {},
     "output_type": "execute_result"
    }
   ],
   "source": [
    "# Check output of spending flag\n",
    "\n",
    "region_sample['spending_flag'].head()"
   ]
  },
  {
   "cell_type": "code",
   "execution_count": 18,
   "id": "fd023263-6f2d-428c-86a2-aa0ef8a19b0a",
   "metadata": {},
   "outputs": [],
   "source": [
    "# Create a Crosstab of Region and Spending Flag\n",
    "\n",
    "crosstab_region_spending = pd.crosstab(region_sample['Region'], region_sample['spending_flag'])"
   ]
  },
  {
   "cell_type": "code",
   "execution_count": 19,
   "id": "3cb825dd-f4d1-4140-a2e6-89c2a7947184",
   "metadata": {},
   "outputs": [
    {
     "data": {
      "text/html": [
       "<div>\n",
       "<style scoped>\n",
       "    .dataframe tbody tr th:only-of-type {\n",
       "        vertical-align: middle;\n",
       "    }\n",
       "\n",
       "    .dataframe tbody tr th {\n",
       "        vertical-align: top;\n",
       "    }\n",
       "\n",
       "    .dataframe thead th {\n",
       "        text-align: right;\n",
       "    }\n",
       "</style>\n",
       "<table border=\"1\" class=\"dataframe\">\n",
       "  <thead>\n",
       "    <tr style=\"text-align: right;\">\n",
       "      <th>spending_flag</th>\n",
       "      <th>High spender</th>\n",
       "      <th>Low spender</th>\n",
       "    </tr>\n",
       "    <tr>\n",
       "      <th>Region</th>\n",
       "      <th></th>\n",
       "      <th></th>\n",
       "    </tr>\n",
       "  </thead>\n",
       "  <tbody>\n",
       "    <tr>\n",
       "      <th>Midwest</th>\n",
       "      <td>1896</td>\n",
       "      <td>725032</td>\n",
       "    </tr>\n",
       "    <tr>\n",
       "      <th>Northeast</th>\n",
       "      <td>1835</td>\n",
       "      <td>575048</td>\n",
       "    </tr>\n",
       "    <tr>\n",
       "      <th>South</th>\n",
       "      <td>2246</td>\n",
       "      <td>1089534</td>\n",
       "    </tr>\n",
       "    <tr>\n",
       "      <th>West</th>\n",
       "      <td>2195</td>\n",
       "      <td>842699</td>\n",
       "    </tr>\n",
       "  </tbody>\n",
       "</table>\n",
       "</div>"
      ],
      "text/plain": [
       "spending_flag  High spender  Low spender\n",
       "Region                                  \n",
       "Midwest                1896       725032\n",
       "Northeast              1835       575048\n",
       "South                  2246      1089534\n",
       "West                   2195       842699"
      ]
     },
     "execution_count": 19,
     "metadata": {},
     "output_type": "execute_result"
    }
   ],
   "source": [
    "# Check output and shape\n",
    "\n",
    "crosstab_region_spending.head()"
   ]
  },
  {
   "cell_type": "code",
   "execution_count": 20,
   "id": "debfd8b6-57d4-45f4-9afc-0da94d54a473",
   "metadata": {},
   "outputs": [],
   "source": [
    "crosstab_region_spending.to_clipboard()"
   ]
  },
  {
   "cell_type": "code",
   "execution_count": 21,
   "id": "42a39e3b-3ca0-4c5e-a2a4-81fc1a402d70",
   "metadata": {},
   "outputs": [
    {
     "data": {
      "text/plain": [
       "spending_flag\n",
       "Low spender     3232313\n",
       "High spender       8172\n",
       "Name: count, dtype: int64"
      ]
     },
     "execution_count": 21,
     "metadata": {},
     "output_type": "execute_result"
    }
   ],
   "source": [
    "region_sample['spending_flag'].value_counts()"
   ]
  },
  {
   "cell_type": "code",
   "execution_count": 22,
   "id": "dcbf711d-45de-40cc-83fd-366624d31458",
   "metadata": {},
   "outputs": [
    {
     "data": {
      "text/plain": [
       "spending_flag\n",
       "Low spender     32282827\n",
       "High spender      122032\n",
       "Name: count, dtype: int64"
      ]
     },
     "execution_count": 22,
     "metadata": {},
     "output_type": "execute_result"
    }
   ],
   "source": [
    "insta_merge['spending_flag'].value_counts()"
   ]
  },
  {
   "cell_type": "code",
   "execution_count": 23,
   "id": "dfc84937-67d8-4428-9d77-e82b30e501e1",
   "metadata": {},
   "outputs": [],
   "source": [
    "# Filter high spender and low spender categories to make two bar charts\n",
    "# Since the scale of the results is so different for each group, it makes more sense to compare each group in a separate chart\n",
    "# This allows for a more granular and precise analysis and visualization\n",
    "\n",
    "high_spenders = region_sample[region_sample['spending_flag'] == 'High spender']"
   ]
  },
  {
   "cell_type": "code",
   "execution_count": 24,
   "id": "9f472dde-9a27-4bc8-a8df-6635e344886c",
   "metadata": {},
   "outputs": [],
   "source": [
    "# Now create low spenders group\n",
    "\n",
    "low_spenders = region_sample[region_sample['spending_flag'] == 'Low spender']"
   ]
  },
  {
   "cell_type": "markdown",
   "id": "a34328ce-48aa-4be4-bb21-716bbabaff9d",
   "metadata": {},
   "source": [
    "### We will now create 2 bar charts (one for high spenders and one for low spenders) to visualize the results of the crosstab."
   ]
  },
  {
   "cell_type": "markdown",
   "id": "a4c3715f-7dbf-4cc9-a2eb-6cacc8b93659",
   "metadata": {},
   "source": [
    "### Defining High and Low Spender Counts"
   ]
  },
  {
   "cell_type": "code",
   "execution_count": 25,
   "id": "9188e1ca-acf4-4eba-9326-996f463ce241",
   "metadata": {},
   "outputs": [],
   "source": [
    "# Group by region and count the number of customers in each region for high spenders and low spenders\n",
    "\n",
    "high_spenders_counts = high_spenders.groupby('Region').size()\n",
    "low_spenders_counts = low_spenders.groupby('Region').size()"
   ]
  },
  {
   "cell_type": "code",
   "execution_count": 26,
   "id": "81b1a83c-c4d1-4a59-9a1c-142b6a231238",
   "metadata": {},
   "outputs": [],
   "source": [
    "# Check output"
   ]
  },
  {
   "cell_type": "code",
   "execution_count": 27,
   "id": "24e550d5-6e40-4fe3-ada6-7accacef6191",
   "metadata": {},
   "outputs": [
    {
     "data": {
      "text/plain": [
       "Region\n",
       "Midwest      1896\n",
       "Northeast    1835\n",
       "South        2246\n",
       "West         2195\n",
       "dtype: int64"
      ]
     },
     "execution_count": 27,
     "metadata": {},
     "output_type": "execute_result"
    }
   ],
   "source": [
    "high_spenders_counts.head()"
   ]
  },
  {
   "cell_type": "code",
   "execution_count": 28,
   "id": "8cc15649-4f66-456c-8129-6991e1dea282",
   "metadata": {},
   "outputs": [],
   "source": [
    "import matplotlib.ticker as tkr\n",
    "from matplotlib.ticker import ScalarFormatter"
   ]
  },
  {
   "cell_type": "code",
   "execution_count": 30,
   "id": "4f2bd14d-985d-45f3-9e3b-82ce19f2c177",
   "metadata": {},
   "outputs": [
    {
     "data": {
      "image/png": "[encoded data removed]",
      "text/plain": [
       "<Figure size 640x480 with 1 Axes>"
      ]
     },
     "metadata": {},
     "output_type": "display_data"
    }
   ],
   "source": [
    "high_spenders_counts.plot.bar(color = ['aqua', '#069AF3', 'blue', 'indigo'])\n",
    "plt.title('High Spenders by Region')\n",
    "plt.xlabel('Region')\n",
    "plt.ylabel('Customer Count')\n",
    "plt.show()"
   ]
  },
  {
   "cell_type": "code",
   "execution_count": 31,
   "id": "ce6b3973-e506-4076-b840-bab6d7396dea",
   "metadata": {},
   "outputs": [
    {
     "data": {
      "image/png": "[encoded data removed]",
      "text/plain": [
       "<Figure size 640x480 with 1 Axes>"
      ]
     },
     "metadata": {},
     "output_type": "display_data"
    }
   ],
   "source": [
    "# Code for saving the chart into an object form\n",
    "\n",
    "bar_regional_high_spenders = high_spenders_counts.plot.bar(color = ['aqua', '#069AF3', 'blue', 'indigo'])\n",
    "plt.title('High Spenders by Region')\n",
    "plt.xlabel('Region')\n",
    "plt.ylabel('Customer Count')\n",
    "plt.show()"
   ]
  },
  {
   "cell_type": "code",
   "execution_count": 32,
   "id": "2b71d1d3-398a-4fdc-91fe-195d6b05205f",
   "metadata": {},
   "outputs": [],
   "source": [
    "# Code for Exporting Bar figure to file on computer\n",
    "\n",
    "bar_regional_high_spenders.figure.savefig(os.path.join(path, '04 Analysis','Visualizations', 'bar_regional_high_spenders.png'))"
   ]
  },
  {
   "cell_type": "code",
   "execution_count": 33,
   "id": "d82f3984-30a4-40ba-a018-c0fdddb953e1",
   "metadata": {},
   "outputs": [],
   "source": [
    "# Adjust layout to prevent labels from being cut off\n",
    "\n",
    "bar_regional_high_spenders.figure.tight_layout()"
   ]
  },
  {
   "cell_type": "code",
   "execution_count": 34,
   "id": "886dcacb-8a7f-4cfd-9c85-c23d9127e428",
   "metadata": {},
   "outputs": [],
   "source": [
    "# Code for Exporting Bar figure to file on computer\n",
    "\n",
    "bar_regional_high_spenders.figure.savefig(os.path.join(path, '04 Analysis','Visualizations', 'bar_regional_high_spenders.png'))"
   ]
  },
  {
   "cell_type": "markdown",
   "id": "28ecd06c-55cb-497f-9ae3-6340b2888a5d",
   "metadata": {},
   "source": [
    "### Repeat Process for Low Spenders"
   ]
  },
  {
   "cell_type": "code",
   "execution_count": 35,
   "id": "fe1de146-01c8-4eac-9e5f-16b320617847",
   "metadata": {},
   "outputs": [
    {
     "data": {
      "text/plain": [
       "Region\n",
       "Midwest       725032\n",
       "Northeast     575048\n",
       "South        1089534\n",
       "West          842699\n",
       "dtype: int64"
      ]
     },
     "execution_count": 35,
     "metadata": {},
     "output_type": "execute_result"
    }
   ],
   "source": [
    "# Check output\n",
    "\n",
    "low_spenders_counts.head()"
   ]
  },
  {
   "cell_type": "code",
   "execution_count": 36,
   "id": "991b737b-0728-40b7-bbf0-621bd55a32cf",
   "metadata": {},
   "outputs": [
    {
     "name": "stderr",
     "output_type": "stream",
     "text": [
      "C:\\Users\\Josh Wattay\\AppData\\Local\\Temp\\ipykernel_16948\\4279566733.py:10: UserWarning: set_ticklabels() should only be used with a fixed number of ticks, i.e. after set_ticks() or using a FixedLocator.\n",
      "  ax.set_yticklabels([f'{int(x)}' for x in ax.get_yticks()])\n"
     ]
    },
    {
     "data": {
      "text/plain": [
       "[Text(0, 0.0, '0'),\n",
       " Text(0, 200000.0, '200000'),\n",
       " Text(0, 400000.0, '400000'),\n",
       " Text(0, 600000.0, '600000'),\n",
       " Text(0, 800000.0, '800000'),\n",
       " Text(0, 1000000.0, '1000000'),\n",
       " Text(0, 1200000.0, '1200000')]"
      ]
     },
     "execution_count": 36,
     "metadata": {},
     "output_type": "execute_result"
    },
    {
     "data": {
      "image/png": "[encoded data removed]",
      "text/plain": [
       "<Figure size 640x480 with 1 Axes>"
      ]
     },
     "metadata": {},
     "output_type": "display_data"
    }
   ],
   "source": [
    "# Create Bar Chart for Low Spenders by Region\n",
    "\n",
    "low_spenders_counts.plot.bar(color = ['coral', 'red', 'salmon', 'crimson'])\n",
    "ax = low_spenders_counts.plot.bar(color = ['coral', 'red', 'salmon', 'crimson'])\n",
    "plt.title('Low Spenders by Region')\n",
    "plt.xlabel('Region')\n",
    "plt.ylabel('Customer Count')\n",
    "\n",
    "# Manually format y-axis tick labels to disable scientific notation\n",
    "ax.set_yticklabels([f'{int(x)}' for x in ax.get_yticks()])"
   ]
  },
  {
   "cell_type": "code",
   "execution_count": 37,
   "id": "2e15adcd-b70b-4d2b-bfcb-46f33dc205c0",
   "metadata": {},
   "outputs": [
    {
     "name": "stderr",
     "output_type": "stream",
     "text": [
      "C:\\Users\\Josh Wattay\\AppData\\Local\\Temp\\ipykernel_16948\\3017384891.py:10: UserWarning: set_ticklabels() should only be used with a fixed number of ticks, i.e. after set_ticks() or using a FixedLocator.\n",
      "  ax.set_yticklabels([f'{int(x)}' for x in ax.get_yticks()])\n"
     ]
    },
    {
     "data": {
      "text/plain": [
       "[Text(0, 0.0, '0'),\n",
       " Text(0, 200000.0, '200000'),\n",
       " Text(0, 400000.0, '400000'),\n",
       " Text(0, 600000.0, '600000'),\n",
       " Text(0, 800000.0, '800000'),\n",
       " Text(0, 1000000.0, '1000000'),\n",
       " Text(0, 1200000.0, '1200000')]"
      ]
     },
     "execution_count": 37,
     "metadata": {},
     "output_type": "execute_result"
    },
    {
     "data": {
      "image/png": "[encoded data removed]",
      "text/plain": [
       "<Figure size 640x480 with 1 Axes>"
      ]
     },
     "metadata": {},
     "output_type": "display_data"
    }
   ],
   "source": [
    "# Code for saving the chart into an object form\n",
    "\n",
    "bar_regional_low_spenders = low_spenders_counts.plot.bar(color = ['coral', 'red', 'salmon', 'crimson'])\n",
    "ax = low_spenders_counts.plot.bar(color = ['coral', 'red', 'salmon', 'crimson'])\n",
    "plt.title('Low Spenders by Region')\n",
    "plt.xlabel('Region')\n",
    "plt.ylabel('Customer Count')\n",
    "\n",
    "# Manually format y-axis tick labels to disable scientific notation\n",
    "ax.set_yticklabels([f'{int(x)}' for x in ax.get_yticks()])"
   ]
  },
  {
   "cell_type": "code",
   "execution_count": 38,
   "id": "6bf1724d-be26-43cc-8f63-d1f97c43c19a",
   "metadata": {},
   "outputs": [],
   "source": [
    "# Adjust layout to prevent labels from being cut off\n",
    "\n",
    "bar_regional_low_spenders.figure.tight_layout()"
   ]
  },
  {
   "cell_type": "code",
   "execution_count": 39,
   "id": "493f52ec-2f7c-412e-aa16-62ae9f64f424",
   "metadata": {},
   "outputs": [],
   "source": [
    "# Code for Exporting Bar figure to file on computer\n",
    "\n",
    "bar_regional_low_spenders.figure.savefig(os.path.join(path, '04 Analysis','Visualizations', 'bar_regional_low_spenders.png'))"
   ]
  },
  {
   "cell_type": "markdown",
   "id": "0cc6118b-d74d-4aba-8122-0e1f6ac5d23f",
   "metadata": {},
   "source": [
    "### Based on the above results, the South has the most low spenders and the most high spenders, but the South also has the most states and the most customers. There is a need to create a ratio of low spenders and high spenders based upon total amount of customers by region. This will give a more accurate representation of the proportion of customers in each category, opposed to just the volume alone."
   ]
  },
  {
   "cell_type": "code",
   "execution_count": 40,
   "id": "10acda5e-03e3-45d5-a61b-4c5a2cd3512c",
   "metadata": {},
   "outputs": [],
   "source": [
    "# Creating a Total Regional Customers object in order to divide the low spenders and high spenders by this number.\n",
    "\n",
    "total_regional_customers = insta_merge['Region'].value_counts()"
   ]
  },
  {
   "cell_type": "code",
   "execution_count": 41,
   "id": "7234c249-24f3-4a33-835c-74a3009dcdb2",
   "metadata": {},
   "outputs": [
    {
     "data": {
      "text/plain": [
       "Region\n",
       "South        10791885\n",
       "West          8292913\n",
       "Midwest       7597325\n",
       "Northeast     5722736\n",
       "Name: count, dtype: int64"
      ]
     },
     "execution_count": 41,
     "metadata": {},
     "output_type": "execute_result"
    }
   ],
   "source": [
    "# Check output\n",
    "\n",
    "total_regional_customers.head()"
   ]
  },
  {
   "cell_type": "markdown",
   "id": "4d58dbef-d58e-4aa7-9ec8-4c34e1f46fab",
   "metadata": {},
   "source": [
    "### Now Create your Ratios"
   ]
  },
  {
   "cell_type": "code",
   "execution_count": 42,
   "id": "7a1a5c65-0fd8-4d1a-8734-355081603090",
   "metadata": {},
   "outputs": [
    {
     "data": {
      "text/plain": [
       "Region\n",
       "Midwest      0.095433\n",
       "Northeast    0.100485\n",
       "South        0.100959\n",
       "West         0.101617\n",
       "dtype: float64"
      ]
     },
     "execution_count": 42,
     "metadata": {},
     "output_type": "execute_result"
    }
   ],
   "source": [
    "low_spenders_counts / total_regional_customers"
   ]
  },
  {
   "cell_type": "code",
   "execution_count": 43,
   "id": "4ce1f34f-5be1-4e1d-8905-371140f93825",
   "metadata": {},
   "outputs": [
    {
     "data": {
      "text/plain": [
       "Region\n",
       "Midwest       9.543254\n",
       "Northeast    10.048480\n",
       "South        10.095864\n",
       "West         10.161677\n",
       "dtype: float64"
      ]
     },
     "execution_count": 43,
     "metadata": {},
     "output_type": "execute_result"
    }
   ],
   "source": [
    "# Convert results to percentages\n",
    "\n",
    "(low_spenders_counts / total_regional_customers)*100"
   ]
  },
  {
   "cell_type": "markdown",
   "id": "d58c8daa-be41-43be-96a4-c79176e5ce3a",
   "metadata": {},
   "source": [
    "### As we can see, the ratio of low spenders in each region is extremely similar. For the Midwest, 9.54% are low spenders. For the Northeast, 10.04% are low spenders. For the South, 10.09% are low spenders. For the West, 10.16% are low spenders."
   ]
  },
  {
   "cell_type": "code",
   "execution_count": 44,
   "id": "078fabb3-033a-413f-abe4-f32535613bae",
   "metadata": {},
   "outputs": [],
   "source": [
    "# Create a bar chart with the ratio results - start by creating low spenders ratio object\n",
    "\n",
    "low_spenders_ratio = (low_spenders_counts / total_regional_customers)*100"
   ]
  },
  {
   "cell_type": "code",
   "execution_count": 45,
   "id": "b3dc0e08-c2cb-49b5-95cd-fff2a24f7ed8",
   "metadata": {},
   "outputs": [
    {
     "data": {
      "text/plain": [
       "Region\n",
       "Midwest       9.543254\n",
       "Northeast    10.048480\n",
       "South        10.095864\n",
       "West         10.161677\n",
       "dtype: float64"
      ]
     },
     "execution_count": 45,
     "metadata": {},
     "output_type": "execute_result"
    }
   ],
   "source": [
    "low_spenders_ratio"
   ]
  },
  {
   "cell_type": "code",
   "execution_count": 46,
   "id": "a8fcc6ae-1613-44cc-8942-171fe6f9c48f",
   "metadata": {},
   "outputs": [
    {
     "data": {
      "image/png": "[encoded data removed]",
      "text/plain": [
       "<Figure size 640x480 with 1 Axes>"
      ]
     },
     "metadata": {},
     "output_type": "display_data"
    }
   ],
   "source": [
    "# Create Bar Chart\n",
    "\n",
    "low_spenders_ratio.plot.bar(color = ['coral', 'red', 'salmon', 'crimson'])\n",
    "plt.title('Percentage of Low Spenders by Region')\n",
    "plt.xlabel('Region')\n",
    "plt.ylabel('Percentage')\n",
    "plt.show()"
   ]
  },
  {
   "cell_type": "code",
   "execution_count": 47,
   "id": "7b5acc78-c34e-4d1a-b748-860bec567411",
   "metadata": {},
   "outputs": [
    {
     "data": {
      "text/plain": [
       "Text(0, 0.5, 'Percentage')"
      ]
     },
     "execution_count": 47,
     "metadata": {},
     "output_type": "execute_result"
    },
    {
     "data": {
      "image/png": "[encoded data removed]",
      "text/plain": [
       "<Figure size 640x480 with 1 Axes>"
      ]
     },
     "metadata": {},
     "output_type": "display_data"
    }
   ],
   "source": [
    "# Save Bar Chart as Figure\n",
    "\n",
    "# Code for saving the chart into an object form\n",
    "\n",
    "bar_low_spenders_ratio = low_spenders_ratio.plot.bar(color = ['coral', 'red', 'salmon', 'crimson'])\n",
    "plt.title('Percentage of Low Spenders by Region')\n",
    "plt.xlabel('Region')\n",
    "plt.ylabel('Percentage')"
   ]
  },
  {
   "cell_type": "code",
   "execution_count": 48,
   "id": "8efdfa0e-89b2-4475-9a14-5c0dab406c9d",
   "metadata": {},
   "outputs": [],
   "source": [
    "# Adjust layout to prevent labels from being cut off\n",
    "\n",
    "bar_low_spenders_ratio.figure.tight_layout()"
   ]
  },
  {
   "cell_type": "code",
   "execution_count": 49,
   "id": "62e5edc5-1434-4cce-a9b4-642fb2ccb51d",
   "metadata": {},
   "outputs": [],
   "source": [
    "# Code for Exporting Bar figure to file on computer\n",
    "\n",
    "bar_low_spenders_ratio.figure.savefig(os.path.join(path, '04 Analysis','Visualizations', 'bar_low_spenders_ratio.png'))"
   ]
  },
  {
   "cell_type": "markdown",
   "id": "ccce5081-6bf4-47fe-9b05-adb7da9fc150",
   "metadata": {},
   "source": [
    "### Now Repeat the Process to Create High Spenders Ratio"
   ]
  },
  {
   "cell_type": "code",
   "execution_count": 50,
   "id": "477d77f5-057f-4db7-85ae-336506cd2824",
   "metadata": {},
   "outputs": [
    {
     "data": {
      "text/plain": [
       "Region\n",
       "Midwest      0.000250\n",
       "Northeast    0.000321\n",
       "South        0.000208\n",
       "West         0.000265\n",
       "dtype: float64"
      ]
     },
     "execution_count": 50,
     "metadata": {},
     "output_type": "execute_result"
    }
   ],
   "source": [
    "high_spenders_counts / total_regional_customers"
   ]
  },
  {
   "cell_type": "code",
   "execution_count": 51,
   "id": "463cae3e-5d63-4b0d-a538-6605e4c814e7",
   "metadata": {},
   "outputs": [],
   "source": [
    "# Convert to Percentage and create High Spenders Ratio object\n",
    "\n",
    "high_spenders_ratio = (high_spenders_counts / total_regional_customers)*100"
   ]
  },
  {
   "cell_type": "code",
   "execution_count": 52,
   "id": "36fc81c0-652c-4634-8a90-d9d3abdef0f9",
   "metadata": {},
   "outputs": [
    {
     "data": {
      "text/plain": [
       "Region\n",
       "Midwest      0.024956\n",
       "Northeast    0.032065\n",
       "South        0.020812\n",
       "West         0.026468\n",
       "dtype: float64"
      ]
     },
     "execution_count": 52,
     "metadata": {},
     "output_type": "execute_result"
    }
   ],
   "source": [
    "# Check output\n",
    "\n",
    "high_spenders_ratio"
   ]
  },
  {
   "cell_type": "markdown",
   "id": "c40606ef-e055-4cdb-92ff-c6a69c577e4e",
   "metadata": {},
   "source": [
    "### Similar to the low spenders ratio, there are miniscule differences between the high spenders ratio in each region. The Northeast has the highest ratio at a mere 0.032%. Followed by the West with 0.026%. Then we have the Midwest with 0.024%. The South coming in last with a 0.020% high spenders ratio. It will be interesting to examine correlations between these ratios and the average incomes of these regions and customer profiles. "
   ]
  },
  {
   "cell_type": "markdown",
   "id": "d0688060-68b2-4373-9a24-5d13975cd499",
   "metadata": {},
   "source": [
    "### Now Create a Bar Chart for the High Spender ratio."
   ]
  },
  {
   "cell_type": "code",
   "execution_count": 53,
   "id": "bd1d005e-0f5d-424f-b6be-0bc02ab57ab3",
   "metadata": {},
   "outputs": [
    {
     "data": {
      "image/png": "[encoded data removed]",
      "text/plain": [
       "<Figure size 640x480 with 1 Axes>"
      ]
     },
     "metadata": {},
     "output_type": "display_data"
    }
   ],
   "source": [
    "# Create Bar Chart\n",
    "\n",
    "high_spenders_ratio.plot.bar(color = ['aqua', '#069AF3', 'blue', 'indigo'])\n",
    "plt.title('Percentage of High Spenders by Region')\n",
    "plt.xlabel('Region')\n",
    "plt.ylabel('Percentage')\n",
    "plt.show()"
   ]
  },
  {
   "cell_type": "code",
   "execution_count": 54,
   "id": "3509ae92-b4bc-446d-b385-73cffc4e0606",
   "metadata": {},
   "outputs": [
    {
     "data": {
      "text/plain": [
       "Text(0, 0.5, 'Percentage')"
      ]
     },
     "execution_count": 54,
     "metadata": {},
     "output_type": "execute_result"
    },
    {
     "data": {
      "image/png": "[encoded data removed]",
      "text/plain": [
       "<Figure size 640x480 with 1 Axes>"
      ]
     },
     "metadata": {},
     "output_type": "display_data"
    }
   ],
   "source": [
    "# Save Bar Chart as Figure\n",
    "\n",
    "# Code for saving the chart into an object form\n",
    "\n",
    "bar_high_spenders_ratio = high_spenders_ratio.plot.bar(color = ['aqua', '#069AF3', 'blue', 'indigo'])\n",
    "plt.title('Percentage of High Spenders by Region')\n",
    "plt.xlabel('Region')\n",
    "plt.ylabel('Percentage')"
   ]
  },
  {
   "cell_type": "code",
   "execution_count": 55,
   "id": "eaf5eee5-6da8-4d64-b38f-5d7363615217",
   "metadata": {},
   "outputs": [],
   "source": [
    "# Adjust layout to prevent labels from being cut off\n",
    "\n",
    "bar_high_spenders_ratio.figure.tight_layout()"
   ]
  },
  {
   "cell_type": "code",
   "execution_count": 56,
   "id": "dc726061-6f41-4b0a-bdee-38e2b4cadd4f",
   "metadata": {},
   "outputs": [],
   "source": [
    "# Code for Exporting Bar figure to file on computer\n",
    "\n",
    "bar_high_spenders_ratio.figure.savefig(os.path.join(path, '04 Analysis','Visualizations', 'bar_high_spenders_ratio.png'))"
   ]
  },
  {
   "cell_type": "code",
   "execution_count": 66,
   "id": "7eab4b6d-de86-4dd2-8433-6a0ca9ce6937",
   "metadata": {},
   "outputs": [
    {
     "data": {
      "image/png": "[encoded data removed]",
      "text/plain": [
       "<Figure size 640x480 with 1 Axes>"
      ]
     },
     "metadata": {},
     "output_type": "display_data"
    },
    {
     "data": {
      "image/png": "[encoded data removed]",
      "text/plain": [
       "<Figure size 640x480 with 1 Axes>"
      ]
     },
     "metadata": {},
     "output_type": "display_data"
    }
   ],
   "source": [
    "# Create a 100% Stacked Bar Chart to Visualize direct comparison of ratio between high and low spenders\n",
    "\n",
    "# Creating Object and normalizing the result\n",
    "\n",
    "region_spending = region_sample.groupby('Region')['spending_flag'].value_counts(normalize=True).unstack() * 100\n",
    "\n",
    "# Identify colors\n",
    "\n",
    "colors = ['#069AF3', 'salmon']\n",
    "\n",
    "# Create stacked Bar Chart\n",
    "\n",
    "ax = region_spending.plot(kind='bar', stacked=True, color=colors)\n",
    "\n",
    "# Add Title and Labels\n",
    "\n",
    "ax.set_xlabel('Region')\n",
    "ax.set_ylabel('Percent')\n",
    "ax.set_title('High and Low Spender Ratio by Region')\n",
    "\n",
    "# Position the legend outside the plot\n",
    "\n",
    "ax.legend(title= 'Spending Flag', loc='upper right', bbox_to_anchor=(1.25, 1))\n",
    "\n",
    "# Define Chart as object/figure\n",
    "\n",
    "region_spender_ratio_stacked_bar = region_spending.plot(kind='bar', stacked=True, color=colors)\n",
    "ax.set_xlabel('Region')\n",
    "ax.set_ylabel('Percent')\n",
    "ax.set_title('High and Low Spender Ratio by Region')\n",
    "ax.legend(title= 'Spending Flag', loc='upper right', bbox_to_anchor=(1.25, 1))\n",
    "\n",
    "# Adjust layout to prevent labels from being cut off\n",
    "\n",
    "region_spender_ratio_stacked_bar.figure.tight_layout()\n",
    "\n",
    "# Save the chart as an image\n",
    "plt.savefig('region_spender_ratio_stacked_bar.png', bbox_inches='tight')\n",
    "\n",
    "# Code for Exporting Bar figure to file on computer\n",
    "\n",
    "region_spender_ratio_stacked_bar.figure.savefig(os.path.join(path, '04 Analysis','Visualizations', 'region_spender_ratio_stacked_bar.png'))\n",
    "\n",
    "plt.show()"
   ]
  },
  {
   "cell_type": "markdown",
   "id": "97e18719-b163-4770-ac3d-2c9e8691551d",
   "metadata": {},
   "source": [
    "### In conclusion, there is little if any difference in the spending habits of InstaCart customers in Regions across the United States. I incorporated a ratio in order to account for the difference in the size and population of each region. While looking at the sheer volume of high and low spenders in each region seemed to promise differences in regional spending, the ratio quelled that theory by demonstrating insignificant differences in the percentages of customers in each spending category across each region, whether that was high or low spending. Therefore, we can safely assert that there are no significant spending habits of InstaCart customers when comparing by Regions across the United States. "
   ]
  },
  {
   "cell_type": "markdown",
   "id": "ab7eae86-0277-4373-b2ad-e1f5f2b23792",
   "metadata": {},
   "source": [
    "### Step 4 - Excluding Customers with < 5 Orders"
   ]
  },
  {
   "cell_type": "markdown",
   "id": "36c9e551-c0d7-4f4a-905a-720a917af421",
   "metadata": {},
   "source": [
    "### The Instacart CFO isn’t interested in customers who don’t generate much revenue for the app. Create an exclusion flag for low-activity customers (customers with less than 5 orders) and exclude them from the data. Make sure you export this sample."
   ]
  },
  {
   "cell_type": "code",
   "execution_count": 67,
   "id": "5df43352-6b3f-43be-b42b-aca3e96a67a0",
   "metadata": {},
   "outputs": [],
   "source": [
    "# Start by creating \"low_activity_flag\"\n",
    "\n",
    "insta_merge['low_activity_flag'] = insta_merge['max_order'] < 5"
   ]
  },
  {
   "cell_type": "code",
   "execution_count": 68,
   "id": "e4a769f1-aa54-4d09-966d-6f97b0a4457d",
   "metadata": {},
   "outputs": [],
   "source": [
    "# Filter customers with less than 5 orders from the data\n",
    "\n",
    "insta_no_low_activity = insta_merge[~insta_merge['low_activity_flag']]"
   ]
  },
  {
   "cell_type": "code",
   "execution_count": 69,
   "id": "04ed04e1-d60b-4174-8af9-647aa8096d5b",
   "metadata": {},
   "outputs": [
    {
     "data": {
      "text/html": [
       "<div>\n",
       "<style scoped>\n",
       "    .dataframe tbody tr th:only-of-type {\n",
       "        vertical-align: middle;\n",
       "    }\n",
       "\n",
       "    .dataframe tbody tr th {\n",
       "        vertical-align: top;\n",
       "    }\n",
       "\n",
       "    .dataframe thead th {\n",
       "        text-align: right;\n",
       "    }\n",
       "</style>\n",
       "<table border=\"1\" class=\"dataframe\">\n",
       "  <thead>\n",
       "    <tr style=\"text-align: right;\">\n",
       "      <th></th>\n",
       "      <th>order_id</th>\n",
       "      <th>user_id</th>\n",
       "      <th>order_number</th>\n",
       "      <th>orders_day_of_week</th>\n",
       "      <th>orders_time_of_day</th>\n",
       "      <th>days_since_prior_order</th>\n",
       "      <th>product_id</th>\n",
       "      <th>add_to_cart_order</th>\n",
       "      <th>reordered</th>\n",
       "      <th>product_name</th>\n",
       "      <th>...</th>\n",
       "      <th>Gender</th>\n",
       "      <th>State</th>\n",
       "      <th>Age</th>\n",
       "      <th>date_joined</th>\n",
       "      <th>n_dependants</th>\n",
       "      <th>marital_status</th>\n",
       "      <th>income</th>\n",
       "      <th>merge_ind</th>\n",
       "      <th>Region</th>\n",
       "      <th>low_activity_flag</th>\n",
       "    </tr>\n",
       "  </thead>\n",
       "  <tbody>\n",
       "    <tr>\n",
       "      <th>0</th>\n",
       "      <td>2539329</td>\n",
       "      <td>1</td>\n",
       "      <td>1</td>\n",
       "      <td>2</td>\n",
       "      <td>8</td>\n",
       "      <td>NaN</td>\n",
       "      <td>196</td>\n",
       "      <td>1</td>\n",
       "      <td>0</td>\n",
       "      <td>Soda</td>\n",
       "      <td>...</td>\n",
       "      <td>Female</td>\n",
       "      <td>Alabama</td>\n",
       "      <td>31</td>\n",
       "      <td>2/17/2019</td>\n",
       "      <td>3</td>\n",
       "      <td>married</td>\n",
       "      <td>40423</td>\n",
       "      <td>both</td>\n",
       "      <td>South</td>\n",
       "      <td>False</td>\n",
       "    </tr>\n",
       "    <tr>\n",
       "      <th>1</th>\n",
       "      <td>2398795</td>\n",
       "      <td>1</td>\n",
       "      <td>2</td>\n",
       "      <td>3</td>\n",
       "      <td>7</td>\n",
       "      <td>15.0</td>\n",
       "      <td>196</td>\n",
       "      <td>1</td>\n",
       "      <td>1</td>\n",
       "      <td>Soda</td>\n",
       "      <td>...</td>\n",
       "      <td>Female</td>\n",
       "      <td>Alabama</td>\n",
       "      <td>31</td>\n",
       "      <td>2/17/2019</td>\n",
       "      <td>3</td>\n",
       "      <td>married</td>\n",
       "      <td>40423</td>\n",
       "      <td>both</td>\n",
       "      <td>South</td>\n",
       "      <td>False</td>\n",
       "    </tr>\n",
       "    <tr>\n",
       "      <th>2</th>\n",
       "      <td>473747</td>\n",
       "      <td>1</td>\n",
       "      <td>3</td>\n",
       "      <td>3</td>\n",
       "      <td>12</td>\n",
       "      <td>21.0</td>\n",
       "      <td>196</td>\n",
       "      <td>1</td>\n",
       "      <td>1</td>\n",
       "      <td>Soda</td>\n",
       "      <td>...</td>\n",
       "      <td>Female</td>\n",
       "      <td>Alabama</td>\n",
       "      <td>31</td>\n",
       "      <td>2/17/2019</td>\n",
       "      <td>3</td>\n",
       "      <td>married</td>\n",
       "      <td>40423</td>\n",
       "      <td>both</td>\n",
       "      <td>South</td>\n",
       "      <td>False</td>\n",
       "    </tr>\n",
       "    <tr>\n",
       "      <th>3</th>\n",
       "      <td>2254736</td>\n",
       "      <td>1</td>\n",
       "      <td>4</td>\n",
       "      <td>4</td>\n",
       "      <td>7</td>\n",
       "      <td>29.0</td>\n",
       "      <td>196</td>\n",
       "      <td>1</td>\n",
       "      <td>1</td>\n",
       "      <td>Soda</td>\n",
       "      <td>...</td>\n",
       "      <td>Female</td>\n",
       "      <td>Alabama</td>\n",
       "      <td>31</td>\n",
       "      <td>2/17/2019</td>\n",
       "      <td>3</td>\n",
       "      <td>married</td>\n",
       "      <td>40423</td>\n",
       "      <td>both</td>\n",
       "      <td>South</td>\n",
       "      <td>False</td>\n",
       "    </tr>\n",
       "    <tr>\n",
       "      <th>4</th>\n",
       "      <td>431534</td>\n",
       "      <td>1</td>\n",
       "      <td>5</td>\n",
       "      <td>4</td>\n",
       "      <td>15</td>\n",
       "      <td>28.0</td>\n",
       "      <td>196</td>\n",
       "      <td>1</td>\n",
       "      <td>1</td>\n",
       "      <td>Soda</td>\n",
       "      <td>...</td>\n",
       "      <td>Female</td>\n",
       "      <td>Alabama</td>\n",
       "      <td>31</td>\n",
       "      <td>2/17/2019</td>\n",
       "      <td>3</td>\n",
       "      <td>married</td>\n",
       "      <td>40423</td>\n",
       "      <td>both</td>\n",
       "      <td>South</td>\n",
       "      <td>False</td>\n",
       "    </tr>\n",
       "  </tbody>\n",
       "</table>\n",
       "<p>5 rows × 33 columns</p>\n",
       "</div>"
      ],
      "text/plain": [
       "   order_id  user_id  order_number  orders_day_of_week  orders_time_of_day  \\\n",
       "0   2539329        1             1                   2                   8   \n",
       "1   2398795        1             2                   3                   7   \n",
       "2    473747        1             3                   3                  12   \n",
       "3   2254736        1             4                   4                   7   \n",
       "4    431534        1             5                   4                  15   \n",
       "\n",
       "   days_since_prior_order  product_id  add_to_cart_order  reordered  \\\n",
       "0                     NaN         196                  1          0   \n",
       "1                    15.0         196                  1          1   \n",
       "2                    21.0         196                  1          1   \n",
       "3                    29.0         196                  1          1   \n",
       "4                    28.0         196                  1          1   \n",
       "\n",
       "  product_name  ...  Gender    State  Age date_joined n_dependants  \\\n",
       "0         Soda  ...  Female  Alabama   31   2/17/2019            3   \n",
       "1         Soda  ...  Female  Alabama   31   2/17/2019            3   \n",
       "2         Soda  ...  Female  Alabama   31   2/17/2019            3   \n",
       "3         Soda  ...  Female  Alabama   31   2/17/2019            3   \n",
       "4         Soda  ...  Female  Alabama   31   2/17/2019            3   \n",
       "\n",
       "  marital_status income  merge_ind Region  low_activity_flag  \n",
       "0        married  40423       both  South              False  \n",
       "1        married  40423       both  South              False  \n",
       "2        married  40423       both  South              False  \n",
       "3        married  40423       both  South              False  \n",
       "4        married  40423       both  South              False  \n",
       "\n",
       "[5 rows x 33 columns]"
      ]
     },
     "execution_count": 69,
     "metadata": {},
     "output_type": "execute_result"
    }
   ],
   "source": [
    "# Check Output\n",
    "\n",
    "insta_no_low_activity.head()"
   ]
  },
  {
   "cell_type": "code",
   "execution_count": 70,
   "id": "43157299-3d04-4c31-8440-15e9cb9e5fe8",
   "metadata": {},
   "outputs": [
    {
     "data": {
      "text/plain": [
       "(30964564, 33)"
      ]
     },
     "execution_count": 70,
     "metadata": {},
     "output_type": "execute_result"
    }
   ],
   "source": [
    "# Shape Check and Description of Max Order to confirm greater than 5\n",
    "\n",
    "insta_no_low_activity.shape"
   ]
  },
  {
   "cell_type": "code",
   "execution_count": 71,
   "id": "dfd38763-856e-49b3-ab45-01602cb94e2b",
   "metadata": {},
   "outputs": [
    {
     "data": {
      "text/plain": [
       "count    3.096456e+07\n",
       "mean     3.442569e+01\n",
       "std      2.489504e+01\n",
       "min      5.000000e+00\n",
       "25%      1.400000e+01\n",
       "50%      2.800000e+01\n",
       "75%      4.800000e+01\n",
       "max      9.900000e+01\n",
       "Name: max_order, dtype: float64"
      ]
     },
     "execution_count": 71,
     "metadata": {},
     "output_type": "execute_result"
    }
   ],
   "source": [
    "insta_no_low_activity['max_order'].describe()"
   ]
  },
  {
   "cell_type": "code",
   "execution_count": 72,
   "id": "ab71f183-55a6-4fda-864a-8af2c82d2fed",
   "metadata": {},
   "outputs": [],
   "source": [
    "# Now Create a Sample of the low activity customers\n",
    "\n",
    "low_activity_sample = insta_merge[insta_merge['low_activity_flag']]"
   ]
  },
  {
   "cell_type": "code",
   "execution_count": 73,
   "id": "0fef0af2-812d-4494-ae0e-24b42ee26140",
   "metadata": {},
   "outputs": [
    {
     "data": {
      "text/html": [
       "<div>\n",
       "<style scoped>\n",
       "    .dataframe tbody tr th:only-of-type {\n",
       "        vertical-align: middle;\n",
       "    }\n",
       "\n",
       "    .dataframe tbody tr th {\n",
       "        vertical-align: top;\n",
       "    }\n",
       "\n",
       "    .dataframe thead th {\n",
       "        text-align: right;\n",
       "    }\n",
       "</style>\n",
       "<table border=\"1\" class=\"dataframe\">\n",
       "  <thead>\n",
       "    <tr style=\"text-align: right;\">\n",
       "      <th></th>\n",
       "      <th>order_id</th>\n",
       "      <th>user_id</th>\n",
       "      <th>order_number</th>\n",
       "      <th>orders_day_of_week</th>\n",
       "      <th>orders_time_of_day</th>\n",
       "      <th>days_since_prior_order</th>\n",
       "      <th>product_id</th>\n",
       "      <th>add_to_cart_order</th>\n",
       "      <th>reordered</th>\n",
       "      <th>product_name</th>\n",
       "      <th>...</th>\n",
       "      <th>Gender</th>\n",
       "      <th>State</th>\n",
       "      <th>Age</th>\n",
       "      <th>date_joined</th>\n",
       "      <th>n_dependants</th>\n",
       "      <th>marital_status</th>\n",
       "      <th>income</th>\n",
       "      <th>merge_ind</th>\n",
       "      <th>Region</th>\n",
       "      <th>low_activity_flag</th>\n",
       "    </tr>\n",
       "  </thead>\n",
       "  <tbody>\n",
       "    <tr>\n",
       "      <th>1510</th>\n",
       "      <td>520620</td>\n",
       "      <td>120</td>\n",
       "      <td>1</td>\n",
       "      <td>3</td>\n",
       "      <td>11</td>\n",
       "      <td>NaN</td>\n",
       "      <td>196</td>\n",
       "      <td>2</td>\n",
       "      <td>0</td>\n",
       "      <td>Soda</td>\n",
       "      <td>...</td>\n",
       "      <td>Female</td>\n",
       "      <td>Kentucky</td>\n",
       "      <td>54</td>\n",
       "      <td>3/2/2017</td>\n",
       "      <td>2</td>\n",
       "      <td>married</td>\n",
       "      <td>99219</td>\n",
       "      <td>both</td>\n",
       "      <td>South</td>\n",
       "      <td>True</td>\n",
       "    </tr>\n",
       "    <tr>\n",
       "      <th>1511</th>\n",
       "      <td>3273029</td>\n",
       "      <td>120</td>\n",
       "      <td>3</td>\n",
       "      <td>2</td>\n",
       "      <td>8</td>\n",
       "      <td>19.0</td>\n",
       "      <td>196</td>\n",
       "      <td>2</td>\n",
       "      <td>1</td>\n",
       "      <td>Soda</td>\n",
       "      <td>...</td>\n",
       "      <td>Female</td>\n",
       "      <td>Kentucky</td>\n",
       "      <td>54</td>\n",
       "      <td>3/2/2017</td>\n",
       "      <td>2</td>\n",
       "      <td>married</td>\n",
       "      <td>99219</td>\n",
       "      <td>both</td>\n",
       "      <td>South</td>\n",
       "      <td>True</td>\n",
       "    </tr>\n",
       "    <tr>\n",
       "      <th>1512</th>\n",
       "      <td>520620</td>\n",
       "      <td>120</td>\n",
       "      <td>1</td>\n",
       "      <td>3</td>\n",
       "      <td>11</td>\n",
       "      <td>NaN</td>\n",
       "      <td>46149</td>\n",
       "      <td>1</td>\n",
       "      <td>0</td>\n",
       "      <td>Zero Calorie Cola</td>\n",
       "      <td>...</td>\n",
       "      <td>Female</td>\n",
       "      <td>Kentucky</td>\n",
       "      <td>54</td>\n",
       "      <td>3/2/2017</td>\n",
       "      <td>2</td>\n",
       "      <td>married</td>\n",
       "      <td>99219</td>\n",
       "      <td>both</td>\n",
       "      <td>South</td>\n",
       "      <td>True</td>\n",
       "    </tr>\n",
       "    <tr>\n",
       "      <th>1513</th>\n",
       "      <td>3273029</td>\n",
       "      <td>120</td>\n",
       "      <td>3</td>\n",
       "      <td>2</td>\n",
       "      <td>8</td>\n",
       "      <td>19.0</td>\n",
       "      <td>46149</td>\n",
       "      <td>1</td>\n",
       "      <td>1</td>\n",
       "      <td>Zero Calorie Cola</td>\n",
       "      <td>...</td>\n",
       "      <td>Female</td>\n",
       "      <td>Kentucky</td>\n",
       "      <td>54</td>\n",
       "      <td>3/2/2017</td>\n",
       "      <td>2</td>\n",
       "      <td>married</td>\n",
       "      <td>99219</td>\n",
       "      <td>both</td>\n",
       "      <td>South</td>\n",
       "      <td>True</td>\n",
       "    </tr>\n",
       "    <tr>\n",
       "      <th>1514</th>\n",
       "      <td>520620</td>\n",
       "      <td>120</td>\n",
       "      <td>1</td>\n",
       "      <td>3</td>\n",
       "      <td>11</td>\n",
       "      <td>NaN</td>\n",
       "      <td>26348</td>\n",
       "      <td>3</td>\n",
       "      <td>0</td>\n",
       "      <td>Mixed Fruit Fruit Snacks</td>\n",
       "      <td>...</td>\n",
       "      <td>Female</td>\n",
       "      <td>Kentucky</td>\n",
       "      <td>54</td>\n",
       "      <td>3/2/2017</td>\n",
       "      <td>2</td>\n",
       "      <td>married</td>\n",
       "      <td>99219</td>\n",
       "      <td>both</td>\n",
       "      <td>South</td>\n",
       "      <td>True</td>\n",
       "    </tr>\n",
       "  </tbody>\n",
       "</table>\n",
       "<p>5 rows × 33 columns</p>\n",
       "</div>"
      ],
      "text/plain": [
       "      order_id  user_id  order_number  orders_day_of_week  orders_time_of_day  \\\n",
       "1510    520620      120             1                   3                  11   \n",
       "1511   3273029      120             3                   2                   8   \n",
       "1512    520620      120             1                   3                  11   \n",
       "1513   3273029      120             3                   2                   8   \n",
       "1514    520620      120             1                   3                  11   \n",
       "\n",
       "      days_since_prior_order  product_id  add_to_cart_order  reordered  \\\n",
       "1510                     NaN         196                  2          0   \n",
       "1511                    19.0         196                  2          1   \n",
       "1512                     NaN       46149                  1          0   \n",
       "1513                    19.0       46149                  1          1   \n",
       "1514                     NaN       26348                  3          0   \n",
       "\n",
       "                  product_name  ...  Gender     State  Age date_joined  \\\n",
       "1510                      Soda  ...  Female  Kentucky   54    3/2/2017   \n",
       "1511                      Soda  ...  Female  Kentucky   54    3/2/2017   \n",
       "1512         Zero Calorie Cola  ...  Female  Kentucky   54    3/2/2017   \n",
       "1513         Zero Calorie Cola  ...  Female  Kentucky   54    3/2/2017   \n",
       "1514  Mixed Fruit Fruit Snacks  ...  Female  Kentucky   54    3/2/2017   \n",
       "\n",
       "     n_dependants marital_status income  merge_ind Region  low_activity_flag  \n",
       "1510            2        married  99219       both  South               True  \n",
       "1511            2        married  99219       both  South               True  \n",
       "1512            2        married  99219       both  South               True  \n",
       "1513            2        married  99219       both  South               True  \n",
       "1514            2        married  99219       both  South               True  \n",
       "\n",
       "[5 rows x 33 columns]"
      ]
     },
     "execution_count": 73,
     "metadata": {},
     "output_type": "execute_result"
    }
   ],
   "source": [
    "# Check Output\n",
    "\n",
    "low_activity_sample.head()"
   ]
  },
  {
   "cell_type": "code",
   "execution_count": 74,
   "id": "cca74ed4-266a-46c5-b4c2-563dfaaa748d",
   "metadata": {},
   "outputs": [
    {
     "data": {
      "text/plain": [
       "(1440295, 33)"
      ]
     },
     "execution_count": 74,
     "metadata": {},
     "output_type": "execute_result"
    }
   ],
   "source": [
    "# Shape Check and Description Check to verify max_order is less than 5\n",
    "\n",
    "low_activity_sample.shape"
   ]
  },
  {
   "cell_type": "code",
   "execution_count": 75,
   "id": "a6561039-65e9-4176-8c7e-bdb1733110d9",
   "metadata": {},
   "outputs": [
    {
     "data": {
      "text/plain": [
       "count    1.440295e+06\n",
       "mean     3.523175e+00\n",
       "std      4.994920e-01\n",
       "min      1.000000e+00\n",
       "25%      3.000000e+00\n",
       "50%      4.000000e+00\n",
       "75%      4.000000e+00\n",
       "max      4.000000e+00\n",
       "Name: max_order, dtype: float64"
      ]
     },
     "execution_count": 75,
     "metadata": {},
     "output_type": "execute_result"
    }
   ],
   "source": [
    "low_activity_sample['max_order'].describe()"
   ]
  },
  {
   "cell_type": "code",
   "execution_count": 76,
   "id": "640b7e04-8f04-43d4-9c0f-b11574849f66",
   "metadata": {},
   "outputs": [],
   "source": [
    "# Export Data Sets\n",
    "\n",
    "low_activity_sample.to_pickle(os.path.join(path, '02 Data', 'Prepared Data', 'low_activity_customers.pkl'))"
   ]
  },
  {
   "cell_type": "code",
   "execution_count": 77,
   "id": "1c0d9a28-e57c-4056-a2e5-d28b3f66af80",
   "metadata": {},
   "outputs": [],
   "source": [
    "insta_no_low_activity.to_pickle(os.path.join(path, '02 Data', 'Prepared Data', 'insta_no_low_activity.pkl'))"
   ]
  },
  {
   "cell_type": "markdown",
   "id": "861241a9-d497-4ab3-8918-37e3aa659271",
   "metadata": {},
   "source": [
    "### I have identified 1,440,295 Customers with less than 5 orders using the exclusion flag. These customers have been excluded from the data and a sample of the low activity data will be stored separately and excluded from the analysis, pursuant to the CFO instruction."
   ]
  }
 ],
 "metadata": {
  "kernelspec": {
   "display_name": "Python 3 (ipykernel)",
   "language": "python",
   "name": "python3"
  },
  "language_info": {
   "codemirror_mode": {
    "name": "ipython",
    "version": 3
   },
   "file_extension": ".py",
   "mimetype": "text/x-python",
   "name": "python",
   "nbconvert_exporter": "python",
   "pygments_lexer": "ipython3",
   "version": "3.11.5"
  }
 },
 "nbformat": 4,
 "nbformat_minor": 5
}
