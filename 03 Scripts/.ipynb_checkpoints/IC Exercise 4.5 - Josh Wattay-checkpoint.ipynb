{
 "cells": [
  {
   "cell_type": "markdown",
   "id": "dc2d67ca-bc89-48f2-b825-74f0798106f1",
   "metadata": {},
   "source": [
    "1. Import Libraries"
   ]
  },
  {
   "cell_type": "code",
   "execution_count": 1,
   "id": "c0c37058-f499-4de3-9d31-c2c5e8e7fce5",
   "metadata": {},
   "outputs": [],
   "source": [
    "import pandas as pd\n",
    "import numpy as np\n",
    "import os"
   ]
  },
  {
   "cell_type": "markdown",
   "id": "3b668832-6d49-4d9d-9172-05351e8dec04",
   "metadata": {},
   "source": [
    "2. Set Path"
   ]
  },
  {
   "cell_type": "code",
   "execution_count": 2,
   "id": "3bb28d74-335a-413f-9ddc-c06ede4a49c6",
   "metadata": {},
   "outputs": [],
   "source": [
    "# Setting 'path' as Instacart Achievement Folder \n",
    "path = r'C:\\Users\\Josh Wattay\\anaconda3\\Instacart Basket Analysis'"
   ]
  },
  {
   "cell_type": "markdown",
   "id": "879b5d2e-9a34-47d0-9552-584df93d81a2",
   "metadata": {},
   "source": [
    "3. Import Data Sets"
   ]
  },
  {
   "cell_type": "code",
   "execution_count": 3,
   "id": "51175b45-1c27-4780-b244-a44647ab49af",
   "metadata": {},
   "outputs": [],
   "source": [
    "#creating dataframe for products data\n",
    "df_prods = pd.read_csv(os.path.join(path, '02 Data', 'Original Data', 'products.csv'), index_col = False) "
   ]
  },
  {
   "cell_type": "code",
   "execution_count": 4,
   "id": "e57dede7-0f08-4486-84c3-46f153770432",
   "metadata": {},
   "outputs": [],
   "source": [
    "#creating dataframe for wrangled orders data\n",
    "df_ords = pd.read_csv(os.path.join(path, '02 Data', 'Prepared Data', 'orders_wrangled.csv'), index_col = False)"
   ]
  },
  {
   "cell_type": "markdown",
   "id": "c0cf22e1-3e27-494d-bac0-c61371324eba",
   "metadata": {},
   "source": [
    "4. Create a Dataframe to Practice Fixing Mixed-Type Data Columns"
   ]
  },
  {
   "cell_type": "code",
   "execution_count": 6,
   "id": "e5fa001d-9366-4cc5-aa1c-bbb7f42fc4b1",
   "metadata": {},
   "outputs": [],
   "source": [
    "#Create a dataframe\n",
    "df_test = pd.DataFrame()"
   ]
  },
  {
   "cell_type": "code",
   "execution_count": 7,
   "id": "ad4c55c4-eeb6-43fc-b264-b197bb37c354",
   "metadata": {},
   "outputs": [],
   "source": [
    "#Create a mixed type column\n",
    "df_test['mix'] = ['a', 'b', 1, True]"
   ]
  },
  {
   "cell_type": "code",
   "execution_count": 8,
   "id": "43cf3519-ace1-492e-aa28-95925a44b315",
   "metadata": {},
   "outputs": [
    {
     "data": {
      "text/html": [
       "<div>\n",
       "<style scoped>\n",
       "    .dataframe tbody tr th:only-of-type {\n",
       "        vertical-align: middle;\n",
       "    }\n",
       "\n",
       "    .dataframe tbody tr th {\n",
       "        vertical-align: top;\n",
       "    }\n",
       "\n",
       "    .dataframe thead th {\n",
       "        text-align: right;\n",
       "    }\n",
       "</style>\n",
       "<table border=\"1\" class=\"dataframe\">\n",
       "  <thead>\n",
       "    <tr style=\"text-align: right;\">\n",
       "      <th></th>\n",
       "      <th>mix</th>\n",
       "    </tr>\n",
       "  </thead>\n",
       "  <tbody>\n",
       "    <tr>\n",
       "      <th>0</th>\n",
       "      <td>a</td>\n",
       "    </tr>\n",
       "    <tr>\n",
       "      <th>1</th>\n",
       "      <td>b</td>\n",
       "    </tr>\n",
       "    <tr>\n",
       "      <th>2</th>\n",
       "      <td>1</td>\n",
       "    </tr>\n",
       "    <tr>\n",
       "      <th>3</th>\n",
       "      <td>True</td>\n",
       "    </tr>\n",
       "  </tbody>\n",
       "</table>\n",
       "</div>"
      ],
      "text/plain": [
       "    mix\n",
       "0     a\n",
       "1     b\n",
       "2     1\n",
       "3  True"
      ]
     },
     "execution_count": 8,
     "metadata": {},
     "output_type": "execute_result"
    }
   ],
   "source": [
    "#Test Output for new dataframe\n",
    "df_test.head()"
   ]
  },
  {
   "cell_type": "markdown",
   "id": "dbe464fd-d619-4de0-ab2d-59181ab49c01",
   "metadata": {},
   "source": [
    "5. Code to Check for Mixed-Type Data Columns"
   ]
  },
  {
   "cell_type": "code",
   "execution_count": 10,
   "id": "3e386589-5000-47b1-9282-e040b7c868b2",
   "metadata": {},
   "outputs": [
    {
     "name": "stdout",
     "output_type": "stream",
     "text": [
      "mix\n"
     ]
    }
   ],
   "source": [
    "#check for mixed-type data\n",
    "for col in df_test.columns.tolist():\n",
    "    weird = (df_test[[col]].map(type) != df_test\n",
    "             [[col]].iloc[0].apply(type)).any(axis = 1)\n",
    "    if len (df_test[weird]) > 0:\n",
    "        print (col)"
   ]
  },
  {
   "cell_type": "markdown",
   "id": "2c51ed69-592a-4597-a7f2-b6a38b021560",
   "metadata": {},
   "source": [
    "6. Changing Data Type"
   ]
  },
  {
   "cell_type": "code",
   "execution_count": 13,
   "id": "d09b3b85-1c8c-4f97-8236-e2169bdadb96",
   "metadata": {},
   "outputs": [],
   "source": [
    "#Changing Data Type in mix column to String\n",
    "df_test['mix']=df_test['mix'].astype('str')"
   ]
  },
  {
   "cell_type": "markdown",
   "id": "f7de0b58-6d61-4200-80d3-2b3e10aa25ae",
   "metadata": {},
   "source": [
    "7. Missing Values"
   ]
  },
  {
   "cell_type": "code",
   "execution_count": 19,
   "id": "617c6066-88dd-415a-b4d8-6c19d42b94b9",
   "metadata": {},
   "outputs": [
    {
     "data": {
      "text/plain": [
       "product_id        0\n",
       "product_name     16\n",
       "aisle_id          0\n",
       "department_id     0\n",
       "prices            0\n",
       "dtype: int64"
      ]
     },
     "execution_count": 19,
     "metadata": {},
     "output_type": "execute_result"
    }
   ],
   "source": [
    "#Using isnull to find missing values in products data\n",
    "df_prods.isnull().sum()"
   ]
  },
  {
   "cell_type": "code",
   "execution_count": 20,
   "id": "810f8ab6-c190-4e5e-815b-0797a59dc093",
   "metadata": {},
   "outputs": [],
   "source": [
    "#Creating new dataframe to observe null values\n",
    "df_nan = df_prods[df_prods['product_name'].isnull() == True]"
   ]
  },
  {
   "cell_type": "code",
   "execution_count": 21,
   "id": "91697fdf-3b26-42f2-9065-b2ff98bf84cc",
   "metadata": {},
   "outputs": [
    {
     "data": {
      "text/html": [
       "<div>\n",
       "<style scoped>\n",
       "    .dataframe tbody tr th:only-of-type {\n",
       "        vertical-align: middle;\n",
       "    }\n",
       "\n",
       "    .dataframe tbody tr th {\n",
       "        vertical-align: top;\n",
       "    }\n",
       "\n",
       "    .dataframe thead th {\n",
       "        text-align: right;\n",
       "    }\n",
       "</style>\n",
       "<table border=\"1\" class=\"dataframe\">\n",
       "  <thead>\n",
       "    <tr style=\"text-align: right;\">\n",
       "      <th></th>\n",
       "      <th>product_id</th>\n",
       "      <th>product_name</th>\n",
       "      <th>aisle_id</th>\n",
       "      <th>department_id</th>\n",
       "      <th>prices</th>\n",
       "    </tr>\n",
       "  </thead>\n",
       "  <tbody>\n",
       "    <tr>\n",
       "      <th>33</th>\n",
       "      <td>34</td>\n",
       "      <td>NaN</td>\n",
       "      <td>121</td>\n",
       "      <td>14</td>\n",
       "      <td>12.2</td>\n",
       "    </tr>\n",
       "    <tr>\n",
       "      <th>68</th>\n",
       "      <td>69</td>\n",
       "      <td>NaN</td>\n",
       "      <td>26</td>\n",
       "      <td>7</td>\n",
       "      <td>11.8</td>\n",
       "    </tr>\n",
       "    <tr>\n",
       "      <th>115</th>\n",
       "      <td>116</td>\n",
       "      <td>NaN</td>\n",
       "      <td>93</td>\n",
       "      <td>3</td>\n",
       "      <td>10.8</td>\n",
       "    </tr>\n",
       "    <tr>\n",
       "      <th>261</th>\n",
       "      <td>262</td>\n",
       "      <td>NaN</td>\n",
       "      <td>110</td>\n",
       "      <td>13</td>\n",
       "      <td>12.1</td>\n",
       "    </tr>\n",
       "    <tr>\n",
       "      <th>525</th>\n",
       "      <td>525</td>\n",
       "      <td>NaN</td>\n",
       "      <td>109</td>\n",
       "      <td>11</td>\n",
       "      <td>1.2</td>\n",
       "    </tr>\n",
       "    <tr>\n",
       "      <th>1511</th>\n",
       "      <td>1511</td>\n",
       "      <td>NaN</td>\n",
       "      <td>84</td>\n",
       "      <td>16</td>\n",
       "      <td>14.3</td>\n",
       "    </tr>\n",
       "    <tr>\n",
       "      <th>1780</th>\n",
       "      <td>1780</td>\n",
       "      <td>NaN</td>\n",
       "      <td>126</td>\n",
       "      <td>11</td>\n",
       "      <td>12.3</td>\n",
       "    </tr>\n",
       "    <tr>\n",
       "      <th>2240</th>\n",
       "      <td>2240</td>\n",
       "      <td>NaN</td>\n",
       "      <td>52</td>\n",
       "      <td>1</td>\n",
       "      <td>14.2</td>\n",
       "    </tr>\n",
       "    <tr>\n",
       "      <th>2586</th>\n",
       "      <td>2586</td>\n",
       "      <td>NaN</td>\n",
       "      <td>104</td>\n",
       "      <td>13</td>\n",
       "      <td>12.4</td>\n",
       "    </tr>\n",
       "    <tr>\n",
       "      <th>3159</th>\n",
       "      <td>3159</td>\n",
       "      <td>NaN</td>\n",
       "      <td>126</td>\n",
       "      <td>11</td>\n",
       "      <td>13.1</td>\n",
       "    </tr>\n",
       "    <tr>\n",
       "      <th>3230</th>\n",
       "      <td>3230</td>\n",
       "      <td>NaN</td>\n",
       "      <td>120</td>\n",
       "      <td>16</td>\n",
       "      <td>14.4</td>\n",
       "    </tr>\n",
       "    <tr>\n",
       "      <th>3736</th>\n",
       "      <td>3736</td>\n",
       "      <td>NaN</td>\n",
       "      <td>41</td>\n",
       "      <td>8</td>\n",
       "      <td>14.8</td>\n",
       "    </tr>\n",
       "    <tr>\n",
       "      <th>4283</th>\n",
       "      <td>4283</td>\n",
       "      <td>NaN</td>\n",
       "      <td>77</td>\n",
       "      <td>7</td>\n",
       "      <td>14.4</td>\n",
       "    </tr>\n",
       "    <tr>\n",
       "      <th>4790</th>\n",
       "      <td>4790</td>\n",
       "      <td>NaN</td>\n",
       "      <td>91</td>\n",
       "      <td>16</td>\n",
       "      <td>14.5</td>\n",
       "    </tr>\n",
       "    <tr>\n",
       "      <th>38187</th>\n",
       "      <td>38183</td>\n",
       "      <td>NaN</td>\n",
       "      <td>39</td>\n",
       "      <td>12</td>\n",
       "      <td>20.9</td>\n",
       "    </tr>\n",
       "    <tr>\n",
       "      <th>40444</th>\n",
       "      <td>40440</td>\n",
       "      <td>NaN</td>\n",
       "      <td>120</td>\n",
       "      <td>16</td>\n",
       "      <td>14.8</td>\n",
       "    </tr>\n",
       "  </tbody>\n",
       "</table>\n",
       "</div>"
      ],
      "text/plain": [
       "       product_id product_name  aisle_id  department_id  prices\n",
       "33             34          NaN       121             14    12.2\n",
       "68             69          NaN        26              7    11.8\n",
       "115           116          NaN        93              3    10.8\n",
       "261           262          NaN       110             13    12.1\n",
       "525           525          NaN       109             11     1.2\n",
       "1511         1511          NaN        84             16    14.3\n",
       "1780         1780          NaN       126             11    12.3\n",
       "2240         2240          NaN        52              1    14.2\n",
       "2586         2586          NaN       104             13    12.4\n",
       "3159         3159          NaN       126             11    13.1\n",
       "3230         3230          NaN       120             16    14.4\n",
       "3736         3736          NaN        41              8    14.8\n",
       "4283         4283          NaN        77              7    14.4\n",
       "4790         4790          NaN        91             16    14.5\n",
       "38187       38183          NaN        39             12    20.9\n",
       "40444       40440          NaN       120             16    14.8"
      ]
     },
     "execution_count": 21,
     "metadata": {},
     "output_type": "execute_result"
    }
   ],
   "source": [
    "df_nan"
   ]
  },
  {
   "cell_type": "markdown",
   "id": "264fa824-a974-4b9f-8d0c-37b84823ffaf",
   "metadata": {},
   "source": [
    "8. Addressing Missing Values"
   ]
  },
  {
   "cell_type": "code",
   "execution_count": null,
   "id": "1d9a5099-f243-48ba-84c2-1e310b7ff4da",
   "metadata": {},
   "outputs": [],
   "source": [
    "#Code to Impute the Mean (do not run)\n",
    "df.describe() to find the mean THEN\n",
    "df['column with missings'].fillna(mean value, inplace = True)"
   ]
  },
  {
   "cell_type": "code",
   "execution_count": null,
   "id": "2750180c-433f-4de4-9dc3-7b1d5500fe9b",
   "metadata": {},
   "outputs": [],
   "source": [
    "#Code to Impute the Median (do not run)\n",
    "df_prods.median() to find the median THEN\n",
    "df['column with missings'].fillna(median value, inplace = True)"
   ]
  },
  {
   "cell_type": "markdown",
   "id": "8da3dc19-2f33-43d9-8a42-da371e318799",
   "metadata": {},
   "source": [
    "9. Determining Shape of Data before Proceeding"
   ]
  },
  {
   "cell_type": "code",
   "execution_count": 22,
   "id": "78dddd91-21ff-4111-96e0-2ac361cf0cb3",
   "metadata": {},
   "outputs": [
    {
     "data": {
      "text/plain": [
       "(49693, 5)"
      ]
     },
     "execution_count": 22,
     "metadata": {},
     "output_type": "execute_result"
    }
   ],
   "source": [
    "#Shape of data will help us determine what proportion of the rows are missing product names\n",
    "df_prods.shape"
   ]
  },
  {
   "cell_type": "code",
   "execution_count": 23,
   "id": "7872b7ca-ebf3-4cbe-8ea3-c98cc96479f8",
   "metadata": {},
   "outputs": [],
   "source": [
    "#only 16 of 49693 rows are missing product names"
   ]
  },
  {
   "cell_type": "markdown",
   "id": "7b7934b5-7f2a-4ff0-a535-d71375be4efd",
   "metadata": {},
   "source": [
    "10. Creating Clean Products Dataset"
   ]
  },
  {
   "cell_type": "code",
   "execution_count": 26,
   "id": "8df83481-9ea0-440b-9c17-06408c875eef",
   "metadata": {},
   "outputs": [],
   "source": [
    "df_prods_clean = df_prods[df_prods['product_name'].isnull() == False]"
   ]
  },
  {
   "cell_type": "code",
   "execution_count": 27,
   "id": "5c7b0008-a98a-400f-bc4c-1eefba971951",
   "metadata": {},
   "outputs": [
    {
     "data": {
      "text/plain": [
       "(49677, 5)"
      ]
     },
     "execution_count": 27,
     "metadata": {},
     "output_type": "execute_result"
    }
   ],
   "source": [
    "#running shape to verify that 16 rows have been removed in the clean data subset\n",
    "df_prods_clean.shape"
   ]
  },
  {
   "cell_type": "markdown",
   "id": "d173f833-0e56-4db4-99a7-aff29010ad10",
   "metadata": {},
   "source": [
    "11. Alternative Method for Dropping Missing Values"
   ]
  },
  {
   "cell_type": "code",
   "execution_count": null,
   "id": "eb2e7707-773f-413e-bb1c-81e0ac75a154",
   "metadata": {},
   "outputs": [],
   "source": [
    "df_prods.dropna(inplace = True)\n",
    "#do not run"
   ]
  },
  {
   "cell_type": "markdown",
   "id": "b6547d95-a9b2-4cca-9040-b58efca05ccc",
   "metadata": {},
   "source": [
    "12. Method for Dropping NaN from a Specific Column"
   ]
  },
  {
   "cell_type": "code",
   "execution_count": null,
   "id": "77edb634-939f-45bc-bd98-6c16d8965a4a",
   "metadata": {},
   "outputs": [],
   "source": [
    "df_prods.dropna(subset = ['product_name'], inplace = True)\n",
    "#do not run"
   ]
  },
  {
   "cell_type": "markdown",
   "id": "f0b12a9b-1658-4dd9-bc12-4a0f15d34aa1",
   "metadata": {},
   "source": [
    "13. Duplicates"
   ]
  },
  {
   "cell_type": "code",
   "execution_count": 28,
   "id": "fc272977-71a7-4e6a-b3cf-3bec94a315a3",
   "metadata": {},
   "outputs": [],
   "source": [
    "#command to look for duplicates in dataframe\n",
    "df_dups = df_prods_clean [df_prods_clean.duplicated()]"
   ]
  },
  {
   "cell_type": "code",
   "execution_count": 29,
   "id": "353c7841-69c9-4bd0-9c41-b4c2b7b2dafc",
   "metadata": {},
   "outputs": [],
   "source": [
    "#creates a dataframe subsetting duplicates from the df_prods_clean dataframe"
   ]
  },
  {
   "cell_type": "code",
   "execution_count": 30,
   "id": "5d58d3af-3e31-4a92-990f-790313d7d93a",
   "metadata": {},
   "outputs": [
    {
     "data": {
      "text/html": [
       "<div>\n",
       "<style scoped>\n",
       "    .dataframe tbody tr th:only-of-type {\n",
       "        vertical-align: middle;\n",
       "    }\n",
       "\n",
       "    .dataframe tbody tr th {\n",
       "        vertical-align: top;\n",
       "    }\n",
       "\n",
       "    .dataframe thead th {\n",
       "        text-align: right;\n",
       "    }\n",
       "</style>\n",
       "<table border=\"1\" class=\"dataframe\">\n",
       "  <thead>\n",
       "    <tr style=\"text-align: right;\">\n",
       "      <th></th>\n",
       "      <th>product_id</th>\n",
       "      <th>product_name</th>\n",
       "      <th>aisle_id</th>\n",
       "      <th>department_id</th>\n",
       "      <th>prices</th>\n",
       "    </tr>\n",
       "  </thead>\n",
       "  <tbody>\n",
       "    <tr>\n",
       "      <th>462</th>\n",
       "      <td>462</td>\n",
       "      <td>Fiber 4g Gummy Dietary Supplement</td>\n",
       "      <td>70</td>\n",
       "      <td>11</td>\n",
       "      <td>4.8</td>\n",
       "    </tr>\n",
       "    <tr>\n",
       "      <th>18459</th>\n",
       "      <td>18458</td>\n",
       "      <td>Ranger IPA</td>\n",
       "      <td>27</td>\n",
       "      <td>5</td>\n",
       "      <td>9.2</td>\n",
       "    </tr>\n",
       "    <tr>\n",
       "      <th>26810</th>\n",
       "      <td>26808</td>\n",
       "      <td>Black House Coffee Roasty Stout Beer</td>\n",
       "      <td>27</td>\n",
       "      <td>5</td>\n",
       "      <td>13.4</td>\n",
       "    </tr>\n",
       "    <tr>\n",
       "      <th>35309</th>\n",
       "      <td>35306</td>\n",
       "      <td>Gluten Free Organic Peanut Butter &amp; Chocolate ...</td>\n",
       "      <td>121</td>\n",
       "      <td>14</td>\n",
       "      <td>6.8</td>\n",
       "    </tr>\n",
       "    <tr>\n",
       "      <th>35495</th>\n",
       "      <td>35491</td>\n",
       "      <td>Adore Forever Body Wash</td>\n",
       "      <td>127</td>\n",
       "      <td>11</td>\n",
       "      <td>9.9</td>\n",
       "    </tr>\n",
       "  </tbody>\n",
       "</table>\n",
       "</div>"
      ],
      "text/plain": [
       "       product_id                                       product_name  \\\n",
       "462           462                  Fiber 4g Gummy Dietary Supplement   \n",
       "18459       18458                                         Ranger IPA   \n",
       "26810       26808               Black House Coffee Roasty Stout Beer   \n",
       "35309       35306  Gluten Free Organic Peanut Butter & Chocolate ...   \n",
       "35495       35491                            Adore Forever Body Wash   \n",
       "\n",
       "       aisle_id  department_id  prices  \n",
       "462          70             11     4.8  \n",
       "18459        27              5     9.2  \n",
       "26810        27              5    13.4  \n",
       "35309       121             14     6.8  \n",
       "35495       127             11     9.9  "
      ]
     },
     "execution_count": 30,
     "metadata": {},
     "output_type": "execute_result"
    }
   ],
   "source": [
    "df_dups"
   ]
  },
  {
   "cell_type": "code",
   "execution_count": 31,
   "id": "36625e20-7abe-49e7-b69e-3f6ca9e19fb3",
   "metadata": {},
   "outputs": [
    {
     "data": {
      "text/plain": [
       "(49677, 5)"
      ]
     },
     "execution_count": 31,
     "metadata": {},
     "output_type": "execute_result"
    }
   ],
   "source": [
    "df_prods_clean.shape\n",
    "#verify shape prior to dropping duplicates"
   ]
  },
  {
   "cell_type": "code",
   "execution_count": 32,
   "id": "9955369f-a47a-4111-954a-cd535f68b364",
   "metadata": {},
   "outputs": [],
   "source": [
    "df_prods_clean_no_dups = df_prods_clean.drop_duplicates()\n",
    "#dropping duplicates and creating new clean subset"
   ]
  },
  {
   "cell_type": "code",
   "execution_count": 33,
   "id": "15f03c2b-6c81-414c-9ead-44ba7891aa51",
   "metadata": {},
   "outputs": [
    {
     "data": {
      "text/plain": [
       "(49672, 5)"
      ]
     },
     "execution_count": 33,
     "metadata": {},
     "output_type": "execute_result"
    }
   ],
   "source": [
    "df_prods_clean_no_dups.shape\n",
    "#verify shape after dropping duplicates"
   ]
  },
  {
   "cell_type": "markdown",
   "id": "aeae8412-77c5-4d37-8f59-79ac60680826",
   "metadata": {},
   "source": [
    "14. Exporting Clean Data Set"
   ]
  },
  {
   "cell_type": "code",
   "execution_count": 34,
   "id": "42e9c610-0967-4026-a0df-e90deb517ffb",
   "metadata": {},
   "outputs": [],
   "source": [
    "#Exporting df_prods_clean_no_dups into prepared data folder.\n",
    "df_prods_clean_no_dups.to_csv(os.path.join(path, '02 Data','Prepared Data', 'products_checked.csv'))"
   ]
  },
  {
   "cell_type": "markdown",
   "id": "183b2ebc-dda6-4625-acae-0f2e8297a27f",
   "metadata": {},
   "source": [
    "15. EXERCISE 4.5 STEP 1"
   ]
  },
  {
   "cell_type": "code",
   "execution_count": 35,
   "id": "6b76edc7-114f-45cf-bd2e-6430ac3a8a16",
   "metadata": {},
   "outputs": [],
   "source": [
    "#This step was completed at the top of this notebook, please reference 1. Import Libraries and 3. Import Data Sets"
   ]
  },
  {
   "cell_type": "markdown",
   "id": "9e87deab-6a6b-41ee-9d1a-be2ce8371bc7",
   "metadata": {},
   "source": [
    "16. EXERCISE 4.5 STEP 2"
   ]
  },
  {
   "cell_type": "code",
   "execution_count": 37,
   "id": "02e1e23e-86f3-420f-b6ba-ae9dbc972225",
   "metadata": {},
   "outputs": [],
   "source": [
    "#Changing format in Pandas to 2 decimal places for ease of reference\n",
    "pd.set_option('display.float_format', '{:.2f}'.format)"
   ]
  },
  {
   "cell_type": "code",
   "execution_count": 39,
   "id": "456e8a3b-b1e1-48d0-b3e1-541706b692c2",
   "metadata": {},
   "outputs": [
    {
     "data": {
      "text/html": [
       "<div>\n",
       "<style scoped>\n",
       "    .dataframe tbody tr th:only-of-type {\n",
       "        vertical-align: middle;\n",
       "    }\n",
       "\n",
       "    .dataframe tbody tr th {\n",
       "        vertical-align: top;\n",
       "    }\n",
       "\n",
       "    .dataframe thead th {\n",
       "        text-align: right;\n",
       "    }\n",
       "</style>\n",
       "<table border=\"1\" class=\"dataframe\">\n",
       "  <thead>\n",
       "    <tr style=\"text-align: right;\">\n",
       "      <th></th>\n",
       "      <th>Unnamed: 0</th>\n",
       "      <th>order_id</th>\n",
       "      <th>user_id</th>\n",
       "      <th>order_number</th>\n",
       "      <th>orders_day_of_week</th>\n",
       "      <th>order_hour</th>\n",
       "      <th>days_since_prior_order</th>\n",
       "    </tr>\n",
       "  </thead>\n",
       "  <tbody>\n",
       "    <tr>\n",
       "      <th>count</th>\n",
       "      <td>3421083.00</td>\n",
       "      <td>3421083.00</td>\n",
       "      <td>3421083.00</td>\n",
       "      <td>3421083.00</td>\n",
       "      <td>3421083.00</td>\n",
       "      <td>3421083.00</td>\n",
       "      <td>3214874.00</td>\n",
       "    </tr>\n",
       "    <tr>\n",
       "      <th>mean</th>\n",
       "      <td>1710541.00</td>\n",
       "      <td>1710542.00</td>\n",
       "      <td>102978.21</td>\n",
       "      <td>17.15</td>\n",
       "      <td>2.78</td>\n",
       "      <td>13.45</td>\n",
       "      <td>11.11</td>\n",
       "    </tr>\n",
       "    <tr>\n",
       "      <th>std</th>\n",
       "      <td>987581.74</td>\n",
       "      <td>987581.74</td>\n",
       "      <td>59533.72</td>\n",
       "      <td>17.73</td>\n",
       "      <td>2.05</td>\n",
       "      <td>4.23</td>\n",
       "      <td>9.21</td>\n",
       "    </tr>\n",
       "    <tr>\n",
       "      <th>min</th>\n",
       "      <td>0.00</td>\n",
       "      <td>1.00</td>\n",
       "      <td>1.00</td>\n",
       "      <td>1.00</td>\n",
       "      <td>0.00</td>\n",
       "      <td>0.00</td>\n",
       "      <td>0.00</td>\n",
       "    </tr>\n",
       "    <tr>\n",
       "      <th>25%</th>\n",
       "      <td>855270.50</td>\n",
       "      <td>855271.50</td>\n",
       "      <td>51394.00</td>\n",
       "      <td>5.00</td>\n",
       "      <td>1.00</td>\n",
       "      <td>10.00</td>\n",
       "      <td>4.00</td>\n",
       "    </tr>\n",
       "    <tr>\n",
       "      <th>50%</th>\n",
       "      <td>1710541.00</td>\n",
       "      <td>1710542.00</td>\n",
       "      <td>102689.00</td>\n",
       "      <td>11.00</td>\n",
       "      <td>3.00</td>\n",
       "      <td>13.00</td>\n",
       "      <td>7.00</td>\n",
       "    </tr>\n",
       "    <tr>\n",
       "      <th>75%</th>\n",
       "      <td>2565811.50</td>\n",
       "      <td>2565812.50</td>\n",
       "      <td>154385.00</td>\n",
       "      <td>23.00</td>\n",
       "      <td>5.00</td>\n",
       "      <td>16.00</td>\n",
       "      <td>15.00</td>\n",
       "    </tr>\n",
       "    <tr>\n",
       "      <th>max</th>\n",
       "      <td>3421082.00</td>\n",
       "      <td>3421083.00</td>\n",
       "      <td>206209.00</td>\n",
       "      <td>100.00</td>\n",
       "      <td>6.00</td>\n",
       "      <td>23.00</td>\n",
       "      <td>30.00</td>\n",
       "    </tr>\n",
       "  </tbody>\n",
       "</table>\n",
       "</div>"
      ],
      "text/plain": [
       "       Unnamed: 0   order_id    user_id  order_number  orders_day_of_week  \\\n",
       "count  3421083.00 3421083.00 3421083.00    3421083.00          3421083.00   \n",
       "mean   1710541.00 1710542.00  102978.21         17.15                2.78   \n",
       "std     987581.74  987581.74   59533.72         17.73                2.05   \n",
       "min          0.00       1.00       1.00          1.00                0.00   \n",
       "25%     855270.50  855271.50   51394.00          5.00                1.00   \n",
       "50%    1710541.00 1710542.00  102689.00         11.00                3.00   \n",
       "75%    2565811.50 2565812.50  154385.00         23.00                5.00   \n",
       "max    3421082.00 3421083.00  206209.00        100.00                6.00   \n",
       "\n",
       "       order_hour  days_since_prior_order  \n",
       "count  3421083.00              3214874.00  \n",
       "mean        13.45                   11.11  \n",
       "std          4.23                    9.21  \n",
       "min          0.00                    0.00  \n",
       "25%         10.00                    4.00  \n",
       "50%         13.00                    7.00  \n",
       "75%         16.00                   15.00  \n",
       "max         23.00                   30.00  "
      ]
     },
     "execution_count": 39,
     "metadata": {},
     "output_type": "execute_result"
    }
   ],
   "source": [
    "#Running df.describe() on the Wrangled Orders Data\n",
    "summary_stats = df_ords.describe()\n",
    "summary_stats"
   ]
  },
  {
   "cell_type": "markdown",
   "id": "9c6a6e14-2e25-4b70-abb4-0cbc1de3864f",
   "metadata": {},
   "source": [
    "Observations of Wrangled Orders Descriptive Statistics.\n",
    "\n",
    "Order Hour - The minimum order hour is 0 and the maximum is 23. This is somewhat counterintuitive for those using non-military or non-24-hour methods of tracking time. However, for those that do, 0000 is midnight and 2300 is 11pm, therefore this is possibly ok, but there may be a better way to display the hours if we go from 1 through 24. \n",
    "\n",
    "Order Number - There were 3,421,083 unique order id's and therefore the same amount of orders. However, the minimum order number is 1 and the maximum is 100. I interpret this to mean that the order number is specific to the user id. User ID 1 may have had 4 orders and user ID 2 may have had 100 orders. It appears the average number of orders per user was 17.15.\n",
    "\n",
    "Orders Day of Week - Similar to Order Hour, this variable has somewhat counterintuitive minimum (0) and maximum (6) values. It is hard to determine whether 0 is Sunday or Monday, and likewise whether 6 is Friday, Saturday, or Sunday. I believe changing this from a range of 1-7 would be more intuitive with 1 being Monday and 7 being Sunday."
   ]
  },
  {
   "cell_type": "markdown",
   "id": "8380be51-ac27-48b5-86b5-a3f52afb36ab",
   "metadata": {},
   "source": [
    "17. EXERCISE 4.5 STEP 3"
   ]
  },
  {
   "cell_type": "markdown",
   "id": "2b10ee20-a22e-4272-a523-eeab848d9810",
   "metadata": {},
   "source": [
    "Note: I used dataframe.map instead of dataframe.applymap because I received a FutureWarning that .applymap is deprecating and received a recommendation to use dataframe.map instead."
   ]
  },
  {
   "cell_type": "code",
   "execution_count": 42,
   "id": "b5d9b255-7cfd-47aa-9dd1-0d3681a3f74f",
   "metadata": {},
   "outputs": [],
   "source": [
    "#checking for mixed data-type in df_ords using a for loop command\n",
    "for col in df_ords.columns.tolist():\n",
    "    weird = (df_ords[[col]].map(type) != df_ords\n",
    "             [[col]].iloc[0].apply(type)).any(axis = 1)\n",
    "    if len (df_ords[weird]) > 0:\n",
    "        print (col)"
   ]
  },
  {
   "cell_type": "markdown",
   "id": "68b7d605-e115-4940-ba81-2557a61721e2",
   "metadata": {},
   "source": [
    "Since no columns were printed, this for loop is indicating there are no mixed data-type columns in the df_ords dataframe."
   ]
  },
  {
   "cell_type": "markdown",
   "id": "9c70700a-3006-4283-aa81-80569054025d",
   "metadata": {},
   "source": [
    "18. EXERCISE 4.5 STEP 4"
   ]
  },
  {
   "cell_type": "markdown",
   "id": "d224fe31-edbd-4782-99a9-bfdff73dc20b",
   "metadata": {},
   "source": [
    "No mixed data type columns were located, however, if they were located, I would use the df_ords['column_name']=df_ords['column_name'].astype('str') to change the data type to string OR df_ords['column_name']=df_ords['column_name'].astype('int64') to change the data type to integer."
   ]
  },
  {
   "cell_type": "markdown",
   "id": "f058f550-7f94-4885-95d0-9555525f083f",
   "metadata": {},
   "source": [
    "19. EXERCISE 4.5 STEP 5"
   ]
  },
  {
   "cell_type": "code",
   "execution_count": 44,
   "id": "29e1d1be-3e5c-4e3d-aa9b-42beb842cda1",
   "metadata": {},
   "outputs": [
    {
     "data": {
      "text/plain": [
       "Unnamed: 0                     0\n",
       "order_id                       0\n",
       "user_id                        0\n",
       "eval_set                       0\n",
       "order_number                   0\n",
       "orders_day_of_week             0\n",
       "order_hour                     0\n",
       "days_since_prior_order    206209\n",
       "dtype: int64"
      ]
     },
     "execution_count": 44,
     "metadata": {},
     "output_type": "execute_result"
    }
   ],
   "source": [
    "#Checking for Missing Values in df_ords\n",
    "df_ords.isnull().sum()"
   ]
  },
  {
   "cell_type": "markdown",
   "id": "93b5df70-b3d9-4f82-831e-5a1b42669651",
   "metadata": {},
   "source": [
    "There are 206,209 missing values in the days_since_prior_order column. \n",
    "I believe these may have been a User's first order and would like to check with the stakeholders to ensure that this is the case prior to proceeding further with the analysis. \n",
    "Days since prior order would be non-applicable to someone who is ordering for the first time."
   ]
  },
  {
   "cell_type": "markdown",
   "id": "e78d4140-dc07-4cd7-8fe7-538c0a77d66c",
   "metadata": {},
   "source": [
    "20. EXERCISE 4.5 STEP 6"
   ]
  },
  {
   "cell_type": "code",
   "execution_count": 45,
   "id": "41a678d4-6118-411a-ab49-75f948153e32",
   "metadata": {},
   "outputs": [
    {
     "data": {
      "text/plain": [
       "(3421083, 8)"
      ]
     },
     "execution_count": 45,
     "metadata": {},
     "output_type": "execute_result"
    }
   ],
   "source": [
    "#Determining the shape of df_ords to compare amount of missing values in days since prior order to total amount of records\n",
    "df_ords.shape"
   ]
  },
  {
   "cell_type": "markdown",
   "id": "ece2428d-75ac-4b31-b250-7c57770fabae",
   "metadata": {},
   "source": [
    "Creating subsets of df_ords_first_orders (null values) and df_ords_returning (no null values) to subset the first orders and analyze separately from remaining 3,214,874 records for repeat customers"
   ]
  },
  {
   "cell_type": "code",
   "execution_count": 47,
   "id": "7adc56e6-4598-4eda-9496-7a7f5d064d33",
   "metadata": {},
   "outputs": [],
   "source": [
    "df_ords_returning = df_ords[df_ords['days_since_prior_order'].isnull() == False]"
   ]
  },
  {
   "cell_type": "code",
   "execution_count": 48,
   "id": "777e6516-8a1a-4072-90f0-45f4536136cf",
   "metadata": {},
   "outputs": [],
   "source": [
    "df_ords_first_orders = df_ords[df_ords['days_since_prior_order'].isnull() == True]"
   ]
  },
  {
   "cell_type": "code",
   "execution_count": 51,
   "id": "c7f34485-0f22-48dc-93ee-5cf785549e1f",
   "metadata": {},
   "outputs": [
    {
     "data": {
      "text/plain": [
       "(3214874, 8)"
      ]
     },
     "execution_count": 51,
     "metadata": {},
     "output_type": "execute_result"
    }
   ],
   "source": [
    "df_ords_returning.shape\n",
    "#verifying based on df.shape"
   ]
  },
  {
   "cell_type": "code",
   "execution_count": 52,
   "id": "f763e729-873a-4166-b665-f2a80d90eaef",
   "metadata": {},
   "outputs": [
    {
     "data": {
      "text/plain": [
       "(206209, 8)"
      ]
     },
     "execution_count": 52,
     "metadata": {},
     "output_type": "execute_result"
    }
   ],
   "source": [
    "df_ords_first_orders.shape\n",
    "#verifying based on df.shape"
   ]
  },
  {
   "cell_type": "markdown",
   "id": "1a3fa85e-d926-4526-9897-fcdd42d51141",
   "metadata": {},
   "source": [
    "I used this method because I don't want to ever overwrite data in order to allow my peers, stakeholders, and superiors to be able to audit my work at all times. I would rather create two subsets while awaiting further clarification from the stakeholder as to why the days since prior order value is missing from so many records. "
   ]
  },
  {
   "cell_type": "markdown",
   "id": "e952bce4-65ac-4b95-b403-8a7bed522b49",
   "metadata": {},
   "source": [
    "21. EXERCISE 4.5 STEP 7"
   ]
  },
  {
   "cell_type": "code",
   "execution_count": 53,
   "id": "ba19a832-536c-4336-95ed-e5a347229132",
   "metadata": {},
   "outputs": [],
   "source": [
    "#Checking for duplicates in the df_ords data\n",
    "df_dups_ords = df_ords [df_ords.duplicated()]"
   ]
  },
  {
   "cell_type": "code",
   "execution_count": 54,
   "id": "88482eca-d32a-4dbb-911d-7c150cd98028",
   "metadata": {},
   "outputs": [
    {
     "data": {
      "text/html": [
       "<div>\n",
       "<style scoped>\n",
       "    .dataframe tbody tr th:only-of-type {\n",
       "        vertical-align: middle;\n",
       "    }\n",
       "\n",
       "    .dataframe tbody tr th {\n",
       "        vertical-align: top;\n",
       "    }\n",
       "\n",
       "    .dataframe thead th {\n",
       "        text-align: right;\n",
       "    }\n",
       "</style>\n",
       "<table border=\"1\" class=\"dataframe\">\n",
       "  <thead>\n",
       "    <tr style=\"text-align: right;\">\n",
       "      <th></th>\n",
       "      <th>Unnamed: 0</th>\n",
       "      <th>order_id</th>\n",
       "      <th>user_id</th>\n",
       "      <th>eval_set</th>\n",
       "      <th>order_number</th>\n",
       "      <th>orders_day_of_week</th>\n",
       "      <th>order_hour</th>\n",
       "      <th>days_since_prior_order</th>\n",
       "    </tr>\n",
       "  </thead>\n",
       "  <tbody>\n",
       "  </tbody>\n",
       "</table>\n",
       "</div>"
      ],
      "text/plain": [
       "Empty DataFrame\n",
       "Columns: [Unnamed: 0, order_id, user_id, eval_set, order_number, orders_day_of_week, order_hour, days_since_prior_order]\n",
       "Index: []"
      ]
     },
     "execution_count": 54,
     "metadata": {},
     "output_type": "execute_result"
    }
   ],
   "source": [
    "df_dups_ords"
   ]
  },
  {
   "cell_type": "markdown",
   "id": "f0be8666-4324-4d40-ac6a-423ca2fb080a",
   "metadata": {},
   "source": [
    "There were no duplicate records detected. This is most likely due to the fact that each order has two unique identifiers, an order id and a user id. More unique identifiers in a record likely decreases the probability of duplicate records, depending on the method for data collection."
   ]
  },
  {
   "cell_type": "markdown",
   "id": "f2f2d4a5-5993-4ea3-bd28-1c9a5e30a922",
   "metadata": {},
   "source": [
    "22. EXERCISE 4.5 STEP 8"
   ]
  },
  {
   "cell_type": "markdown",
   "id": "d5330852-6003-4005-a242-dcf489da19e6",
   "metadata": {},
   "source": [
    "There were no duplicate records detected. If there were, I would create a subset of the duplicate data and another subset of clean orders data to keep a clean subset and a duplicate subset without overwriting the original dataset."
   ]
  },
  {
   "cell_type": "markdown",
   "id": "5316b880-ff78-4fe6-a570-6a825dd37937",
   "metadata": {},
   "source": [
    "23. EXERCISE 4.5 STEP 9"
   ]
  },
  {
   "cell_type": "code",
   "execution_count": 55,
   "id": "f1abce6d-e927-4857-a578-964c6fd4a255",
   "metadata": {},
   "outputs": [],
   "source": [
    "#Exporting Clean Orders Data as df_orders_checked csv file. \n",
    "df_ords_returning.to_csv(os.path.join(path, '02 Data','Prepared Data', 'orders_checked.csv'))"
   ]
  },
  {
   "cell_type": "markdown",
   "id": "5eee471e-bafc-4a5b-a863-a292ce7c033d",
   "metadata": {},
   "source": [
    "Please reference Markdown Section 14 for the upload of clean products data."
   ]
  },
  {
   "cell_type": "code",
   "execution_count": null,
   "id": "77ad8845-91b3-4e27-86b5-757b03380741",
   "metadata": {},
   "outputs": [],
   "source": []
  }
 ],
 "metadata": {
  "kernelspec": {
   "display_name": "Python 3 (ipykernel)",
   "language": "python",
   "name": "python3"
  },
  "language_info": {
   "codemirror_mode": {
    "name": "ipython",
    "version": 3
   },
   "file_extension": ".py",
   "mimetype": "text/x-python",
   "name": "python",
   "nbconvert_exporter": "python",
   "pygments_lexer": "ipython3",
   "version": "3.11.5"
  }
 },
 "nbformat": 4,
 "nbformat_minor": 5
}
