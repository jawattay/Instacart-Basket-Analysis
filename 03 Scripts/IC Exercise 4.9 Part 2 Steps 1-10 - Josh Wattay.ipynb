{
 "cells": [
  {
   "cell_type": "markdown",
   "id": "f96449bd-1cc0-4b12-ab63-cdeebbc089a3",
   "metadata": {},
   "source": [
    "# IC Exercise 4.9 Part 2 Steps 1-10"
   ]
  },
  {
   "cell_type": "markdown",
   "id": "a8688310-b151-440b-9590-3791d6d1d50c",
   "metadata": {},
   "source": [
    "### This script contains the following:\n",
    "\n",
    "#### Step 1 - Create a new notebook, import the necessary analysis and visualization libraries, then import your most up-to-date project data (i.e., the data set with your new customer data from the first part of this task).\n",
    "\n",
    "#### Step 2 - If you haven’t done so already, follow the instructions in the Exercise to create a bar chart, a histogram, a scatterplot, and a line chart, using a sample subset for the line chart.\n",
    "\n",
    "#### Step 3 - You need to provide the Instacart senior stakeholders with descriptive findings about sales. Create a histogram of the “order_hour_of_day” column. A: \n",
    "In a markdown cell beneath your histogram, describe what the histogram demonstrates\n",
    "\n",
    "#### Step 4 - The marketing team is curious about the distribution of orders among customers in terms of loyalty. Create a bar chart from the “loyalty_flag” column.\n",
    "\n",
    "#### Step 5 - Check whether there’s a difference in expenditure (the “prices” column) depending on the hour of the day. (Hint: To check this, you need to use an accurate sample for your line chart!)\n",
    "\n",
    "#### Step 6 - Now that you have information about customers, you need to conduct some exploratory analysis of customer demographics to inform the targeted marketing campaigns. First, determine whether there’s a connection between age and family situation by creating a line chart exploring the connections between age and number of dependents: A: \n",
    "In a markdown cell beneath your line chart, describe what the line chart shows\n",
    "\n",
    "#### Step 7 - You’ll also need to explore whether there’s a connection between age and spending power (income). To visualize this relationship, create a scatterplot using the sns.scatterplot() function. A: \n",
    "In a markdown cell beneath your scatterplot, describe what the scatterplot shows\n",
    "\n",
    "#### Step 8 - Export your visualizations as “.png” files in your relevant project folder.\n",
    "\n",
    "#### Step 9 - Save your notebook from part 2 of this Exercise’s task.\n",
    "\n",
    "#### Step 10 - Submit your notebooks for both the first and second parts of this task to your tutor for review...."
   ]
  },
  {
   "cell_type": "markdown",
   "id": "44837c9c-8fd3-4b72-b58b-a66ee9939079",
   "metadata": {},
   "source": [
    "#### Step 1 - Create a new notebook, import the necessary analysis and visualization libraries, then import your most up-to-date project data (i.e., the data set with your new customer data from the first part of this task)."
   ]
  },
  {
   "cell_type": "code",
   "execution_count": 1,
   "id": "62a8551b-684a-4fc4-adc6-00d5f8ca530b",
   "metadata": {},
   "outputs": [],
   "source": [
    "# Import Libraries\n",
    "\n",
    "import os\n",
    "import pandas as pd\n",
    "import numpy as np\n",
    "import matplotlib.pyplot as plt\n",
    "import seaborn as sns\n",
    "import scipy"
   ]
  },
  {
   "cell_type": "code",
   "execution_count": 2,
   "id": "07c8a82f-1174-4b27-b82c-c1e89e16cbf7",
   "metadata": {},
   "outputs": [],
   "source": [
    "# Set Path\n",
    "\n",
    "path = r'C:\\Users\\Josh Wattay\\anaconda3\\Instacart Basket Analysis'"
   ]
  },
  {
   "cell_type": "code",
   "execution_count": null,
   "id": "66af2af9-a14d-42d6-9cdd-2b7e61fd796e",
   "metadata": {},
   "outputs": [],
   "source": [
    "# Import Data\n",
    "\n",
    "insta_merge = pd.read_pickle(os.path.join(path, '02 Data', 'Prepared Data', 'insta_merge.pkl'))"
   ]
  },
  {
   "cell_type": "code",
   "execution_count": null,
   "id": "9e3a4836-7e33-441d-91e5-f65b6a5e513b",
   "metadata": {},
   "outputs": [],
   "source": [
    "# Check output\n",
    "\n",
    "insta_merge.head()"
   ]
  },
  {
   "cell_type": "code",
   "execution_count": null,
   "id": "2cc7a2f0-a8b5-487a-b0ef-47b97d83c28d",
   "metadata": {},
   "outputs": [],
   "source": [
    "insta_merge.tail()"
   ]
  },
  {
   "cell_type": "code",
   "execution_count": null,
   "id": "f309ed6d-8e8f-4fed-b446-6f5c6ec3a1d2",
   "metadata": {},
   "outputs": [],
   "source": [
    "insta_merge.shape"
   ]
  },
  {
   "cell_type": "markdown",
   "id": "3467415c-0b75-4747-ba4a-e3d00fa05cef",
   "metadata": {},
   "source": [
    "### Step 2 - If you haven’t done so already, follow the instructions in the Exercise to create a bar chart, a histogram, a scatterplot, and a line chart, using a sample subset for the line chart."
   ]
  },
  {
   "cell_type": "markdown",
   "id": "481dcd22-45ff-4d59-886c-28618c09b1e8",
   "metadata": {},
   "source": [
    "This step was completed during the exercise using the following code:\n",
    "\n",
    "Bar Charts \n",
    "ords_prods_merge['orders_day_of_week'].value_counts().plot.bar() \n",
    "ords_prods_merge['orders_day_of_week'].value_counts().sort_index().plot.bar()\n",
    "ords_prods_merge['orders_day_of_week'].value_counts().plot.bar(color = ['red', 'orange', 'yellow', 'green', 'blue', 'indigo', 'violet'])\n",
    "bar = ords_prods_merge['orders_day_of_week'].value_counts().plot.bar(color =['purple', 'red', 'pink', 'orange', 'yellow', 'green', 'blue'])\n",
    "bar.figure.savefig(os.path.join(path, '04 Analysis','Visualizations', 'bar_orders_dow.png'))\n",
    "\n",
    "Histograms\n",
    "hist = ords_prods_merge['prices'].plot.hist(bins = 25)\n",
    "hist_2 = ords_prods_merge['prices'].plot.hist(bins = 70)\n",
    "hist.figure.savefig(os.path.join(path, '04 Analysis','Visualizations', 'histo_prices.png'))\n",
    "hist_2.figure.savefig(os.path.join(path, '04 Analysis','Visualizations', 'histo_prices_2.png'))\n",
    "\n",
    "Scatterplot\n",
    "sns.scatterplot(x = 'prices', y = 'prices',data = ords_prods_merge)\n",
    "\n",
    "Line Charts \n",
    "line = sns.lineplot(data = df_2, x = 'orders_day_of_week',y = 'prices')\n",
    "line.figure.savefig(os.path.join(path, '04 Analysis','Visualizations', 'line_prices_day_of_week.png'))\n"
   ]
  },
  {
   "cell_type": "markdown",
   "id": "74606370-f0b0-4249-84c7-a52ae6875fad",
   "metadata": {},
   "source": [
    "### Step 3 - You need to provide the Instacart senior stakeholders with descriptive findings about sales. Create a histogram of the “order_hour_of_day” column. A: In a markdown cell beneath your histogram, describe what the histogram demonstrates."
   ]
  },
  {
   "cell_type": "code",
   "execution_count": null,
   "id": "26194a95-bca7-477b-ac2c-95a8528dfcad",
   "metadata": {},
   "outputs": [],
   "source": [
    "# Create histogram for the order hour of day\n",
    "hist_order_hour = insta_merge['orders_time_of_day'].plot.hist(bins=24, color='teal')\n",
    "\n",
    "# Add title and labels\n",
    "plt.title('Distribution of Orders by Hour')\n",
    "plt.xlabel('Hour of Day')\n",
    "plt.ylabel('Order Count')\n",
    "\n",
    "# Customize y-axis to disable scientific notation\n",
    "plt.ticklabel_format(style='plain', axis='y')\n",
    "\n",
    "plt.show()"
   ]
  },
  {
   "cell_type": "markdown",
   "id": "43e68dd4-b260-41b9-9fda-bc984f328e15",
   "metadata": {},
   "source": [
    "This histogram demonstrates that most orders occur between 8am and 4pm.\n",
    "Most orders occur at 9am.\n",
    "The least orders occur at 3am."
   ]
  },
  {
   "cell_type": "code",
   "execution_count": null,
   "id": "b32fb438-7e30-47b3-b800-cfc420981dcd",
   "metadata": {},
   "outputs": [],
   "source": [
    "# Export Histogram\n",
    "\n",
    "hist_order_hour.figure.savefig(os.path.join(path, '04 Analysis','Visualizations', 'histo_order_hour.png'))"
   ]
  },
  {
   "cell_type": "markdown",
   "id": "cfe4454f-61df-49b3-813a-190531aeb06d",
   "metadata": {},
   "source": [
    "### Step 4 - The marketing team is curious about the distribution of orders among customers in terms of loyalty. Create a bar chart from the “loyalty_flag” column."
   ]
  },
  {
   "cell_type": "code",
   "execution_count": null,
   "id": "5ee43dac-58ce-471d-8ef3-77370aaae38c",
   "metadata": {},
   "outputs": [],
   "source": [
    "# Create bar chart from loyalty flag column - will sort for ease of reference\n",
    "\n",
    "bar = insta_merge['order_frequency_flag'].value_counts().sort_index().plot.bar()"
   ]
  },
  {
   "cell_type": "markdown",
   "id": "b664f957-62f9-4fea-986a-e21380ab9ddb",
   "metadata": {},
   "source": [
    "Frequent customers order more than twice the volume of Regular customers. Regular cusstomers order about twice as much as Non-Frequent customers."
   ]
  },
  {
   "cell_type": "markdown",
   "id": "72d8e113-2bee-4188-82f5-25cdf48c8dde",
   "metadata": {},
   "source": [
    "### Step 5 - Check whether there’s a difference in expenditure (the “prices” column) depending on the hour of the day. (Hint: To check this, you need to use an accurate sample for your line chart!)"
   ]
  },
  {
   "cell_type": "code",
   "execution_count": null,
   "id": "669eaaf1-8c43-42e3-89e2-7a9c477ae3e4",
   "metadata": {},
   "outputs": [],
   "source": [
    "# Ensure compatible datatypes for insta_merge prior to creating sample\n",
    "\n",
    "insta_merge.info()"
   ]
  },
  {
   "cell_type": "code",
   "execution_count": null,
   "id": "31075cd0-35aa-48dd-b08c-856eaecd8c37",
   "metadata": {},
   "outputs": [],
   "source": [
    "# Create a sample from the dataframe\n",
    "# Begin by setting random seed\n",
    "\n",
    "np.random.seed(2)"
   ]
  },
  {
   "cell_type": "code",
   "execution_count": null,
   "id": "9f158c9f-fe7d-4d5c-9d77-3902b1df6905",
   "metadata": {},
   "outputs": [],
   "source": [
    "# Create dev dataframe to establish 70% sample\n",
    "\n",
    "dev = np.random.rand(len(insta_merge)) <= 0.7"
   ]
  },
  {
   "cell_type": "code",
   "execution_count": null,
   "id": "cbe5b1fe-a9cb-470a-88cc-f946c168caa6",
   "metadata": {},
   "outputs": [],
   "source": [
    "# Check output\n",
    "\n",
    "dev"
   ]
  },
  {
   "cell_type": "code",
   "execution_count": null,
   "id": "8b98f373-a8ed-4d05-b825-da9f7603c8b1",
   "metadata": {},
   "outputs": [],
   "source": [
    "# Use the dev list to split the dataframe into 2 samples\n",
    "\n",
    "big = insta_merge[dev]\n",
    "small = insta_merge[~dev]"
   ]
  },
  {
   "cell_type": "code",
   "execution_count": null,
   "id": "30ee199c-9d1b-4c65-869a-7285154a256e",
   "metadata": {},
   "outputs": [],
   "source": [
    "# Verify records with len\n",
    "\n",
    "len(insta_merge)"
   ]
  },
  {
   "cell_type": "code",
   "execution_count": null,
   "id": "8f58f848-a9d2-4cda-acef-28c1cdfd748e",
   "metadata": {},
   "outputs": [],
   "source": [
    "len(big) + len(small)"
   ]
  },
  {
   "cell_type": "markdown",
   "id": "da9f9e8c-ca6a-4e51-bab2-f7270f6ed8c1",
   "metadata": {},
   "source": [
    "The 32,404,859 records match. All records accounted for."
   ]
  },
  {
   "cell_type": "code",
   "execution_count": null,
   "id": "3e4ffe5b-8347-40e2-b3bb-8748be88cd8e",
   "metadata": {},
   "outputs": [],
   "source": [
    "# Create dataframe with small 30% randomized sample of data and relevant columns\n",
    "\n",
    "df_2 = small[['orders_time_of_day','prices']]"
   ]
  },
  {
   "cell_type": "code",
   "execution_count": null,
   "id": "e5badc52-8612-4280-8987-47d81c560504",
   "metadata": {},
   "outputs": [],
   "source": [
    "# Check output and data types\n",
    "\n",
    "df_2.head()"
   ]
  },
  {
   "cell_type": "code",
   "execution_count": null,
   "id": "cf43d4fc-cfe6-41ca-87fa-d028a258ae51",
   "metadata": {},
   "outputs": [],
   "source": [
    "df_2[['orders_time_of_day', 'prices']].dtypes"
   ]
  },
  {
   "cell_type": "code",
   "execution_count": null,
   "id": "4b9359f1-0f27-48fc-a637-5f0d03b41458",
   "metadata": {},
   "outputs": [],
   "source": [
    "# Plot Line Chart\n",
    "\n",
    "line = sns.lineplot(data = df_2, x = 'orders_time_of_day',y = 'prices')"
   ]
  },
  {
   "cell_type": "markdown",
   "id": "68f3fe81-238e-4994-9295-9490f5731bc3",
   "metadata": {},
   "source": [
    "The average price of orders increases at 3am and slowly declines to a trough at 9-10 am. The average price then rises steadily from 11am , peaking in the evening at 6:30 p.m."
   ]
  },
  {
   "cell_type": "markdown",
   "id": "e14d1305-444a-46d2-a5b6-864addfda133",
   "metadata": {},
   "source": [
    "This is interesting as the average price of orders actually decreases when the frequency of orders is at its peak (9am). "
   ]
  },
  {
   "cell_type": "markdown",
   "id": "7c8e9c25-1e68-416a-91b4-be27d412b1cf",
   "metadata": {},
   "source": [
    "Perhaps the higher volume of orders decreases the average prices if more of the orders are low cost items."
   ]
  },
  {
   "cell_type": "code",
   "execution_count": null,
   "id": "c8bcbd05-f1b9-4261-a29d-b4e25d3e1c2c",
   "metadata": {},
   "outputs": [],
   "source": [
    "# Export Line Chart \n",
    "\n",
    "line.figure.savefig(os.path.join(path, '04 Analysis','Visualizations', 'line_prices_time_of_day.png'))"
   ]
  },
  {
   "cell_type": "markdown",
   "id": "4d9e1e9b-4109-4080-b013-ba3452ed90d1",
   "metadata": {},
   "source": [
    "### Step 6 - Now that you have information about customers, you need to conduct some exploratory analysis of customer demographics to inform the targeted marketing campaigns. First, determine whether there’s a connection between age and family situation by creating a line chart exploring the connections between age and number of dependents: A: In a markdown cell beneath your line chart, describe what the line chart shows."
   ]
  },
  {
   "cell_type": "code",
   "execution_count": null,
   "id": "d2f135a6-8b91-42e9-94b7-93496f995bff",
   "metadata": {},
   "outputs": [],
   "source": [
    "# Create dataframe with small 30% randomized sample of data and relevant columns\n",
    "\n",
    "df_3 = small[['Age','n_dependants']]"
   ]
  },
  {
   "cell_type": "code",
   "execution_count": null,
   "id": "84d69f20-36bd-4d4d-82f8-473ead9377f0",
   "metadata": {},
   "outputs": [],
   "source": [
    "# Check output and data types\n",
    "\n",
    "df_3.head()"
   ]
  },
  {
   "cell_type": "code",
   "execution_count": null,
   "id": "b42679c5-965d-4aee-847d-506191a2aa6c",
   "metadata": {},
   "outputs": [],
   "source": [
    "df_3[['Age', 'n_dependants']].dtypes"
   ]
  },
  {
   "cell_type": "code",
   "execution_count": null,
   "id": "1ff6aab0-a7b9-4b79-9590-e8fe92945ff6",
   "metadata": {},
   "outputs": [],
   "source": [
    "# Plot Line Chart\n",
    "\n",
    "line_2 = sns.lineplot(data = df_3, x = 'Age',y = 'n_dependants')"
   ]
  },
  {
   "cell_type": "markdown",
   "id": "28b33fa7-5151-429f-8662-531c8db384b4",
   "metadata": {},
   "source": [
    "There is no correlation between a customer's age and the number of dependants."
   ]
  },
  {
   "cell_type": "code",
   "execution_count": null,
   "id": "2c166e88-225e-4e19-8aa5-def7de24a8b0",
   "metadata": {},
   "outputs": [],
   "source": [
    "# Export Line Chart of age and dependants \n",
    "\n",
    "line_2.figure.savefig(os.path.join(path, '04 Analysis','Visualizations', 'line_age_dependants.png'))"
   ]
  },
  {
   "cell_type": "markdown",
   "id": "7bc1f211-5a8d-4d58-a4e5-ba3a8f56c6c8",
   "metadata": {},
   "source": [
    "### Step 7 - You’ll also need to explore whether there’s a connection between age and spending power (income). To visualize this relationship, create a scatterplot using the sns.scatterplot() function. A: In a markdown cell beneath your scatterplot, describe what the scatterplot shows."
   ]
  },
  {
   "cell_type": "code",
   "execution_count": null,
   "id": "e7831dfa-379e-4478-b905-ccc383a4d8ea",
   "metadata": {},
   "outputs": [],
   "source": [
    "# Create dataframe with small 30% randomized sample of data and relevant columns\n",
    "\n",
    "df_4 = small[['Age','income']]"
   ]
  },
  {
   "cell_type": "code",
   "execution_count": null,
   "id": "48365d1a-6e54-41b5-974d-861911737101",
   "metadata": {},
   "outputs": [],
   "source": [
    "# Check output\n",
    "\n",
    "df_4.head()"
   ]
  },
  {
   "cell_type": "code",
   "execution_count": null,
   "id": "2f806c4c-a4f3-42e3-a51f-38ec6760a248",
   "metadata": {},
   "outputs": [],
   "source": [
    "# Create Scatterplot to explore the relationship between Age and Income\n",
    "\n",
    "scatter_age_income = sns.scatterplot(x='Age', y='income', data=df_4)"
   ]
  },
  {
   "cell_type": "markdown",
   "id": "b35736c6-09c2-448f-8891-32c40d11e075",
   "metadata": {},
   "source": [
    "There is a slight positive correlation between age and income. As age increases, income increases."
   ]
  },
  {
   "cell_type": "markdown",
   "id": "417fb221-0e68-49d5-ab91-b9b4de93252c",
   "metadata": {},
   "source": [
    "The concentration of income between 200000 and 300000 increases in customers aged 40-80. "
   ]
  },
  {
   "cell_type": "code",
   "execution_count": null,
   "id": "3594d823-45e0-4870-bc30-99bf754893c0",
   "metadata": {},
   "outputs": [],
   "source": [
    "# Export Scatterplot\n",
    "\n",
    "scatter_age_income.figure.savefig(os.path.join(path, '04 Analysis','Visualizations', 'scatter_age_income.png'))"
   ]
  },
  {
   "cell_type": "markdown",
   "id": "3a026c4c-e108-4217-b42c-21fa6caeb008",
   "metadata": {},
   "source": [
    "### Step 8 - Export your visualizations as “.png” files in your relevant project folder."
   ]
  },
  {
   "cell_type": "markdown",
   "id": "94c6d3e7-59f1-4683-99c3-9ae0a8419140",
   "metadata": {},
   "source": [
    "Histogram, line charts, and scatterplot have been exported (please reference the # Export comments)."
   ]
  },
  {
   "cell_type": "code",
   "execution_count": null,
   "id": "8dc01428-8241-4b23-8fc0-2a8bfccfffa6",
   "metadata": {},
   "outputs": [],
   "source": [
    "# Export Bar Chart\n",
    "\n",
    "bar.figure.savefig(os.path.join(path, '04 Analysis','Visualizations', 'bar_loyalty_orders.png'))"
   ]
  },
  {
   "cell_type": "markdown",
   "id": "b85122ef-575e-4215-938b-6e3db281b3c2",
   "metadata": {},
   "source": [
    "### Step 9 - Save your notebook from part 2 of this Exercise’s task."
   ]
  },
  {
   "cell_type": "markdown",
   "id": "568991be-dfda-44e6-b282-4b368de36809",
   "metadata": {},
   "source": [
    "### Step 10 - Submit your notebooks for both the first and second parts of this task to your tutor for review."
   ]
  },
  {
   "cell_type": "code",
   "execution_count": null,
   "id": "735af278-4f9d-4209-b5fe-e73ab5e38130",
   "metadata": {},
   "outputs": [],
   "source": []
  }
 ],
 "metadata": {
  "kernelspec": {
   "display_name": "Python 3 (ipykernel)",
   "language": "python",
   "name": "python3"
  },
  "language_info": {
   "codemirror_mode": {
    "name": "ipython",
    "version": 3
   },
   "file_extension": ".py",
   "mimetype": "text/x-python",
   "name": "python",
   "nbconvert_exporter": "python",
   "pygments_lexer": "ipython3",
   "version": "3.11.5"
  }
 },
 "nbformat": 4,
 "nbformat_minor": 5
}
